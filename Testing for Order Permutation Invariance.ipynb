{
 "cells": [
  {
   "cell_type": "markdown",
   "metadata": {},
   "source": [
    "# Testing for Order Permutation Invariance"
   ]
  },
  {
   "cell_type": "code",
   "execution_count": 75,
   "metadata": {},
   "outputs": [
    {
     "name": "stdout",
     "output_type": "stream",
     "text": [
      "The autoreload extension is already loaded. To reload it, use:\n",
      "  %reload_ext autoreload\n"
     ]
    }
   ],
   "source": [
    "import torch\n",
    "import torch.optim as optim\n",
    "import torchvision\n",
    "import numpy as np\n",
    "import cv2\n",
    "import matplotlib.pyplot as plt\n",
    "%matplotlib inline\n",
    "\n",
    "import seaborn as sns\n",
    "sns.set(\"paper\", rc={\"font.size\":20,\n",
    "                     \"axes.titlesize\":25,\n",
    "                     \"axes.labelsize\":20,\n",
    "                     \"lines.linewidth\":2,\n",
    "                     \"lines.markersize\":5,\n",
    "                     \"xtick.labelsize\":14,\n",
    "                     \"ytick.labelsize\":14}) \n",
    "\n",
    "sns.set_palette(sns.cubehelix_palette(10, start=.5, rot=-.75))\n",
    "\n",
    "from models import *\n",
    "from utils import *\n",
    "%load_ext autoreload\n",
    "%autoreload 2"
   ]
  },
  {
   "cell_type": "code",
   "execution_count": 2,
   "metadata": {},
   "outputs": [
    {
     "name": "stdout",
     "output_type": "stream",
     "text": [
      "CUDA is available!\n"
     ]
    }
   ],
   "source": [
    "# check if CUDA is available\n",
    "device = torch.device(\"cpu\")\n",
    "use_cuda = False\n",
    "if torch.cuda.is_available():\n",
    "    print('CUDA is available!')\n",
    "    device = torch.device(\"cuda\")\n",
    "    use_cuda = True\n",
    "else:\n",
    "    print('CUDA is not available.')"
   ]
  },
  {
   "cell_type": "markdown",
   "metadata": {},
   "source": [
    "### Load Models"
   ]
  },
  {
   "cell_type": "code",
   "execution_count": 3,
   "metadata": {},
   "outputs": [
    {
     "name": "stdout",
     "output_type": "stream",
     "text": [
      "loading model pretrained_models/mnist\\model_FCNet5_2019-10-01 19.54.00.177928_97.96.pth\n",
      "loading model pretrained_models/mnist\\model_FCNet10_2019-10-01 20.00.52.119894_97.92.pth\n",
      "loading model pretrained_models/mnist\\model_Conv1DNet_2019-10-02 00.20.02.430722_98.17.pth\n",
      "loading model pretrained_models/mnist\\model_Conv2DNet_2019-07-25 16.16.26.580052_98.82.pth\n"
     ]
    }
   ],
   "source": [
    "## FCNet5\n",
    "fcnet5 = FCNet5().to(device)\n",
    "fcnet5, _  = get_pretrained_weights(fcnet5) \n",
    "\n",
    "## FCNet10\n",
    "fcnet10 = FCNet10().to(device) \n",
    "fcnet10, _  = get_pretrained_weights(fcnet10)\n",
    "\n",
    "## Conv1DNet\n",
    "conv1dnet = Conv1DNet().to(device)\n",
    "conv1dnet, _  = get_pretrained_weights(conv1dnet)\n",
    "\n",
    "## Conv2DNet\n",
    "conv2dnet = Conv2DNet().to(device)\n",
    "conv2dnet, _  = get_pretrained_weights(conv2dnet)"
   ]
  },
  {
   "cell_type": "markdown",
   "metadata": {},
   "source": [
    "## Separating inputs by class\n",
    "Allows us to recreate new distributions to train / test upon. "
   ]
  },
  {
   "cell_type": "code",
   "execution_count": 4,
   "metadata": {},
   "outputs": [],
   "source": [
    "shape=(-1,1,28,28)"
   ]
  },
  {
   "cell_type": "code",
   "execution_count": 5,
   "metadata": {},
   "outputs": [],
   "source": [
    "def stratify_dataset(dataset, shape=(-1,1,28,28), reverse=False, return_set=True):\n",
    "    X, y = [], []\n",
    "    for target in dataset.targets.unique():\n",
    "        idx = dataset.targets == target\n",
    "        target_data = dataset.data[idx].float().view(shape)\n",
    "        target_labels = dataset.targets[idx]\n",
    "        X.append(target_data)\n",
    "        y.append(target_labels)\n",
    "    X, y = torch.cat(X) / 255, torch.cat(y)\n",
    "    if reverse:\n",
    "        X, y = reverse_order(X), reverse_order(y)\n",
    "    if return_set:\n",
    "        return torch.utils.data.TensorDataset(X, y)\n",
    "    return X, y\n",
    "\n",
    "def reverse_order(tensor):\n",
    "    return tensor.flip((0))\n",
    "\n",
    "def display_img(tensor):\n",
    "    img = tensor.cpu().numpy().astype(np.uint8).squeeze()\n",
    "    print(img.shape)\n",
    "    plt.imshow(img)\n",
    "    plt.show()"
   ]
  },
  {
   "cell_type": "code",
   "execution_count": 6,
   "metadata": {},
   "outputs": [],
   "source": [
    "data_dir = \"C:\\data\\MNIST\"\n",
    "\n",
    "#original datasets\n",
    "data_train = torchvision.datasets.MNIST(data_dir, \n",
    "                                        train=True, \n",
    "                                        download=True,\n",
    "                                        transform=torchvision.transforms.Compose([\n",
    "                                           torchvision.transforms.ToTensor()\n",
    "                                        ]))\n",
    "\n",
    "data_test = torchvision.datasets.MNIST(data_dir, \n",
    "                                       train=False, \n",
    "                                       download=True,\n",
    "                                       transform=torchvision.transforms.Compose([\n",
    "                                         torchvision.transforms.ToTensor()\n",
    "                                       ]))\n",
    "\n",
    "# stratified datasets\n",
    "data_train_s = stratify_dataset(data_train, reverse=False, return_set=True)\n",
    "data_test_s = stratify_dataset(data_test, reverse=False, return_set=True)\n",
    "\n",
    "# reverse stratified datasets\n",
    "data_train_sr = stratify_dataset(data_train, reverse=True, return_set=True)\n",
    "data_test_sr = stratify_dataset(data_test, reverse=True, return_set=True)"
   ]
  },
  {
   "cell_type": "code",
   "execution_count": 7,
   "metadata": {},
   "outputs": [],
   "source": [
    "# original data\n",
    "X_train, y_train = data_train.data.float().view(shape) / 255, data_train.targets\n",
    "X_test, y_test = data_test.data.float().view(shape) / 255, data_test.targets"
   ]
  },
  {
   "cell_type": "code",
   "execution_count": 8,
   "metadata": {},
   "outputs": [],
   "source": [
    "# stratified dataset\n",
    "X_train_s, y_train_s = stratify_dataset(data_train, reverse=False, return_set=False)\n",
    "X_test_s, y_test_s = stratify_dataset(data_test, reverse=False, return_set=False)"
   ]
  },
  {
   "cell_type": "code",
   "execution_count": 9,
   "metadata": {},
   "outputs": [],
   "source": [
    "# reverse stratified dataset\n",
    "X_train_sr, y_train_sr = stratify_dataset(data_train, reverse=True, return_set=False)\n",
    "X_test_sr, y_test_sr = stratify_dataset(data_test, reverse=True, return_set=False)"
   ]
  },
  {
   "cell_type": "markdown",
   "metadata": {},
   "source": [
    "## Accuracy Per Class"
   ]
  },
  {
   "cell_type": "code",
   "execution_count": 331,
   "metadata": {},
   "outputs": [
    {
     "name": "stdout",
     "output_type": "stream",
     "text": [
      "original\n",
      "model_type: FCNet5 \t label: 0 \t count: 980 \t acc: 0.9928571581840515\n",
      "model_type: FCNet5 \t label: 1 \t count: 1135 \t acc: 0.9894273281097412\n",
      "model_type: FCNet5 \t label: 2 \t count: 1032 \t acc: 0.9757751822471619\n",
      "model_type: FCNet5 \t label: 3 \t count: 1010 \t acc: 0.9881188273429871\n",
      "model_type: FCNet5 \t label: 4 \t count: 982 \t acc: 0.9867616891860962\n",
      "model_type: FCNet5 \t label: 5 \t count: 892 \t acc: 0.9865471124649048\n",
      "model_type: FCNet5 \t label: 6 \t count: 958 \t acc: 0.9843423962593079\n",
      "model_type: FCNet5 \t label: 7 \t count: 1028 \t acc: 0.9717898964881897\n",
      "model_type: FCNet5 \t label: 8 \t count: 974 \t acc: 0.9517453908920288\n",
      "model_type: FCNet5 \t label: 9 \t count: 1009 \t acc: 0.9682854413986206\n",
      "model_type: FCNet5 \t label: all \t count: 10000 \t acc: 0.9796000123023987 \n",
      "\n",
      "model_type: FCNet10 \t label: 0 \t count: 980 \t acc: 0.9908163547515869\n",
      "model_type: FCNet10 \t label: 1 \t count: 1135 \t acc: 0.9876651763916016\n",
      "model_type: FCNet10 \t label: 2 \t count: 1032 \t acc: 0.9883720874786377\n",
      "model_type: FCNet10 \t label: 3 \t count: 1010 \t acc: 0.9792079329490662\n",
      "model_type: FCNet10 \t label: 4 \t count: 982 \t acc: 0.9806517362594604\n",
      "model_type: FCNet10 \t label: 5 \t count: 892 \t acc: 0.9831838607788086\n",
      "model_type: FCNet10 \t label: 6 \t count: 958 \t acc: 0.9791231751441956\n",
      "model_type: FCNet10 \t label: 7 \t count: 1028 \t acc: 0.9844357967376709\n",
      "model_type: FCNet10 \t label: 8 \t count: 974 \t acc: 0.9702258706092834\n",
      "model_type: FCNet10 \t label: 9 \t count: 1009 \t acc: 0.9474727511405945\n",
      "model_type: FCNet10 \t label: all \t count: 10000 \t acc: 0.979200005531311 \n",
      "\n",
      "model_type: Conv1DNet \t label: 0 \t count: 980 \t acc: 0.9918367266654968\n",
      "model_type: Conv1DNet \t label: 1 \t count: 1135 \t acc: 0.9938325881958008\n",
      "model_type: Conv1DNet \t label: 2 \t count: 1032 \t acc: 0.9825581312179565\n",
      "model_type: Conv1DNet \t label: 3 \t count: 1010 \t acc: 0.9663366079330444\n",
      "model_type: Conv1DNet \t label: 4 \t count: 982 \t acc: 0.9877800345420837\n",
      "model_type: Conv1DNet \t label: 5 \t count: 892 \t acc: 0.9798206090927124\n",
      "model_type: Conv1DNet \t label: 6 \t count: 958 \t acc: 0.9791231751441956\n",
      "model_type: Conv1DNet \t label: 7 \t count: 1028 \t acc: 0.9776264429092407\n",
      "model_type: Conv1DNet \t label: 8 \t count: 974 \t acc: 0.9938398599624634\n",
      "model_type: Conv1DNet \t label: 9 \t count: 1009 \t acc: 0.9633300304412842\n",
      "model_type: Conv1DNet \t label: all \t count: 10000 \t acc: 0.9817000031471252 \n",
      "\n",
      "model_type: Conv2DNet \t label: 0 \t count: 980 \t acc: 0.9959183931350708\n",
      "model_type: Conv2DNet \t label: 1 \t count: 1135 \t acc: 0.9964757561683655\n",
      "model_type: Conv2DNet \t label: 2 \t count: 1032 \t acc: 0.9893410801887512\n",
      "model_type: Conv2DNet \t label: 3 \t count: 1010 \t acc: 0.9841583967208862\n",
      "model_type: Conv2DNet \t label: 4 \t count: 982 \t acc: 0.9979633688926697\n",
      "model_type: Conv2DNet \t label: 5 \t count: 892 \t acc: 0.9887892603874207\n",
      "model_type: Conv2DNet \t label: 6 \t count: 958 \t acc: 0.9916492700576782\n",
      "model_type: Conv2DNet \t label: 7 \t count: 1028 \t acc: 0.9766536951065063\n",
      "model_type: Conv2DNet \t label: 8 \t count: 974 \t acc: 0.9866529703140259\n",
      "model_type: Conv2DNet \t label: 9 \t count: 1009 \t acc: 0.9742318987846375\n",
      "model_type: Conv2DNet \t label: all \t count: 10000 \t acc: 0.9882000088691711 \n",
      "\n"
     ]
    }
   ],
   "source": [
    "for X, y, desc in [(X_test, y_test, 'original')]:\n",
    "    print(desc)\n",
    "    for model in [fcnet5, fcnet10, conv1dnet, conv2dnet]:\n",
    "        model.cpu()\n",
    "        model.eval()\n",
    "        model_type = model.__class__.__name__\n",
    "        for i in y_test_s.unique():\n",
    "            idx = y == i\n",
    "            X_ = X[idx]\n",
    "            y_ = y[idx]\n",
    "            acc = get_accuracy(model, X_, y_)\n",
    "            print('model_type:', model_type, '\\t', \n",
    "                  'label:', i.item(), '\\t', \n",
    "                  'count:', len(y_), '\\t',\n",
    "                  'acc:', acc.item())\n",
    "        acc = get_accuracy(model, X, y)\n",
    "        print('model_type:', model_type, '\\t', \n",
    "              'label:', 'all', '\\t', \n",
    "              'count:', len(y), '\\t',\n",
    "              'acc:', acc.item(), '\\n')"
   ]
  },
  {
   "cell_type": "markdown",
   "metadata": {},
   "source": [
    "## Evaluate Permutation on Inference"
   ]
  },
  {
   "cell_type": "markdown",
   "metadata": {},
   "source": [
    "### Prediction per Model"
   ]
  },
  {
   "cell_type": "code",
   "execution_count": 332,
   "metadata": {
    "scrolled": true
   },
   "outputs": [
    {
     "name": "stdout",
     "output_type": "stream",
     "text": [
      "original\n",
      "model_type: FCNet5 \t acc: 0.9796000123023987\n",
      "model_type: FCNet10 \t acc: 0.979200005531311\n",
      "model_type: Conv1DNet \t acc: 0.9817000031471252\n",
      "model_type: Conv2DNet \t acc: 0.9882000088691711\n",
      "\n",
      "stratified\n",
      "model_type: FCNet5 \t acc: 0.9796000123023987\n",
      "model_type: FCNet10 \t acc: 0.979200005531311\n",
      "model_type: Conv1DNet \t acc: 0.9817000031471252\n",
      "model_type: Conv2DNet \t acc: 0.9882000088691711\n",
      "\n",
      "reverse stratified\n",
      "model_type: FCNet5 \t acc: 0.9796000123023987\n",
      "model_type: FCNet10 \t acc: 0.979200005531311\n",
      "model_type: Conv1DNet \t acc: 0.9817000031471252\n",
      "model_type: Conv2DNet \t acc: 0.9882000088691711\n",
      "\n"
     ]
    }
   ],
   "source": [
    "for X, y, desc in [(X_test, y_test, 'original'), \n",
    "                   (X_test_s, y_test_s, 'stratified'), \n",
    "                   (X_test_sr, y_test_sr, 'reverse stratified')]:\n",
    "    print(desc)\n",
    "    for model in [fcnet5, fcnet10, conv1dnet, conv2dnet]:\n",
    "        model.cpu()\n",
    "        model.eval()\n",
    "        model_type = model.__class__.__name__\n",
    "        acc = get_accuracy(model, X, y)\n",
    "        print('model_type:', model_type, '\\t', 'acc:', acc.item())\n",
    "    print('')"
   ]
  },
  {
   "cell_type": "markdown",
   "metadata": {},
   "source": [
    "The ordering of the inputs does not affect prediction. "
   ]
  },
  {
   "cell_type": "markdown",
   "metadata": {},
   "source": [
    "## Evaluate Permutation on Training"
   ]
  },
  {
   "cell_type": "code",
   "execution_count": 11,
   "metadata": {},
   "outputs": [
    {
     "data": {
      "text/plain": [
       "<torch._C.Generator at 0x1fc79d15630>"
      ]
     },
     "execution_count": 11,
     "metadata": {},
     "output_type": "execute_result"
    }
   ],
   "source": [
    "random_seed = 1\n",
    "torch.manual_seed(random_seed)"
   ]
  },
  {
   "cell_type": "code",
   "execution_count": 12,
   "metadata": {},
   "outputs": [],
   "source": [
    "batch_size_train = 10\n",
    "batch_size_test = 100"
   ]
  },
  {
   "cell_type": "markdown",
   "metadata": {},
   "source": [
    "### Stratified"
   ]
  },
  {
   "cell_type": "code",
   "execution_count": 77,
   "metadata": {},
   "outputs": [],
   "source": [
    "train_s_loader = torch.utils.data.DataLoader(data_train_s,\n",
    "    batch_size=batch_size_train, shuffle=False, pin_memory=True)\n",
    "\n",
    "test_s_loader = torch.utils.data.DataLoader(data_test_s,\n",
    "    batch_size=batch_size_test, shuffle=False, pin_memory=True)"
   ]
  },
  {
   "cell_type": "code",
   "execution_count": 14,
   "metadata": {
    "collapsed": true
   },
   "outputs": [
    {
     "name": "stdout",
     "output_type": "stream",
     "text": [
      "training for model FCNet5\n",
      "Train Epoch: 1 [0/60000 (0%)] \t Loss: 2.395158\n",
      "Train Epoch: 1 [100/60000 (0%)] \t Loss: 2.188215\n",
      "Train Epoch: 1 [200/60000 (0%)] \t Loss: 1.955820\n",
      "Train Epoch: 1 [300/60000 (0%)] \t Loss: 1.709948\n",
      "Train Epoch: 1 [400/60000 (1%)] \t Loss: 1.448674\n",
      "Train Epoch: 1 [500/60000 (1%)] \t Loss: 1.132358\n",
      "Train Epoch: 1 [600/60000 (1%)] \t Loss: 0.723799\n",
      "Train Epoch: 1 [700/60000 (1%)] \t Loss: 0.390742\n",
      "Train Epoch: 1 [800/60000 (1%)] \t Loss: 0.208495\n",
      "Train Epoch: 1 [900/60000 (2%)] \t Loss: 0.095392\n",
      "Train Epoch: 1 [1000/60000 (2%)] \t Loss: 0.050205\n",
      "Train Epoch: 1 [1100/60000 (2%)] \t Loss: 0.017825\n",
      "Train Epoch: 1 [1200/60000 (2%)] \t Loss: 0.049943\n",
      "Train Epoch: 1 [1300/60000 (2%)] \t Loss: 0.005850\n",
      "Train Epoch: 1 [1400/60000 (2%)] \t Loss: 0.012031\n",
      "Train Epoch: 1 [1500/60000 (2%)] \t Loss: 0.058844\n",
      "Train Epoch: 1 [1600/60000 (3%)] \t Loss: 0.029538\n",
      "Train Epoch: 1 [1700/60000 (3%)] \t Loss: 0.002957\n",
      "Train Epoch: 1 [1800/60000 (3%)] \t Loss: 0.002312\n",
      "Train Epoch: 1 [1900/60000 (3%)] \t Loss: 0.005002\n",
      "Train Epoch: 1 [2000/60000 (3%)] \t Loss: 0.007948\n",
      "Train Epoch: 1 [2100/60000 (4%)] \t Loss: 0.002161\n",
      "Train Epoch: 1 [2200/60000 (4%)] \t Loss: 0.000813\n",
      "Train Epoch: 1 [2300/60000 (4%)] \t Loss: 0.018477\n",
      "Train Epoch: 1 [2400/60000 (4%)] \t Loss: 0.003045\n",
      "Train Epoch: 1 [2500/60000 (4%)] \t Loss: 0.014283\n",
      "Train Epoch: 1 [2600/60000 (4%)] \t Loss: 0.006242\n",
      "Train Epoch: 1 [2700/60000 (4%)] \t Loss: 0.001804\n",
      "Train Epoch: 1 [2800/60000 (5%)] \t Loss: 0.000303\n",
      "Train Epoch: 1 [2900/60000 (5%)] \t Loss: 0.000788\n",
      "Train Epoch: 1 [3000/60000 (5%)] \t Loss: 0.000147\n",
      "Train Epoch: 1 [3100/60000 (5%)] \t Loss: 0.002923\n",
      "Train Epoch: 1 [3200/60000 (5%)] \t Loss: 0.002763\n",
      "Train Epoch: 1 [3300/60000 (6%)] \t Loss: 0.001570\n",
      "Train Epoch: 1 [3400/60000 (6%)] \t Loss: 0.000789\n",
      "Train Epoch: 1 [3500/60000 (6%)] \t Loss: 0.001135\n",
      "Train Epoch: 1 [3600/60000 (6%)] \t Loss: 0.001684\n",
      "Train Epoch: 1 [3700/60000 (6%)] \t Loss: 0.005186\n",
      "Train Epoch: 1 [3800/60000 (6%)] \t Loss: 0.000243\n",
      "Train Epoch: 1 [3900/60000 (6%)] \t Loss: 0.000072\n",
      "Train Epoch: 1 [4000/60000 (7%)] \t Loss: 0.008081\n",
      "Train Epoch: 1 [4100/60000 (7%)] \t Loss: 0.003932\n",
      "Train Epoch: 1 [4200/60000 (7%)] \t Loss: 0.002430\n",
      "Train Epoch: 1 [4300/60000 (7%)] \t Loss: 0.000104\n",
      "Train Epoch: 1 [4400/60000 (7%)] \t Loss: 0.010651\n",
      "Train Epoch: 1 [4500/60000 (8%)] \t Loss: 0.000586\n",
      "Train Epoch: 1 [4600/60000 (8%)] \t Loss: 0.010248\n",
      "Train Epoch: 1 [4700/60000 (8%)] \t Loss: 0.001013\n",
      "Train Epoch: 1 [4800/60000 (8%)] \t Loss: 0.000069\n",
      "Train Epoch: 1 [4900/60000 (8%)] \t Loss: 0.000782\n",
      "Train Epoch: 1 [5000/60000 (8%)] \t Loss: 0.000445\n",
      "Train Epoch: 1 [5100/60000 (8%)] \t Loss: 0.000394\n",
      "Train Epoch: 1 [5200/60000 (9%)] \t Loss: 0.001049\n",
      "Train Epoch: 1 [5300/60000 (9%)] \t Loss: 0.000813\n",
      "Train Epoch: 1 [5400/60000 (9%)] \t Loss: 0.002396\n",
      "Train Epoch: 1 [5500/60000 (9%)] \t Loss: 0.000594\n",
      "Train Epoch: 1 [5600/60000 (9%)] \t Loss: 0.001613\n",
      "Train Epoch: 1 [5700/60000 (10%)] \t Loss: 0.000160\n",
      "Train Epoch: 1 [5800/60000 (10%)] \t Loss: 0.000055\n",
      "Train Epoch: 1 [5900/60000 (10%)] \t Loss: 0.000397\n",
      "Train Epoch: 1 [6000/60000 (10%)] \t Loss: 2.437116\n",
      "Train Epoch: 1 [6100/60000 (10%)] \t Loss: 1.852656\n",
      "Train Epoch: 1 [6200/60000 (10%)] \t Loss: 1.285947\n",
      "Train Epoch: 1 [6300/60000 (10%)] \t Loss: 0.548053\n",
      "Train Epoch: 1 [6400/60000 (11%)] \t Loss: 0.160845\n",
      "Train Epoch: 1 [6500/60000 (11%)] \t Loss: 0.050275\n",
      "Train Epoch: 1 [6600/60000 (11%)] \t Loss: 0.067602\n",
      "Train Epoch: 1 [6700/60000 (11%)] \t Loss: 0.030068\n",
      "Train Epoch: 1 [6800/60000 (11%)] \t Loss: 0.027739\n",
      "Train Epoch: 1 [6900/60000 (12%)] \t Loss: 0.004249\n",
      "Train Epoch: 1 [7000/60000 (12%)] \t Loss: 0.014383\n",
      "Train Epoch: 1 [7100/60000 (12%)] \t Loss: 0.004800\n",
      "Train Epoch: 1 [7200/60000 (12%)] \t Loss: 0.007828\n",
      "Train Epoch: 1 [7300/60000 (12%)] \t Loss: 0.002309\n",
      "Train Epoch: 1 [7400/60000 (12%)] \t Loss: 0.001707\n",
      "Train Epoch: 1 [7500/60000 (12%)] \t Loss: 0.002341\n",
      "Train Epoch: 1 [7600/60000 (13%)] \t Loss: 0.007932\n",
      "Train Epoch: 1 [7700/60000 (13%)] \t Loss: 0.005864\n",
      "Train Epoch: 1 [7800/60000 (13%)] \t Loss: 0.002338\n",
      "Train Epoch: 1 [7900/60000 (13%)] \t Loss: 0.000373\n",
      "Train Epoch: 1 [8000/60000 (13%)] \t Loss: 0.008215\n",
      "Train Epoch: 1 [8100/60000 (14%)] \t Loss: 0.000804\n",
      "Train Epoch: 1 [8200/60000 (14%)] \t Loss: 0.003439\n",
      "Train Epoch: 1 [8300/60000 (14%)] \t Loss: 0.004049\n"
     ]
    },
    {
     "ename": "KeyboardInterrupt",
     "evalue": "",
     "output_type": "error",
     "traceback": [
      "\u001b[1;31m---------------------------------------------------------------------------\u001b[0m",
      "\u001b[1;31mKeyboardInterrupt\u001b[0m                         Traceback (most recent call last)",
      "\u001b[1;32m<ipython-input-14-c771a0d51b26>\u001b[0m in \u001b[0;36m<module>\u001b[1;34m\u001b[0m\n\u001b[0;32m     13\u001b[0m \u001b[1;33m\u001b[0m\u001b[0m\n\u001b[0;32m     14\u001b[0m     \u001b[1;32mfor\u001b[0m \u001b[0mepoch\u001b[0m \u001b[1;32min\u001b[0m \u001b[0mrange\u001b[0m\u001b[1;33m(\u001b[0m\u001b[1;36m1\u001b[0m\u001b[1;33m,\u001b[0m \u001b[0mn_epochs\u001b[0m \u001b[1;33m+\u001b[0m \u001b[1;36m1\u001b[0m\u001b[1;33m)\u001b[0m\u001b[1;33m:\u001b[0m\u001b[1;33m\u001b[0m\u001b[1;33m\u001b[0m\u001b[0m\n\u001b[1;32m---> 15\u001b[1;33m         \u001b[0mtrain\u001b[0m\u001b[1;33m(\u001b[0m\u001b[0mmodel\u001b[0m\u001b[1;33m,\u001b[0m \u001b[0mdevice\u001b[0m\u001b[1;33m,\u001b[0m \u001b[0mtrain_s_loader\u001b[0m\u001b[1;33m,\u001b[0m \u001b[0moptimizer\u001b[0m\u001b[1;33m,\u001b[0m \u001b[0mepoch\u001b[0m\u001b[1;33m)\u001b[0m\u001b[1;33m\u001b[0m\u001b[1;33m\u001b[0m\u001b[0m\n\u001b[0m\u001b[0;32m     16\u001b[0m         \u001b[0macc\u001b[0m \u001b[1;33m=\u001b[0m \u001b[0mtest\u001b[0m\u001b[1;33m(\u001b[0m\u001b[0mmodel\u001b[0m\u001b[1;33m,\u001b[0m \u001b[0mdevice\u001b[0m\u001b[1;33m,\u001b[0m \u001b[0mtest_s_loader\u001b[0m\u001b[1;33m)\u001b[0m\u001b[1;33m\u001b[0m\u001b[1;33m\u001b[0m\u001b[0m\n\u001b[0;32m     17\u001b[0m \u001b[1;33m\u001b[0m\u001b[0m\n",
      "\u001b[1;32m~\\Dropbox\\UCLA\\research\\MRs\\models.py\u001b[0m in \u001b[0;36mtrain\u001b[1;34m(model, device, train_loader, optimizer, epoch, loss_fn, data_augmentor)\u001b[0m\n\u001b[0;32m    359\u001b[0m         \u001b[0moutput\u001b[0m \u001b[1;33m=\u001b[0m \u001b[0mmodel\u001b[0m\u001b[1;33m(\u001b[0m\u001b[0mdata\u001b[0m\u001b[1;33m)\u001b[0m\u001b[1;33m\u001b[0m\u001b[1;33m\u001b[0m\u001b[0m\n\u001b[0;32m    360\u001b[0m         \u001b[0mloss\u001b[0m \u001b[1;33m=\u001b[0m \u001b[0mloss_fn\u001b[0m\u001b[1;33m(\u001b[0m\u001b[0moutput\u001b[0m\u001b[1;33m,\u001b[0m \u001b[0mtarget\u001b[0m\u001b[1;33m)\u001b[0m\u001b[1;33m\u001b[0m\u001b[1;33m\u001b[0m\u001b[0m\n\u001b[1;32m--> 361\u001b[1;33m         \u001b[0mloss\u001b[0m\u001b[1;33m.\u001b[0m\u001b[0mbackward\u001b[0m\u001b[1;33m(\u001b[0m\u001b[1;33m)\u001b[0m\u001b[1;33m\u001b[0m\u001b[1;33m\u001b[0m\u001b[0m\n\u001b[0m\u001b[0;32m    362\u001b[0m         \u001b[0moptimizer\u001b[0m\u001b[1;33m.\u001b[0m\u001b[0mstep\u001b[0m\u001b[1;33m(\u001b[0m\u001b[1;33m)\u001b[0m\u001b[1;33m\u001b[0m\u001b[1;33m\u001b[0m\u001b[0m\n\u001b[0;32m    363\u001b[0m         \u001b[1;32mif\u001b[0m \u001b[0mbatch_idx\u001b[0m \u001b[1;33m%\u001b[0m \u001b[1;36m10\u001b[0m \u001b[1;33m==\u001b[0m \u001b[1;36m0\u001b[0m\u001b[1;33m:\u001b[0m\u001b[1;33m\u001b[0m\u001b[1;33m\u001b[0m\u001b[0m\n",
      "\u001b[1;32m~\\AppData\\Local\\Continuum\\anaconda3\\lib\\site-packages\\torch\\tensor.py\u001b[0m in \u001b[0;36mbackward\u001b[1;34m(self, gradient, retain_graph, create_graph)\u001b[0m\n\u001b[0;32m    196\u001b[0m                 \u001b[0mproducts\u001b[0m\u001b[1;33m.\u001b[0m \u001b[0mDefaults\u001b[0m \u001b[0mto\u001b[0m\u001b[0;31m \u001b[0m\u001b[0;31m`\u001b[0m\u001b[0;31m`\u001b[0m\u001b[1;32mFalse\u001b[0m\u001b[0;31m`\u001b[0m\u001b[0;31m`\u001b[0m\u001b[1;33m.\u001b[0m\u001b[1;33m\u001b[0m\u001b[1;33m\u001b[0m\u001b[0m\n\u001b[0;32m    197\u001b[0m         \"\"\"\n\u001b[1;32m--> 198\u001b[1;33m         \u001b[0mtorch\u001b[0m\u001b[1;33m.\u001b[0m\u001b[0mautograd\u001b[0m\u001b[1;33m.\u001b[0m\u001b[0mbackward\u001b[0m\u001b[1;33m(\u001b[0m\u001b[0mself\u001b[0m\u001b[1;33m,\u001b[0m \u001b[0mgradient\u001b[0m\u001b[1;33m,\u001b[0m \u001b[0mretain_graph\u001b[0m\u001b[1;33m,\u001b[0m \u001b[0mcreate_graph\u001b[0m\u001b[1;33m)\u001b[0m\u001b[1;33m\u001b[0m\u001b[1;33m\u001b[0m\u001b[0m\n\u001b[0m\u001b[0;32m    199\u001b[0m \u001b[1;33m\u001b[0m\u001b[0m\n\u001b[0;32m    200\u001b[0m     \u001b[1;32mdef\u001b[0m \u001b[0mregister_hook\u001b[0m\u001b[1;33m(\u001b[0m\u001b[0mself\u001b[0m\u001b[1;33m,\u001b[0m \u001b[0mhook\u001b[0m\u001b[1;33m)\u001b[0m\u001b[1;33m:\u001b[0m\u001b[1;33m\u001b[0m\u001b[1;33m\u001b[0m\u001b[0m\n",
      "\u001b[1;32m~\\AppData\\Local\\Continuum\\anaconda3\\lib\\site-packages\\torch\\autograd\\__init__.py\u001b[0m in \u001b[0;36mbackward\u001b[1;34m(tensors, grad_tensors, retain_graph, create_graph, grad_variables)\u001b[0m\n\u001b[0;32m     98\u001b[0m     Variable._execution_engine.run_backward(\n\u001b[0;32m     99\u001b[0m         \u001b[0mtensors\u001b[0m\u001b[1;33m,\u001b[0m \u001b[0mgrad_tensors\u001b[0m\u001b[1;33m,\u001b[0m \u001b[0mretain_graph\u001b[0m\u001b[1;33m,\u001b[0m \u001b[0mcreate_graph\u001b[0m\u001b[1;33m,\u001b[0m\u001b[1;33m\u001b[0m\u001b[1;33m\u001b[0m\u001b[0m\n\u001b[1;32m--> 100\u001b[1;33m         allow_unreachable=True)  # allow_unreachable flag\n\u001b[0m\u001b[0;32m    101\u001b[0m \u001b[1;33m\u001b[0m\u001b[0m\n\u001b[0;32m    102\u001b[0m \u001b[1;33m\u001b[0m\u001b[0m\n",
      "\u001b[1;31mKeyboardInterrupt\u001b[0m: "
     ]
    }
   ],
   "source": [
    "n_epochs = 100\n",
    "\n",
    "save_dir = 'pretrained_models/mnist/permutation/stratified/'\n",
    "\n",
    "for model in [FCNet5, FCNet10, Conv1DNet, Conv2DNet]:\n",
    "    \n",
    "    model = model().to(device)\n",
    "    optimizer = optim.SGD(model.parameters(), lr=0.01, momentum=0.5)\n",
    "\n",
    "    m_type = model.__class__.__name__\n",
    "    \n",
    "    print('training for model', m_type)\n",
    "    \n",
    "    for epoch in range(1, n_epochs + 1):\n",
    "        train(model, device, train_s_loader, optimizer, epoch)\n",
    "        acc = test(model, device, test_s_loader)  \n",
    "\n",
    "    torch.save(model.state_dict(), save_dir + 'model_' + m_type + '_' + str(datetime.date.today()) + '_' + str(acc) + '.pth')"
   ]
  },
  {
   "cell_type": "code",
   "execution_count": 78,
   "metadata": {},
   "outputs": [
    {
     "name": "stdout",
     "output_type": "stream",
     "text": [
      "loading model pretrained_models/mnist/permutation/stratified\\model_FCNet5_2020-05-17_e100_61.24.pth\n",
      "loading model pretrained_models/mnist/permutation/stratified\\model_FCNet10_2020-05-17_e100_10.09.pth\n",
      "loading model pretrained_models/mnist/permutation/stratified\\model_Conv1DNet_2020-05-17_e100_10.09.pth\n",
      "loading model pretrained_models/mnist/permutation/stratified\\model_Conv2DNet_2020-05-17_e100_10.09.pth\n"
     ]
    }
   ],
   "source": [
    "weight_dir = \"pretrained_models/mnist/permutation/stratified/\"\n",
    "\n",
    "## DenseNet5\n",
    "fcnet5 = FCNet5().to(device)\n",
    "fcnet5, _  = get_pretrained_weights(fcnet5, weight_dir) \n",
    "\n",
    "## DenseNet10\n",
    "fcnet10 = FCNet10().to(device) \n",
    "fcnet10, _  = get_pretrained_weights(fcnet10, weight_dir) \n",
    "\n",
    "## Conv1DNet\n",
    "conv1dnet = Conv1DNet().to(device)\n",
    "conv1dnet, _  = get_pretrained_weights(conv1dnet, weight_dir) \n",
    "\n",
    "## Conv2DNet\n",
    "conv2dnet = Conv2DNet().to(device)\n",
    "conv2dnet, _  = get_pretrained_weights(conv2dnet, weight_dir) "
   ]
  },
  {
   "cell_type": "code",
   "execution_count": 80,
   "metadata": {
    "scrolled": false
   },
   "outputs": [
    {
     "name": "stdout",
     "output_type": "stream",
     "text": [
      "stratified\n",
      "model_type: FCNet5 \t label: 0 \t count: 980 \t acc: 0.7510204315185547\n",
      "model_type: FCNet5 \t label: 1 \t count: 1135 \t acc: 0.9118942618370056\n",
      "model_type: FCNet5 \t label: 2 \t count: 1032 \t acc: 0.3759689927101135\n",
      "model_type: FCNet5 \t label: 3 \t count: 1010 \t acc: 0.7475247383117676\n",
      "model_type: FCNet5 \t label: 4 \t count: 982 \t acc: 0.1384928673505783\n",
      "model_type: FCNet5 \t label: 5 \t count: 892 \t acc: 0.6412556171417236\n",
      "model_type: FCNet5 \t label: 6 \t count: 958 \t acc: 0.8841336369514465\n",
      "model_type: FCNet5 \t label: 7 \t count: 1028 \t acc: 0.2558365762233734\n",
      "model_type: FCNet5 \t label: 8 \t count: 974 \t acc: 0.395277202129364\n",
      "model_type: FCNet5 \t label: 9 \t count: 1009 \t acc: 0.9980178475379944\n"
     ]
    },
    {
     "data": {
      "image/png": "[encoded data removed]",
      "text/plain": [
       "<Figure size 432x288 with 1 Axes>"
      ]
     },
     "metadata": {},
     "output_type": "display_data"
    },
    {
     "name": "stdout",
     "output_type": "stream",
     "text": [
      "model_type: FCNet5 \t label: all \t count: 10000 \t acc: 0.6123999953269958 \n",
      "\n",
      "model_type: FCNet10 \t label: 0 \t count: 980 \t acc: 0.0\n",
      "model_type: FCNet10 \t label: 1 \t count: 1135 \t acc: 0.0\n",
      "model_type: FCNet10 \t label: 2 \t count: 1032 \t acc: 0.0\n",
      "model_type: FCNet10 \t label: 3 \t count: 1010 \t acc: 0.0\n",
      "model_type: FCNet10 \t label: 4 \t count: 982 \t acc: 0.0\n",
      "model_type: FCNet10 \t label: 5 \t count: 892 \t acc: 0.0\n",
      "model_type: FCNet10 \t label: 6 \t count: 958 \t acc: 0.0\n",
      "model_type: FCNet10 \t label: 7 \t count: 1028 \t acc: 0.0\n",
      "model_type: FCNet10 \t label: 8 \t count: 974 \t acc: 0.0\n",
      "model_type: FCNet10 \t label: 9 \t count: 1009 \t acc: 1.0\n"
     ]
    },
    {
     "data": {
      "image/png": "[encoded data removed]",
      "text/plain": [
       "<Figure size 432x288 with 1 Axes>"
      ]
     },
     "metadata": {},
     "output_type": "display_data"
    },
    {
     "name": "stdout",
     "output_type": "stream",
     "text": [
      "model_type: FCNet10 \t label: all \t count: 10000 \t acc: 0.10090000182390213 \n",
      "\n",
      "model_type: Conv1DNet \t label: 0 \t count: 980 \t acc: 0.0\n",
      "model_type: Conv1DNet \t label: 1 \t count: 1135 \t acc: 0.0\n",
      "model_type: Conv1DNet \t label: 2 \t count: 1032 \t acc: 0.0\n",
      "model_type: Conv1DNet \t label: 3 \t count: 1010 \t acc: 0.0\n",
      "model_type: Conv1DNet \t label: 4 \t count: 982 \t acc: 0.0\n",
      "model_type: Conv1DNet \t label: 5 \t count: 892 \t acc: 0.0\n",
      "model_type: Conv1DNet \t label: 6 \t count: 958 \t acc: 0.0\n",
      "model_type: Conv1DNet \t label: 7 \t count: 1028 \t acc: 0.0\n",
      "model_type: Conv1DNet \t label: 8 \t count: 974 \t acc: 0.0\n",
      "model_type: Conv1DNet \t label: 9 \t count: 1009 \t acc: 1.0\n"
     ]
    },
    {
     "data": {
      "image/png": "[encoded data removed]",
      "text/plain": [
       "<Figure size 432x288 with 1 Axes>"
      ]
     },
     "metadata": {},
     "output_type": "display_data"
    },
    {
     "name": "stdout",
     "output_type": "stream",
     "text": [
      "model_type: Conv1DNet \t label: all \t count: 10000 \t acc: 0.10090000182390213 \n",
      "\n",
      "model_type: Conv2DNet \t label: 0 \t count: 980 \t acc: 0.0\n",
      "model_type: Conv2DNet \t label: 1 \t count: 1135 \t acc: 0.0\n",
      "model_type: Conv2DNet \t label: 2 \t count: 1032 \t acc: 0.0\n",
      "model_type: Conv2DNet \t label: 3 \t count: 1010 \t acc: 0.0\n",
      "model_type: Conv2DNet \t label: 4 \t count: 982 \t acc: 0.0\n",
      "model_type: Conv2DNet \t label: 5 \t count: 892 \t acc: 0.0\n",
      "model_type: Conv2DNet \t label: 6 \t count: 958 \t acc: 0.0\n",
      "model_type: Conv2DNet \t label: 7 \t count: 1028 \t acc: 0.0\n",
      "model_type: Conv2DNet \t label: 8 \t count: 974 \t acc: 0.0\n",
      "model_type: Conv2DNet \t label: 9 \t count: 1009 \t acc: 1.0\n"
     ]
    },
    {
     "data": {
      "image/png": "[encoded data removed]",
      "text/plain": [
       "<Figure size 432x288 with 1 Axes>"
      ]
     },
     "metadata": {},
     "output_type": "display_data"
    },
    {
     "name": "stdout",
     "output_type": "stream",
     "text": [
      "model_type: Conv2DNet \t label: all \t count: 10000 \t acc: 0.10090000182390213 \n",
      "\n"
     ]
    }
   ],
   "source": [
    "per_class_acc = np.zeros((10))\n",
    "for X, y, desc in [(X_test_s, y_test_s, 'stratified')]:\n",
    "    print(desc)\n",
    "    for model in [fcnet5, fcnet10, conv1dnet, conv2dnet]:\n",
    "        model.cpu()\n",
    "        model.eval()\n",
    "        model_type = model.__class__.__name__\n",
    "        for i in y_test_s.unique():\n",
    "            idx = y == i\n",
    "            X_ = X[idx]\n",
    "            y_ = y[idx]\n",
    "            acc = get_accuracy(model, X_, y_)\n",
    "            per_class_acc[i] = acc\n",
    "            print('model_type:', model_type, '\\t', \n",
    "                  'label:', i.item(), '\\t', \n",
    "                  'count:', len(y_), '\\t',\n",
    "                  'acc:', acc.item())\n",
    "        sns.barplot(x=np.arange(len(per_class_acc)),y=per_class_acc)\n",
    "        plt.xlabel('Class')\n",
    "        plt.ylabel('Accuracy (%)')\n",
    "        plt.title(label=model_type, weight='bold')\n",
    "        plt.savefig('imgs/order_permutation/order_permutation_s_e100_'+model_type+'.png')\n",
    "        plt.show()\n",
    "        acc = get_accuracy(model, X, y)\n",
    "        print('model_type:', model_type, '\\t', \n",
    "              'label:', 'all', '\\t', \n",
    "              'count:', len(y), '\\t',\n",
    "              'acc:', acc.item(), '\\n')"
   ]
  },
  {
   "cell_type": "markdown",
   "metadata": {},
   "source": [
    "### Reverse Stratified"
   ]
  },
  {
   "cell_type": "code",
   "execution_count": 81,
   "metadata": {},
   "outputs": [],
   "source": [
    "train_sr_loader = torch.utils.data.DataLoader(data_train_sr,\n",
    "    batch_size=batch_size_train, shuffle=False, pin_memory=True)\n",
    "\n",
    "test_sr_loader = torch.utils.data.DataLoader(data_test_sr,\n",
    "    batch_size=batch_size_test, shuffle=False, pin_memory=True)"
   ]
  },
  {
   "cell_type": "code",
   "execution_count": 17,
   "metadata": {
    "collapsed": true
   },
   "outputs": [
    {
     "name": "stdout",
     "output_type": "stream",
     "text": [
      "training for model FCNet5\n",
      "Train Epoch: 1 [0/60000 (0%)] \t Loss: 2.280841\n",
      "Train Epoch: 1 [100/60000 (0%)] \t Loss: 2.065190\n",
      "Train Epoch: 1 [200/60000 (0%)] \t Loss: 1.844400\n",
      "Train Epoch: 1 [300/60000 (0%)] \t Loss: 1.611535\n",
      "Train Epoch: 1 [400/60000 (1%)] \t Loss: 1.390978\n",
      "Train Epoch: 1 [500/60000 (1%)] \t Loss: 1.143779\n",
      "Train Epoch: 1 [600/60000 (1%)] \t Loss: 0.882491\n",
      "Train Epoch: 1 [700/60000 (1%)] \t Loss: 0.494513\n",
      "Train Epoch: 1 [800/60000 (1%)] \t Loss: 0.189775\n",
      "Train Epoch: 1 [900/60000 (2%)] \t Loss: 0.129976\n",
      "Train Epoch: 1 [1000/60000 (2%)] \t Loss: 0.102643\n",
      "Train Epoch: 1 [1100/60000 (2%)] \t Loss: 0.051542\n",
      "Train Epoch: 1 [1200/60000 (2%)] \t Loss: 0.031915\n",
      "Train Epoch: 1 [1300/60000 (2%)] \t Loss: 0.007140\n",
      "Train Epoch: 1 [1400/60000 (2%)] \t Loss: 0.039681\n",
      "Train Epoch: 1 [1500/60000 (2%)] \t Loss: 0.016650\n",
      "Train Epoch: 1 [1600/60000 (3%)] \t Loss: 0.006380\n",
      "Train Epoch: 1 [1700/60000 (3%)] \t Loss: 0.018530\n",
      "Train Epoch: 1 [1800/60000 (3%)] \t Loss: 0.015690\n",
      "Train Epoch: 1 [1900/60000 (3%)] \t Loss: 0.006030\n",
      "Train Epoch: 1 [2000/60000 (3%)] \t Loss: 0.001835\n",
      "Train Epoch: 1 [2100/60000 (4%)] \t Loss: 0.003987\n",
      "Train Epoch: 1 [2200/60000 (4%)] \t Loss: 0.003090\n",
      "Train Epoch: 1 [2300/60000 (4%)] \t Loss: 0.002082\n",
      "Train Epoch: 1 [2400/60000 (4%)] \t Loss: 0.003906\n",
      "Train Epoch: 1 [2500/60000 (4%)] \t Loss: 0.007266\n",
      "Train Epoch: 1 [2600/60000 (4%)] \t Loss: 0.001748\n",
      "Train Epoch: 1 [2700/60000 (4%)] \t Loss: 0.002010\n",
      "Train Epoch: 1 [2800/60000 (5%)] \t Loss: 0.001359\n",
      "Train Epoch: 1 [2900/60000 (5%)] \t Loss: 0.004441\n",
      "Train Epoch: 1 [3000/60000 (5%)] \t Loss: 0.003038\n",
      "Train Epoch: 1 [3100/60000 (5%)] \t Loss: 0.009600\n",
      "Train Epoch: 1 [3200/60000 (5%)] \t Loss: 0.016712\n",
      "Train Epoch: 1 [3300/60000 (6%)] \t Loss: 0.002500\n",
      "Train Epoch: 1 [3400/60000 (6%)] \t Loss: 0.002105\n",
      "Train Epoch: 1 [3500/60000 (6%)] \t Loss: 0.009216\n",
      "Train Epoch: 1 [3600/60000 (6%)] \t Loss: 0.001863\n",
      "Train Epoch: 1 [3700/60000 (6%)] \t Loss: 0.008136\n",
      "Train Epoch: 1 [3800/60000 (6%)] \t Loss: 0.000723\n",
      "Train Epoch: 1 [3900/60000 (6%)] \t Loss: 0.001632\n",
      "Train Epoch: 1 [4000/60000 (7%)] \t Loss: 0.000104\n",
      "Train Epoch: 1 [4100/60000 (7%)] \t Loss: 0.000113\n",
      "Train Epoch: 1 [4200/60000 (7%)] \t Loss: 0.000627\n",
      "Train Epoch: 1 [4300/60000 (7%)] \t Loss: 0.000089\n",
      "Train Epoch: 1 [4400/60000 (7%)] \t Loss: 0.002611\n",
      "Train Epoch: 1 [4500/60000 (8%)] \t Loss: 0.004323\n",
      "Train Epoch: 1 [4600/60000 (8%)] \t Loss: 0.000828\n",
      "Train Epoch: 1 [4700/60000 (8%)] \t Loss: 0.001002\n",
      "Train Epoch: 1 [4800/60000 (8%)] \t Loss: 0.000290\n",
      "Train Epoch: 1 [4900/60000 (8%)] \t Loss: 0.000599\n",
      "Train Epoch: 1 [5000/60000 (8%)] \t Loss: 0.001537\n",
      "Train Epoch: 1 [5100/60000 (8%)] \t Loss: 0.000171\n",
      "Train Epoch: 1 [5200/60000 (9%)] \t Loss: 0.000894\n",
      "Train Epoch: 1 [5300/60000 (9%)] \t Loss: 0.000183\n",
      "Train Epoch: 1 [5400/60000 (9%)] \t Loss: 0.001203\n",
      "Train Epoch: 1 [5500/60000 (9%)] \t Loss: 0.000293\n",
      "Train Epoch: 1 [5600/60000 (9%)] \t Loss: 0.000239\n",
      "Train Epoch: 1 [5700/60000 (10%)] \t Loss: 0.001012\n",
      "Train Epoch: 1 [5800/60000 (10%)] \t Loss: 0.001121\n",
      "Train Epoch: 1 [5900/60000 (10%)] \t Loss: 0.003351\n",
      "Train Epoch: 1 [6000/60000 (10%)] \t Loss: 2.860211\n",
      "Train Epoch: 1 [6100/60000 (10%)] \t Loss: 1.841082\n",
      "Train Epoch: 1 [6200/60000 (10%)] \t Loss: 0.983989\n",
      "Train Epoch: 1 [6300/60000 (10%)] \t Loss: 0.285865\n",
      "Train Epoch: 1 [6400/60000 (11%)] \t Loss: 0.066829\n",
      "Train Epoch: 1 [6500/60000 (11%)] \t Loss: 0.070413\n",
      "Train Epoch: 1 [6600/60000 (11%)] \t Loss: 0.052193\n",
      "Train Epoch: 1 [6700/60000 (11%)] \t Loss: 0.024370\n",
      "Train Epoch: 1 [6800/60000 (11%)] \t Loss: 0.004473\n",
      "Train Epoch: 1 [6900/60000 (12%)] \t Loss: 0.021353\n",
      "Train Epoch: 1 [7000/60000 (12%)] \t Loss: 0.008746\n",
      "Train Epoch: 1 [7100/60000 (12%)] \t Loss: 0.008637\n",
      "Train Epoch: 1 [7200/60000 (12%)] \t Loss: 0.006698\n"
     ]
    },
    {
     "ename": "KeyboardInterrupt",
     "evalue": "",
     "output_type": "error",
     "traceback": [
      "\u001b[1;31m---------------------------------------------------------------------------\u001b[0m",
      "\u001b[1;31mKeyboardInterrupt\u001b[0m                         Traceback (most recent call last)",
      "\u001b[1;32m<ipython-input-17-16711fc0ce83>\u001b[0m in \u001b[0;36m<module>\u001b[1;34m\u001b[0m\n\u001b[0;32m     13\u001b[0m \u001b[1;33m\u001b[0m\u001b[0m\n\u001b[0;32m     14\u001b[0m     \u001b[1;32mfor\u001b[0m \u001b[0mepoch\u001b[0m \u001b[1;32min\u001b[0m \u001b[0mrange\u001b[0m\u001b[1;33m(\u001b[0m\u001b[1;36m1\u001b[0m\u001b[1;33m,\u001b[0m \u001b[0mn_epochs\u001b[0m \u001b[1;33m+\u001b[0m \u001b[1;36m1\u001b[0m\u001b[1;33m)\u001b[0m\u001b[1;33m:\u001b[0m\u001b[1;33m\u001b[0m\u001b[1;33m\u001b[0m\u001b[0m\n\u001b[1;32m---> 15\u001b[1;33m         \u001b[0mtrain\u001b[0m\u001b[1;33m(\u001b[0m\u001b[0mmodel\u001b[0m\u001b[1;33m,\u001b[0m \u001b[0mdevice\u001b[0m\u001b[1;33m,\u001b[0m \u001b[0mtrain_sr_loader\u001b[0m\u001b[1;33m,\u001b[0m \u001b[0moptimizer\u001b[0m\u001b[1;33m,\u001b[0m \u001b[0mepoch\u001b[0m\u001b[1;33m)\u001b[0m\u001b[1;33m\u001b[0m\u001b[1;33m\u001b[0m\u001b[0m\n\u001b[0m\u001b[0;32m     16\u001b[0m         \u001b[0macc\u001b[0m \u001b[1;33m=\u001b[0m \u001b[0mtest\u001b[0m\u001b[1;33m(\u001b[0m\u001b[0mmodel\u001b[0m\u001b[1;33m,\u001b[0m \u001b[0mdevice\u001b[0m\u001b[1;33m,\u001b[0m \u001b[0mtest_sr_loader\u001b[0m\u001b[1;33m)\u001b[0m\u001b[1;33m\u001b[0m\u001b[1;33m\u001b[0m\u001b[0m\n\u001b[0;32m     17\u001b[0m \u001b[1;33m\u001b[0m\u001b[0m\n",
      "\u001b[1;32m~\\Dropbox\\UCLA\\research\\MRs\\models.py\u001b[0m in \u001b[0;36mtrain\u001b[1;34m(model, device, train_loader, optimizer, epoch, loss_fn, data_augmentor)\u001b[0m\n\u001b[0;32m    360\u001b[0m         \u001b[0mloss\u001b[0m \u001b[1;33m=\u001b[0m \u001b[0mloss_fn\u001b[0m\u001b[1;33m(\u001b[0m\u001b[0moutput\u001b[0m\u001b[1;33m,\u001b[0m \u001b[0mtarget\u001b[0m\u001b[1;33m)\u001b[0m\u001b[1;33m\u001b[0m\u001b[1;33m\u001b[0m\u001b[0m\n\u001b[0;32m    361\u001b[0m         \u001b[0mloss\u001b[0m\u001b[1;33m.\u001b[0m\u001b[0mbackward\u001b[0m\u001b[1;33m(\u001b[0m\u001b[1;33m)\u001b[0m\u001b[1;33m\u001b[0m\u001b[1;33m\u001b[0m\u001b[0m\n\u001b[1;32m--> 362\u001b[1;33m         \u001b[0moptimizer\u001b[0m\u001b[1;33m.\u001b[0m\u001b[0mstep\u001b[0m\u001b[1;33m(\u001b[0m\u001b[1;33m)\u001b[0m\u001b[1;33m\u001b[0m\u001b[1;33m\u001b[0m\u001b[0m\n\u001b[0m\u001b[0;32m    363\u001b[0m         \u001b[1;32mif\u001b[0m \u001b[0mbatch_idx\u001b[0m \u001b[1;33m%\u001b[0m \u001b[1;36m10\u001b[0m \u001b[1;33m==\u001b[0m \u001b[1;36m0\u001b[0m\u001b[1;33m:\u001b[0m\u001b[1;33m\u001b[0m\u001b[1;33m\u001b[0m\u001b[0m\n\u001b[0;32m    364\u001b[0m             print('Train Epoch: {} [{}/{} ({:.0f}%)] \\t Loss: {:.6f}'.format(\n",
      "\u001b[1;32m~\\AppData\\Local\\Continuum\\anaconda3\\lib\\site-packages\\torch\\autograd\\grad_mode.py\u001b[0m in \u001b[0;36mdecorate_context\u001b[1;34m(*args, **kwargs)\u001b[0m\n\u001b[0;32m     13\u001b[0m         \u001b[1;32mdef\u001b[0m \u001b[0mdecorate_context\u001b[0m\u001b[1;33m(\u001b[0m\u001b[1;33m*\u001b[0m\u001b[0margs\u001b[0m\u001b[1;33m,\u001b[0m \u001b[1;33m**\u001b[0m\u001b[0mkwargs\u001b[0m\u001b[1;33m)\u001b[0m\u001b[1;33m:\u001b[0m\u001b[1;33m\u001b[0m\u001b[1;33m\u001b[0m\u001b[0m\n\u001b[0;32m     14\u001b[0m             \u001b[1;32mwith\u001b[0m \u001b[0mself\u001b[0m\u001b[1;33m:\u001b[0m\u001b[1;33m\u001b[0m\u001b[1;33m\u001b[0m\u001b[0m\n\u001b[1;32m---> 15\u001b[1;33m                 \u001b[1;32mreturn\u001b[0m \u001b[0mfunc\u001b[0m\u001b[1;33m(\u001b[0m\u001b[1;33m*\u001b[0m\u001b[0margs\u001b[0m\u001b[1;33m,\u001b[0m \u001b[1;33m**\u001b[0m\u001b[0mkwargs\u001b[0m\u001b[1;33m)\u001b[0m\u001b[1;33m\u001b[0m\u001b[1;33m\u001b[0m\u001b[0m\n\u001b[0m\u001b[0;32m     16\u001b[0m         \u001b[1;32mreturn\u001b[0m \u001b[0mdecorate_context\u001b[0m\u001b[1;33m\u001b[0m\u001b[1;33m\u001b[0m\u001b[0m\n\u001b[0;32m     17\u001b[0m \u001b[1;33m\u001b[0m\u001b[0m\n",
      "\u001b[1;32m~\\AppData\\Local\\Continuum\\anaconda3\\lib\\site-packages\\torch\\optim\\sgd.py\u001b[0m in \u001b[0;36mstep\u001b[1;34m(self, closure)\u001b[0m\n\u001b[0;32m    110\u001b[0m                         \u001b[0md_p\u001b[0m \u001b[1;33m=\u001b[0m \u001b[0mbuf\u001b[0m\u001b[1;33m\u001b[0m\u001b[1;33m\u001b[0m\u001b[0m\n\u001b[0;32m    111\u001b[0m \u001b[1;33m\u001b[0m\u001b[0m\n\u001b[1;32m--> 112\u001b[1;33m                 \u001b[0mp\u001b[0m\u001b[1;33m.\u001b[0m\u001b[0madd_\u001b[0m\u001b[1;33m(\u001b[0m\u001b[0md_p\u001b[0m\u001b[1;33m,\u001b[0m \u001b[0malpha\u001b[0m\u001b[1;33m=\u001b[0m\u001b[1;33m-\u001b[0m\u001b[0mgroup\u001b[0m\u001b[1;33m[\u001b[0m\u001b[1;34m'lr'\u001b[0m\u001b[1;33m]\u001b[0m\u001b[1;33m)\u001b[0m\u001b[1;33m\u001b[0m\u001b[1;33m\u001b[0m\u001b[0m\n\u001b[0m\u001b[0;32m    113\u001b[0m \u001b[1;33m\u001b[0m\u001b[0m\n\u001b[0;32m    114\u001b[0m         \u001b[1;32mreturn\u001b[0m \u001b[0mloss\u001b[0m\u001b[1;33m\u001b[0m\u001b[1;33m\u001b[0m\u001b[0m\n",
      "\u001b[1;31mKeyboardInterrupt\u001b[0m: "
     ]
    }
   ],
   "source": [
    "n_epochs = 100\n",
    "\n",
    "save_dir = 'pretrained_models/mnist/permutation/reverse_stratified/'\n",
    "\n",
    "for model in [FCNet5, FCNet10, Conv1DNet, Conv2DNet]:\n",
    "    \n",
    "    model = model().to(device)\n",
    "    optimizer = optim.SGD(model.parameters(), lr=0.01, momentum=0.5)\n",
    "\n",
    "    m_type = model.__class__.__name__\n",
    "    \n",
    "    print('training for model', m_type)\n",
    "    \n",
    "    for epoch in range(1, n_epochs + 1):\n",
    "        train(model, device, train_sr_loader, optimizer, epoch)\n",
    "        acc = test(model, device, test_sr_loader)  \n",
    "\n",
    "    torch.save(model.state_dict(), save_dir + 'model_' + m_type + '_' + str(datetime.date.today()) + '_' + str(acc) + '.pth')"
   ]
  },
  {
   "cell_type": "code",
   "execution_count": 82,
   "metadata": {},
   "outputs": [
    {
     "name": "stdout",
     "output_type": "stream",
     "text": [
      "loading model pretrained_models/mnist/permutation/reverse_stratified\\model_FCNet5_2020-05-17_e100_49.58.pth\n",
      "loading model pretrained_models/mnist/permutation/reverse_stratified\\model_FCNet10_2020-05-17_e100_9.8.pth\n",
      "loading model pretrained_models/mnist/permutation/reverse_stratified\\model_Conv1DNet_2020-05-17_e100_84.66.pth\n",
      "loading model pretrained_models/mnist/permutation/reverse_stratified\\model_Conv2DNet_2020-05-17_e100_84.87.pth\n"
     ]
    }
   ],
   "source": [
    "weight_dir = \"pretrained_models/mnist/permutation/reverse_stratified/\"\n",
    "\n",
    "## DenseNet5\n",
    "fcnet5 = FCNet5().to(device)\n",
    "fcnet5, _ = get_pretrained_weights(fcnet5, weight_dir) \n",
    "\n",
    "## DenseNet10\n",
    "fcnet10 = FCNet10().to(device) \n",
    "fcnet10, _ = get_pretrained_weights(fcnet10, weight_dir) \n",
    "\n",
    "## Conv1DNet\n",
    "conv1dnet = Conv1DNet().to(device)\n",
    "conv1dnet, _ = get_pretrained_weights(conv1dnet, weight_dir) \n",
    "\n",
    "## Conv2DNet\n",
    "conv2dnet = Conv2DNet().to(device)\n",
    "conv2dnet, _ = get_pretrained_weights(conv2dnet, weight_dir) "
   ]
  },
  {
   "cell_type": "code",
   "execution_count": 83,
   "metadata": {
    "scrolled": false
   },
   "outputs": [
    {
     "name": "stdout",
     "output_type": "stream",
     "text": [
      "reverse stratified\n",
      "model_type: FCNet5 \t label: 0 \t count: 980 \t acc: 0.9989795684814453\n",
      "model_type: FCNet5 \t label: 1 \t count: 1135 \t acc: 0.9982379078865051\n",
      "model_type: FCNet5 \t label: 2 \t count: 1032 \t acc: 0.41085270047187805\n",
      "model_type: FCNet5 \t label: 3 \t count: 1010 \t acc: 0.5217821598052979\n",
      "model_type: FCNet5 \t label: 4 \t count: 982 \t acc: 0.8350305557250977\n",
      "model_type: FCNet5 \t label: 5 \t count: 892 \t acc: 0.3598654568195343\n",
      "model_type: FCNet5 \t label: 6 \t count: 958 \t acc: 0.0\n",
      "model_type: FCNet5 \t label: 7 \t count: 1028 \t acc: 0.4931906759738922\n",
      "model_type: FCNet5 \t label: 8 \t count: 974 \t acc: 0.05030800774693489\n",
      "model_type: FCNet5 \t label: 9 \t count: 1009 \t acc: 0.19623389840126038\n"
     ]
    },
    {
     "data": {
      "image/png": "[encoded data removed]",
      "text/plain": [
       "<Figure size 432x288 with 1 Axes>"
      ]
     },
     "metadata": {},
     "output_type": "display_data"
    },
    {
     "name": "stdout",
     "output_type": "stream",
     "text": [
      "model_type: FCNet5 \t label: all \t count: 10000 \t acc: 0.4957999885082245 \n",
      "\n",
      "model_type: FCNet10 \t label: 0 \t count: 980 \t acc: 1.0\n",
      "model_type: FCNet10 \t label: 1 \t count: 1135 \t acc: 0.0\n",
      "model_type: FCNet10 \t label: 2 \t count: 1032 \t acc: 0.0\n",
      "model_type: FCNet10 \t label: 3 \t count: 1010 \t acc: 0.0\n",
      "model_type: FCNet10 \t label: 4 \t count: 982 \t acc: 0.0\n",
      "model_type: FCNet10 \t label: 5 \t count: 892 \t acc: 0.0\n",
      "model_type: FCNet10 \t label: 6 \t count: 958 \t acc: 0.0\n",
      "model_type: FCNet10 \t label: 7 \t count: 1028 \t acc: 0.0\n",
      "model_type: FCNet10 \t label: 8 \t count: 974 \t acc: 0.0\n",
      "model_type: FCNet10 \t label: 9 \t count: 1009 \t acc: 0.0\n"
     ]
    },
    {
     "data": {
      "image/png": "[encoded data removed]",
      "text/plain": [
       "<Figure size 432x288 with 1 Axes>"
      ]
     },
     "metadata": {},
     "output_type": "display_data"
    },
    {
     "name": "stdout",
     "output_type": "stream",
     "text": [
      "model_type: FCNet10 \t label: all \t count: 10000 \t acc: 0.09799999743700027 \n",
      "\n",
      "model_type: Conv1DNet \t label: 0 \t count: 980 \t acc: 0.9969387650489807\n",
      "model_type: Conv1DNet \t label: 1 \t count: 1135 \t acc: 0.9991189241409302\n",
      "model_type: Conv1DNet \t label: 2 \t count: 1032 \t acc: 0.9844961166381836\n",
      "model_type: Conv1DNet \t label: 3 \t count: 1010 \t acc: 0.9772277474403381\n",
      "model_type: Conv1DNet \t label: 4 \t count: 982 \t acc: 0.9480651617050171\n",
      "model_type: Conv1DNet \t label: 5 \t count: 892 \t acc: 0.6636771559715271\n",
      "model_type: Conv1DNet \t label: 6 \t count: 958 \t acc: 0.907098114490509\n",
      "model_type: Conv1DNet \t label: 7 \t count: 1028 \t acc: 0.7247081995010376\n",
      "model_type: Conv1DNet \t label: 8 \t count: 974 \t acc: 0.6057494878768921\n",
      "model_type: Conv1DNet \t label: 9 \t count: 1009 \t acc: 0.6194251775741577\n"
     ]
    },
    {
     "data": {
      "image/png": "[encoded data removed]",
      "text/plain": [
       "<Figure size 432x288 with 1 Axes>"
      ]
     },
     "metadata": {},
     "output_type": "display_data"
    },
    {
     "name": "stdout",
     "output_type": "stream",
     "text": [
      "model_type: Conv1DNet \t label: all \t count: 10000 \t acc: 0.8465999960899353 \n",
      "\n",
      "model_type: Conv2DNet \t label: 0 \t count: 980 \t acc: 0.9989795684814453\n",
      "model_type: Conv2DNet \t label: 1 \t count: 1135 \t acc: 0.9982379078865051\n",
      "model_type: Conv2DNet \t label: 2 \t count: 1032 \t acc: 0.9728682041168213\n",
      "model_type: Conv2DNet \t label: 3 \t count: 1010 \t acc: 0.986138641834259\n",
      "model_type: Conv2DNet \t label: 4 \t count: 982 \t acc: 0.9837067127227783\n",
      "model_type: Conv2DNet \t label: 5 \t count: 892 \t acc: 0.8385650515556335\n",
      "model_type: Conv2DNet \t label: 6 \t count: 958 \t acc: 0.8622129559516907\n",
      "model_type: Conv2DNet \t label: 7 \t count: 1028 \t acc: 0.4649805426597595\n",
      "model_type: Conv2DNet \t label: 8 \t count: 974 \t acc: 0.72176593542099\n",
      "model_type: Conv2DNet \t label: 9 \t count: 1009 \t acc: 0.6481664776802063\n"
     ]
    },
    {
     "data": {
      "image/png": "[encoded data removed]",
      "text/plain": [
       "<Figure size 432x288 with 1 Axes>"
      ]
     },
     "metadata": {},
     "output_type": "display_data"
    },
    {
     "name": "stdout",
     "output_type": "stream",
     "text": [
      "model_type: Conv2DNet \t label: all \t count: 10000 \t acc: 0.8486999869346619 \n",
      "\n"
     ]
    }
   ],
   "source": [
    "per_class_acc = np.zeros((10))\n",
    "for X, y, desc in [(X_test_sr, y_test_sr, 'reverse stratified')]:\n",
    "    print(desc)\n",
    "    for model in [fcnet5, fcnet10, conv1dnet, conv2dnet]:\n",
    "        model.cpu()\n",
    "        model.eval()\n",
    "        model_type = model.__class__.__name__\n",
    "        for i in y_test_s.unique():\n",
    "            idx = y == i\n",
    "            X_ = X[idx]\n",
    "            y_ = y[idx]\n",
    "            acc = get_accuracy(model, X_, y_)\n",
    "            per_class_acc[i] = acc\n",
    "            print('model_type:', model_type, '\\t', \n",
    "                  'label:', i.item(), '\\t', \n",
    "                  'count:', len(y_), '\\t',\n",
    "                  'acc:', acc.item())\n",
    "        sns.barplot(x=np.arange(len(per_class_acc)),y=per_class_acc)\n",
    "        plt.xlabel('Class')\n",
    "        plt.ylabel('Accuracy (%)')\n",
    "        plt.title(label=model_type, weight='bold')\n",
    "        plt.savefig('imgs/order_permutation/order_permutation_rs_e100_'+model_type+'.png')\n",
    "        plt.show()\n",
    "        acc = get_accuracy(model, X, y)\n",
    "        print('model_type:', model_type, '\\t', \n",
    "              'label:', 'all', '\\t', \n",
    "              'count:', len(y), '\\t',\n",
    "              'acc:', acc.item(), '\\n')"
   ]
  },
  {
   "cell_type": "code",
   "execution_count": null,
   "metadata": {},
   "outputs": [],
   "source": []
  }
 ],
 "metadata": {
  "kernelspec": {
   "display_name": "Python 3",
   "language": "python",
   "name": "python3"
  },
  "language_info": {
   "codemirror_mode": {
    "name": "ipython",
    "version": 3
   },
   "file_extension": ".py",
   "mimetype": "text/x-python",
   "name": "python",
   "nbconvert_exporter": "python",
   "pygments_lexer": "ipython3",
   "version": "3.7.3"
  }
 },
 "nbformat": 4,
 "nbformat_minor": 2
}

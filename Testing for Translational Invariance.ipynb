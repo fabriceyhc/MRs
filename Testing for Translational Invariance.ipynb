{
 "cells": [
  {
   "cell_type": "markdown",
   "metadata": {},
   "source": [
    "# Testing for Translational Invariance\n",
    "\n",
    "https://en.wikipedia.org/wiki/Translational_symmetry"
   ]
  },
  {
   "cell_type": "code",
   "execution_count": 7,
   "metadata": {},
   "outputs": [
    {
     "name": "stdout",
     "output_type": "stream",
     "text": [
      "The autoreload extension is already loaded. To reload it, use:\n",
      "  %reload_ext autoreload\n"
     ]
    }
   ],
   "source": [
    "import torch\n",
    "import torch.optim as optim\n",
    "import torchvision\n",
    "import numpy as np\n",
    "import cv2\n",
    "import matplotlib.pyplot as plt\n",
    "%matplotlib inline\n",
    "\n",
    "from models import *\n",
    "from utils import *\n",
    "%load_ext autoreload\n",
    "%autoreload 2"
   ]
  },
  {
   "cell_type": "code",
   "execution_count": 8,
   "metadata": {},
   "outputs": [
    {
     "name": "stdout",
     "output_type": "stream",
     "text": [
      "CUDA is available!\n"
     ]
    }
   ],
   "source": [
    "# check if CUDA is available\n",
    "device = torch.device(\"cpu\")\n",
    "use_cuda = False\n",
    "if torch.cuda.is_available():\n",
    "    print('CUDA is available!')\n",
    "    device = torch.device(\"cuda\")\n",
    "    use_cuda = True\n",
    "else:\n",
    "    print('CUDA is not available.')"
   ]
  },
  {
   "cell_type": "code",
   "execution_count": 9,
   "metadata": {},
   "outputs": [],
   "source": [
    "data_dir = \"C:\\data\\MNIST\"\n",
    "batch_size_test = 1\n",
    "\n",
    "test_loader = torch.utils.data.DataLoader(\n",
    "    torchvision.datasets.MNIST(data_dir, train=False, download=True,\n",
    "                         transform=torchvision.transforms.Compose([\n",
    "                           torchvision.transforms.ToTensor()\n",
    "                         ])),\n",
    "    batch_size=batch_size_test, shuffle=False, pin_memory=True)\n",
    "\n",
    "inputs, targets = next(iter(test_loader))\n",
    "inputs = inputs.to(device)\n",
    "targets = targets.to(device)"
   ]
  },
  {
   "cell_type": "markdown",
   "metadata": {},
   "source": [
    "## Locate digit with bounding box"
   ]
  },
  {
   "cell_type": "code",
   "execution_count": 12,
   "metadata": {},
   "outputs": [],
   "source": [
    "def extract_min_img(img):\n",
    "    img = torch.squeeze(img) * 255\n",
    "    img_np = img.cpu().numpy().astype(np.uint8)\n",
    "    retVal, threshold_image = cv2.threshold(img_np,0,255,cv2.THRESH_BINARY+cv2.THRESH_OTSU)\n",
    "    contours, hierarchy = cv2.findContours(threshold_image, cv2.RETR_EXTERNAL, cv2.CHAIN_APPROX_SIMPLE)\n",
    "    contours = np.squeeze(np.array(contours), 0)\n",
    "    x,y,w,h = cv2.boundingRect(contours)\n",
    "    bounded_img = img_np[y:y+h, x:x+w]\n",
    "    return bounded_img"
   ]
  },
  {
   "cell_type": "code",
   "execution_count": 13,
   "metadata": {},
   "outputs": [],
   "source": [
    "img = torch.squeeze(inputs[0]) * 255\n",
    "img_np = img.cpu().numpy().astype(np.uint8)"
   ]
  },
  {
   "cell_type": "code",
   "execution_count": 14,
   "metadata": {},
   "outputs": [],
   "source": [
    "retVal, threshold_image = cv2.threshold(img_np,0,255,cv2.THRESH_BINARY+cv2.THRESH_OTSU)\n",
    "contours, hierarchy = cv2.findContours(threshold_image, cv2.RETR_EXTERNAL, cv2.CHAIN_APPROX_SIMPLE)\n",
    "contours = np.squeeze(np.array(contours), 0)\n",
    "\n",
    "x,y,w,h = cv2.boundingRect(contours)\n",
    "bounded_img = img_np[y:y+h, x:x+w]"
   ]
  },
  {
   "cell_type": "code",
   "execution_count": 15,
   "metadata": {},
   "outputs": [
    {
     "data": {
      "image/png": "[encoded data removed]",
      "text/plain": [
       "<Figure size 432x288 with 1 Axes>"
      ]
     },
     "metadata": {
      "needs_background": "light"
     },
     "output_type": "display_data"
    }
   ],
   "source": [
    "plt.imshow(img_np)\n",
    "plt.show()"
   ]
  },
  {
   "cell_type": "code",
   "execution_count": 16,
   "metadata": {},
   "outputs": [
    {
     "data": {
      "image/png": "[encoded data removed]",
      "text/plain": [
       "<Figure size 432x288 with 1 Axes>"
      ]
     },
     "metadata": {
      "needs_background": "light"
     },
     "output_type": "display_data"
    }
   ],
   "source": [
    "plt.imshow(bounded_img)\n",
    "plt.show()"
   ]
  },
  {
   "cell_type": "markdown",
   "metadata": {},
   "source": [
    "## Generate new images with translations of the original"
   ]
  },
  {
   "cell_type": "code",
   "execution_count": 17,
   "metadata": {},
   "outputs": [],
   "source": [
    "def pad_img(target_img, original_img, offsets=[0,0]):\n",
    "    \"\"\"\n",
    "    bounded_img: Image to be padded / inserted into a blank array of zeros\n",
    "    original_img: Reference img with the desired shape\n",
    "    offsets: list of offsets (number of elements must be equal to the dimension of the array)\n",
    "    \"\"\"\n",
    "    # Create an array of zeros with the reference shape\n",
    "    result = np.zeros(original_img.shape)\n",
    "    # Create a list of slices from offset to offset + shape in each dimension\n",
    "    insertHere = [slice(offsets[dim], offsets[dim] + target_img.shape[dim]) for dim in range(target_img.ndim)]\n",
    "    # Insert the array in the result at the specified offsets\n",
    "    result[tuple(insertHere)] = target_img\n",
    "    return result"
   ]
  },
  {
   "cell_type": "code",
   "execution_count": 18,
   "metadata": {},
   "outputs": [],
   "source": [
    "# padding with numpy function\n",
    "# plt.imshow(np.pad(bounded_img, [(4, ), (6, )], mode='constant'))"
   ]
  },
  {
   "cell_type": "code",
   "execution_count": 19,
   "metadata": {},
   "outputs": [],
   "source": [
    "target_shape = img_np.shape\n",
    "bounded_shape = bounded_img.shape\n",
    "\n",
    "max_dim0_offset = target_shape[0] - bounded_shape[0]\n",
    "max_dim1_offset = target_shape[1] - bounded_shape[1]\n",
    "\n",
    "max_offsets = [max_dim0_offset, max_dim1_offset]\n",
    "\n",
    "y_true = targets[0].repeat(max_dim0_offset * max_dim1_offset)"
   ]
  },
  {
   "cell_type": "code",
   "execution_count": 20,
   "metadata": {},
   "outputs": [],
   "source": [
    "# # random offset for testing\n",
    "# dim0_offset = int(np.random.uniform(0,max_dim0_offset))\n",
    "# dim1_offset = int(np.random.uniform(0,max_dim1_offset))\n",
    "# offsets = [dim0_offset, dim1_offset]\n",
    "\n",
    "# print('random offsets', offsets)\n",
    "# plt.imshow(pad_img(bounded_img, img_np, offsets))"
   ]
  },
  {
   "cell_type": "code",
   "execution_count": 21,
   "metadata": {},
   "outputs": [],
   "source": [
    "def generate_all_offsets(target_img, original_img, max_offsets):\n",
    "    offset_imgs = []\n",
    "    for dim0 in range(max_offsets[0]):\n",
    "        for dim1 in range(max_offsets[1]):\n",
    "            offsets = [dim0, dim1]\n",
    "            offset_img = pad_img(target_img, original_img, offsets)\n",
    "            offset_imgs.append(offset_img)\n",
    "    return np.array(offset_imgs)"
   ]
  },
  {
   "cell_type": "code",
   "execution_count": 22,
   "metadata": {},
   "outputs": [],
   "source": [
    "all_offsets = generate_all_offsets(bounded_img, img_np, max_offsets)"
   ]
  },
  {
   "cell_type": "code",
   "execution_count": 23,
   "metadata": {},
   "outputs": [
    {
     "data": {
      "image/png": "[encoded data removed]",
      "text/plain": [
       "<Figure size 432x288 with 1 Axes>"
      ]
     },
     "metadata": {
      "needs_background": "light"
     },
     "output_type": "display_data"
    },
    {
     "data": {
      "image/png": "[encoded data removed]",
      "text/plain": [
       "<Figure size 432x288 with 1 Axes>"
      ]
     },
     "metadata": {
      "needs_background": "light"
     },
     "output_type": "display_data"
    },
    {
     "data": {
      "image/png": "[encoded data removed]",
      "text/plain": [
       "<Figure size 432x288 with 1 Axes>"
      ]
     },
     "metadata": {
      "needs_background": "light"
     },
     "output_type": "display_data"
    },
    {
     "data": {
      "image/png": "[encoded data removed]",
      "text/plain": [
       "<Figure size 432x288 with 1 Axes>"
      ]
     },
     "metadata": {
      "needs_background": "light"
     },
     "output_type": "display_data"
    },
    {
     "data": {
      "image/png": "[encoded data removed]",
      "text/plain": [
       "<Figure size 432x288 with 1 Axes>"
      ]
     },
     "metadata": {
      "needs_background": "light"
     },
     "output_type": "display_data"
    },
    {
     "data": {
      "image/png": "[encoded data removed]",
      "text/plain": [
       "<Figure size 432x288 with 1 Axes>"
      ]
     },
     "metadata": {
      "needs_background": "light"
     },
     "output_type": "display_data"
    },
    {
     "data": {
      "image/png": "[encoded data removed]",
      "text/plain": [
       "<Figure size 432x288 with 1 Axes>"
      ]
     },
     "metadata": {
      "needs_background": "light"
     },
     "output_type": "display_data"
    },
    {
     "data": {
      "image/png": "[encoded data removed]",
      "text/plain": [
       "<Figure size 432x288 with 1 Axes>"
      ]
     },
     "metadata": {
      "needs_background": "light"
     },
     "output_type": "display_data"
    },
    {
     "data": {
      "image/png": "[encoded data removed]",
      "text/plain": [
       "<Figure size 432x288 with 1 Axes>"
      ]
     },
     "metadata": {
      "needs_background": "light"
     },
     "output_type": "display_data"
    },
    {
     "data": {
      "image/png": "[encoded data removed]",
      "text/plain": [
       "<Figure size 432x288 with 1 Axes>"
      ]
     },
     "metadata": {
      "needs_background": "light"
     },
     "output_type": "display_data"
    },
    {
     "data": {
      "image/png": "[encoded data removed]",
      "text/plain": [
       "<Figure size 432x288 with 1 Axes>"
      ]
     },
     "metadata": {
      "needs_background": "light"
     },
     "output_type": "display_data"
    },
    {
     "data": {
      "image/png": "[encoded data removed]",
      "text/plain": [
       "<Figure size 432x288 with 1 Axes>"
      ]
     },
     "metadata": {
      "needs_background": "light"
     },
     "output_type": "display_data"
    },
    {
     "data": {
      "image/png": "[encoded data removed]",
      "text/plain": [
       "<Figure size 432x288 with 1 Axes>"
      ]
     },
     "metadata": {
      "needs_background": "light"
     },
     "output_type": "display_data"
    },
    {
     "data": {
      "image/png": "[encoded data removed]",
      "text/plain": [
       "<Figure size 432x288 with 1 Axes>"
      ]
     },
     "metadata": {
      "needs_background": "light"
     },
     "output_type": "display_data"
    },
    {
     "data": {
      "image/png": "[encoded data removed]",
      "text/plain": [
       "<Figure size 432x288 with 1 Axes>"
      ]
     },
     "metadata": {
      "needs_background": "light"
     },
     "output_type": "display_data"
    },
    {
     "data": {
      "image/png": "[encoded data removed]",
      "text/plain": [
       "<Figure size 432x288 with 1 Axes>"
      ]
     },
     "metadata": {
      "needs_background": "light"
     },
     "output_type": "display_data"
    },
    {
     "data": {
      "image/png": "[encoded data removed]",
      "text/plain": [
       "<Figure size 432x288 with 1 Axes>"
      ]
     },
     "metadata": {
      "needs_background": "light"
     },
     "output_type": "display_data"
    },
    {
     "data": {
      "image/png": "[encoded data removed]",
      "text/plain": [
       "<Figure size 432x288 with 1 Axes>"
      ]
     },
     "metadata": {
      "needs_background": "light"
     },
     "output_type": "display_data"
    },
    {
     "data": {
      "image/png": "[encoded data removed]",
      "text/plain": [
       "<Figure size 432x288 with 1 Axes>"
      ]
     },
     "metadata": {
      "needs_background": "light"
     },
     "output_type": "display_data"
    },
    {
     "data": {
      "image/png": "[encoded data removed]",
      "text/plain": [
       "<Figure size 432x288 with 1 Axes>"
      ]
     },
     "metadata": {
      "needs_background": "light"
     },
     "output_type": "display_data"
    },
    {
     "data": {
      "image/png": "[encoded data removed]",
      "text/plain": [
       "<Figure size 432x288 with 1 Axes>"
      ]
     },
     "metadata": {
      "needs_background": "light"
     },
     "output_type": "display_data"
    },
    {
     "data": {
      "image/png": "[encoded data removed]",
      "text/plain": [
       "<Figure size 432x288 with 1 Axes>"
      ]
     },
     "metadata": {
      "needs_background": "light"
     },
     "output_type": "display_data"
    },
    {
     "data": {
      "image/png": "[encoded data removed]",
      "text/plain": [
       "<Figure size 432x288 with 1 Axes>"
      ]
     },
     "metadata": {
      "needs_background": "light"
     },
     "output_type": "display_data"
    },
    {
     "data": {
      "image/png": "[encoded data removed]",
      "text/plain": [
       "<Figure size 432x288 with 1 Axes>"
      ]
     },
     "metadata": {
      "needs_background": "light"
     },
     "output_type": "display_data"
    },
    {
     "data": {
      "image/png": "[encoded data removed]",
      "text/plain": [
       "<Figure size 432x288 with 1 Axes>"
      ]
     },
     "metadata": {
      "needs_background": "light"
     },
     "output_type": "display_data"
    },
    {
     "data": {
      "image/png": "[encoded data removed]",
      "text/plain": [
       "<Figure size 432x288 with 1 Axes>"
      ]
     },
     "metadata": {
      "needs_background": "light"
     },
     "output_type": "display_data"
    },
    {
     "data": {
      "image/png": "[encoded data removed]",
      "text/plain": [
       "<Figure size 432x288 with 1 Axes>"
      ]
     },
     "metadata": {
      "needs_background": "light"
     },
     "output_type": "display_data"
    },
    {
     "data": {
      "image/png": "[encoded data removed]",
      "text/plain": [
       "<Figure size 432x288 with 1 Axes>"
      ]
     },
     "metadata": {
      "needs_background": "light"
     },
     "output_type": "display_data"
    },
    {
     "data": {
      "image/png": "[encoded data removed]",
      "text/plain": [
       "<Figure size 432x288 with 1 Axes>"
      ]
     },
     "metadata": {
      "needs_background": "light"
     },
     "output_type": "display_data"
    },
    {
     "data": {
      "image/png": "[encoded data removed]",
      "text/plain": [
       "<Figure size 432x288 with 1 Axes>"
      ]
     },
     "metadata": {
      "needs_background": "light"
     },
     "output_type": "display_data"
    },
    {
     "data": {
      "image/png": "[encoded data removed]",
      "text/plain": [
       "<Figure size 432x288 with 1 Axes>"
      ]
     },
     "metadata": {
      "needs_background": "light"
     },
     "output_type": "display_data"
    },
    {
     "data": {
      "image/png": "[encoded data removed]",
      "text/plain": [
       "<Figure size 432x288 with 1 Axes>"
      ]
     },
     "metadata": {
      "needs_background": "light"
     },
     "output_type": "display_data"
    },
    {
     "data": {
      "image/png": "[encoded data removed]",
      "text/plain": [
       "<Figure size 432x288 with 1 Axes>"
      ]
     },
     "metadata": {
      "needs_background": "light"
     },
     "output_type": "display_data"
    },
    {
     "data": {
      "image/png": "[encoded data removed]",
      "text/plain": [
       "<Figure size 432x288 with 1 Axes>"
      ]
     },
     "metadata": {
      "needs_background": "light"
     },
     "output_type": "display_data"
    },
    {
     "data": {
      "image/png": "[encoded data removed]",
      "text/plain": [
       "<Figure size 432x288 with 1 Axes>"
      ]
     },
     "metadata": {
      "needs_background": "light"
     },
     "output_type": "display_data"
    },
    {
     "data": {
      "image/png": "[encoded data removed]",
      "text/plain": [
       "<Figure size 432x288 with 1 Axes>"
      ]
     },
     "metadata": {
      "needs_background": "light"
     },
     "output_type": "display_data"
    },
    {
     "data": {
      "image/png": "[encoded data removed]",
      "text/plain": [
       "<Figure size 432x288 with 1 Axes>"
      ]
     },
     "metadata": {
      "needs_background": "light"
     },
     "output_type": "display_data"
    },
    {
     "data": {
      "image/png": "[encoded data removed]",
      "text/plain": [
       "<Figure size 432x288 with 1 Axes>"
      ]
     },
     "metadata": {
      "needs_background": "light"
     },
     "output_type": "display_data"
    },
    {
     "data": {
      "image/png": "[encoded data removed]",
      "text/plain": [
       "<Figure size 432x288 with 1 Axes>"
      ]
     },
     "metadata": {
      "needs_background": "light"
     },
     "output_type": "display_data"
    },
    {
     "data": {
      "image/png": "[encoded data removed]",
      "text/plain": [
       "<Figure size 432x288 with 1 Axes>"
      ]
     },
     "metadata": {
      "needs_background": "light"
     },
     "output_type": "display_data"
    },
    {
     "data": {
      "image/png": "[encoded data removed]",
      "text/plain": [
       "<Figure size 432x288 with 1 Axes>"
      ]
     },
     "metadata": {
      "needs_background": "light"
     },
     "output_type": "display_data"
    },
    {
     "data": {
      "image/png": "[encoded data removed]",
      "text/plain": [
       "<Figure size 432x288 with 1 Axes>"
      ]
     },
     "metadata": {
      "needs_background": "light"
     },
     "output_type": "display_data"
    },
    {
     "data": {
      "image/png": "[encoded data removed]",
      "text/plain": [
       "<Figure size 432x288 with 1 Axes>"
      ]
     },
     "metadata": {
      "needs_background": "light"
     },
     "output_type": "display_data"
    },
    {
     "data": {
      "image/png": "[encoded data removed]",
      "text/plain": [
       "<Figure size 432x288 with 1 Axes>"
      ]
     },
     "metadata": {
      "needs_background": "light"
     },
     "output_type": "display_data"
    },
    {
     "data": {
      "image/png": "[encoded data removed]",
      "text/plain": [
       "<Figure size 432x288 with 1 Axes>"
      ]
     },
     "metadata": {
      "needs_background": "light"
     },
     "output_type": "display_data"
    },
    {
     "data": {
      "image/png": "[encoded data removed]",
      "text/plain": [
       "<Figure size 432x288 with 1 Axes>"
      ]
     },
     "metadata": {
      "needs_background": "light"
     },
     "output_type": "display_data"
    },
    {
     "data": {
      "image/png": "[encoded data removed]",
      "text/plain": [
       "<Figure size 432x288 with 1 Axes>"
      ]
     },
     "metadata": {
      "needs_background": "light"
     },
     "output_type": "display_data"
    },
    {
     "data": {
      "image/png": "[encoded data removed]",
      "text/plain": [
       "<Figure size 432x288 with 1 Axes>"
      ]
     },
     "metadata": {
      "needs_background": "light"
     },
     "output_type": "display_data"
    },
    {
     "data": {
      "image/png": "[encoded data removed]",
      "text/plain": [
       "<Figure size 432x288 with 1 Axes>"
      ]
     },
     "metadata": {
      "needs_background": "light"
     },
     "output_type": "display_data"
    },
    {
     "data": {
      "image/png": "[encoded data removed]",
      "text/plain": [
       "<Figure size 432x288 with 1 Axes>"
      ]
     },
     "metadata": {
      "needs_background": "light"
     },
     "output_type": "display_data"
    },
    {
     "data": {
      "image/png": "[encoded data removed]",
      "text/plain": [
       "<Figure size 432x288 with 1 Axes>"
      ]
     },
     "metadata": {
      "needs_background": "light"
     },
     "output_type": "display_data"
    },
    {
     "data": {
      "image/png": "[encoded data removed]",
      "text/plain": [
       "<Figure size 432x288 with 1 Axes>"
      ]
     },
     "metadata": {
      "needs_background": "light"
     },
     "output_type": "display_data"
    },
    {
     "data": {
      "image/png": "[encoded data removed]",
      "text/plain": [
       "<Figure size 432x288 with 1 Axes>"
      ]
     },
     "metadata": {
      "needs_background": "light"
     },
     "output_type": "display_data"
    },
    {
     "data": {
      "image/png": "[encoded data removed]",
      "text/plain": [
       "<Figure size 432x288 with 1 Axes>"
      ]
     },
     "metadata": {
      "needs_background": "light"
     },
     "output_type": "display_data"
    },
    {
     "data": {
      "image/png": "[encoded data removed]",
      "text/plain": [
       "<Figure size 432x288 with 1 Axes>"
      ]
     },
     "metadata": {
      "needs_background": "light"
     },
     "output_type": "display_data"
    },
    {
     "data": {
      "image/png": "[encoded data removed]",
      "text/plain": [
       "<Figure size 432x288 with 1 Axes>"
      ]
     },
     "metadata": {
      "needs_background": "light"
     },
     "output_type": "display_data"
    },
    {
     "data": {
      "image/png": "[encoded data removed]",
      "text/plain": [
       "<Figure size 432x288 with 1 Axes>"
      ]
     },
     "metadata": {
      "needs_background": "light"
     },
     "output_type": "display_data"
    },
    {
     "data": {
      "image/png": "[encoded data removed]",
      "text/plain": [
       "<Figure size 432x288 with 1 Axes>"
      ]
     },
     "metadata": {
      "needs_background": "light"
     },
     "output_type": "display_data"
    },
    {
     "data": {
      "image/png": "[encoded data removed]",
      "text/plain": [
       "<Figure size 432x288 with 1 Axes>"
      ]
     },
     "metadata": {
      "needs_background": "light"
     },
     "output_type": "display_data"
    },
    {
     "data": {
      "image/png": "[encoded data removed]",
      "text/plain": [
       "<Figure size 432x288 with 1 Axes>"
      ]
     },
     "metadata": {
      "needs_background": "light"
     },
     "output_type": "display_data"
    },
    {
     "data": {
      "image/png": "[encoded data removed]",
      "text/plain": [
       "<Figure size 432x288 with 1 Axes>"
      ]
     },
     "metadata": {
      "needs_background": "light"
     },
     "output_type": "display_data"
    },
    {
     "data": {
      "image/png": "[encoded data removed]",
      "text/plain": [
       "<Figure size 432x288 with 1 Axes>"
      ]
     },
     "metadata": {
      "needs_background": "light"
     },
     "output_type": "display_data"
    },
    {
     "data": {
      "image/png": "[encoded data removed]",
      "text/plain": [
       "<Figure size 432x288 with 1 Axes>"
      ]
     },
     "metadata": {
      "needs_background": "light"
     },
     "output_type": "display_data"
    },
    {
     "data": {
      "image/png": "[encoded data removed]",
      "text/plain": [
       "<Figure size 432x288 with 1 Axes>"
      ]
     },
     "metadata": {
      "needs_background": "light"
     },
     "output_type": "display_data"
    },
    {
     "data": {
      "image/png": "[encoded data removed]",
      "text/plain": [
       "<Figure size 432x288 with 1 Axes>"
      ]
     },
     "metadata": {
      "needs_background": "light"
     },
     "output_type": "display_data"
    },
    {
     "data": {
      "image/png": "[encoded data removed]",
      "text/plain": [
       "<Figure size 432x288 with 1 Axes>"
      ]
     },
     "metadata": {
      "needs_background": "light"
     },
     "output_type": "display_data"
    },
    {
     "data": {
      "image/png": "[encoded data removed]",
      "text/plain": [
       "<Figure size 432x288 with 1 Axes>"
      ]
     },
     "metadata": {
      "needs_background": "light"
     },
     "output_type": "display_data"
    },
    {
     "data": {
      "image/png": "[encoded data removed]",
      "text/plain": [
       "<Figure size 432x288 with 1 Axes>"
      ]
     },
     "metadata": {
      "needs_background": "light"
     },
     "output_type": "display_data"
    },
    {
     "data": {
      "image/png": "[encoded data removed]",
      "text/plain": [
       "<Figure size 432x288 with 1 Axes>"
      ]
     },
     "metadata": {
      "needs_background": "light"
     },
     "output_type": "display_data"
    },
    {
     "data": {
      "image/png": "[encoded data removed]",
      "text/plain": [
       "<Figure size 432x288 with 1 Axes>"
      ]
     },
     "metadata": {
      "needs_background": "light"
     },
     "output_type": "display_data"
    },
    {
     "data": {
      "image/png": "[encoded data removed]",
      "text/plain": [
       "<Figure size 432x288 with 1 Axes>"
      ]
     },
     "metadata": {
      "needs_background": "light"
     },
     "output_type": "display_data"
    },
    {
     "data": {
      "image/png": "[encoded data removed]",
      "text/plain": [
       "<Figure size 432x288 with 1 Axes>"
      ]
     },
     "metadata": {
      "needs_background": "light"
     },
     "output_type": "display_data"
    },
    {
     "data": {
      "image/png": "[encoded data removed]",
      "text/plain": [
       "<Figure size 432x288 with 1 Axes>"
      ]
     },
     "metadata": {
      "needs_background": "light"
     },
     "output_type": "display_data"
    },
    {
     "data": {
      "image/png": "[encoded data removed]",
      "text/plain": [
       "<Figure size 432x288 with 1 Axes>"
      ]
     },
     "metadata": {
      "needs_background": "light"
     },
     "output_type": "display_data"
    },
    {
     "data": {
      "image/png": "[encoded data removed]",
      "text/plain": [
       "<Figure size 432x288 with 1 Axes>"
      ]
     },
     "metadata": {
      "needs_background": "light"
     },
     "output_type": "display_data"
    },
    {
     "data": {
      "image/png": "[encoded data removed]",
      "text/plain": [
       "<Figure size 432x288 with 1 Axes>"
      ]
     },
     "metadata": {
      "needs_background": "light"
     },
     "output_type": "display_data"
    },
    {
     "data": {
      "image/png": "[encoded data removed]",
      "text/plain": [
       "<Figure size 432x288 with 1 Axes>"
      ]
     },
     "metadata": {
      "needs_background": "light"
     },
     "output_type": "display_data"
    },
    {
     "data": {
      "image/png": "[encoded data removed]",
      "text/plain": [
       "<Figure size 432x288 with 1 Axes>"
      ]
     },
     "metadata": {
      "needs_background": "light"
     },
     "output_type": "display_data"
    },
    {
     "data": {
      "image/png": "[encoded data removed]",
      "text/plain": [
       "<Figure size 432x288 with 1 Axes>"
      ]
     },
     "metadata": {
      "needs_background": "light"
     },
     "output_type": "display_data"
    },
    {
     "data": {
      "image/png": "[encoded data removed]",
      "text/plain": [
       "<Figure size 432x288 with 1 Axes>"
      ]
     },
     "metadata": {
      "needs_background": "light"
     },
     "output_type": "display_data"
    },
    {
     "data": {
      "image/png": "[encoded data removed]",
      "text/plain": [
       "<Figure size 432x288 with 1 Axes>"
      ]
     },
     "metadata": {
      "needs_background": "light"
     },
     "output_type": "display_data"
    },
    {
     "data": {
      "image/png": "[encoded data removed]",
      "text/plain": [
       "<Figure size 432x288 with 1 Axes>"
      ]
     },
     "metadata": {
      "needs_background": "light"
     },
     "output_type": "display_data"
    },
    {
     "data": {
      "image/png": "[encoded data removed]",
      "text/plain": [
       "<Figure size 432x288 with 1 Axes>"
      ]
     },
     "metadata": {
      "needs_background": "light"
     },
     "output_type": "display_data"
    },
    {
     "data": {
      "image/png": "[encoded data removed]",
      "text/plain": [
       "<Figure size 432x288 with 1 Axes>"
      ]
     },
     "metadata": {
      "needs_background": "light"
     },
     "output_type": "display_data"
    },
    {
     "data": {
      "image/png": "[encoded data removed]",
      "text/plain": [
       "<Figure size 432x288 with 1 Axes>"
      ]
     },
     "metadata": {
      "needs_background": "light"
     },
     "output_type": "display_data"
    },
    {
     "data": {
      "image/png": "[encoded data removed]",
      "text/plain": [
       "<Figure size 432x288 with 1 Axes>"
      ]
     },
     "metadata": {
      "needs_background": "light"
     },
     "output_type": "display_data"
    },
    {
     "data": {
      "image/png": "[encoded data removed]",
      "text/plain": [
       "<Figure size 432x288 with 1 Axes>"
      ]
     },
     "metadata": {
      "needs_background": "light"
     },
     "output_type": "display_data"
    },
    {
     "data": {
      "image/png": "[encoded data removed]",
      "text/plain": [
       "<Figure size 432x288 with 1 Axes>"
      ]
     },
     "metadata": {
      "needs_background": "light"
     },
     "output_type": "display_data"
    },
    {
     "data": {
      "image/png": "[encoded data removed]",
      "text/plain": [
       "<Figure size 432x288 with 1 Axes>"
      ]
     },
     "metadata": {
      "needs_background": "light"
     },
     "output_type": "display_data"
    },
    {
     "data": {
      "image/png": "[encoded data removed]",
      "text/plain": [
       "<Figure size 432x288 with 1 Axes>"
      ]
     },
     "metadata": {
      "needs_background": "light"
     },
     "output_type": "display_data"
    },
    {
     "data": {
      "image/png": "[encoded data removed]",
      "text/plain": [
       "<Figure size 432x288 with 1 Axes>"
      ]
     },
     "metadata": {
      "needs_background": "light"
     },
     "output_type": "display_data"
    },
    {
     "data": {
      "image/png": "[encoded data removed]",
      "text/plain": [
       "<Figure size 432x288 with 1 Axes>"
      ]
     },
     "metadata": {
      "needs_background": "light"
     },
     "output_type": "display_data"
    },
    {
     "data": {
      "image/png": "[encoded data removed]",
      "text/plain": [
       "<Figure size 432x288 with 1 Axes>"
      ]
     },
     "metadata": {
      "needs_background": "light"
     },
     "output_type": "display_data"
    },
    {
     "data": {
      "image/png": "[encoded data removed]",
      "text/plain": [
       "<Figure size 432x288 with 1 Axes>"
      ]
     },
     "metadata": {
      "needs_background": "light"
     },
     "output_type": "display_data"
    },
    {
     "data": {
      "image/png": "[encoded data removed]",
      "text/plain": [
       "<Figure size 432x288 with 1 Axes>"
      ]
     },
     "metadata": {
      "needs_background": "light"
     },
     "output_type": "display_data"
    },
    {
     "data": {
      "image/png": "[encoded data removed]",
      "text/plain": [
       "<Figure size 432x288 with 1 Axes>"
      ]
     },
     "metadata": {
      "needs_background": "light"
     },
     "output_type": "display_data"
    }
   ],
   "source": [
    "for img in all_offsets:\n",
    "    plt.imshow(img)\n",
    "    plt.show()"
   ]
  },
  {
   "cell_type": "code",
   "execution_count": 24,
   "metadata": {},
   "outputs": [],
   "source": [
    "def np_to_pytorch_imgs(inputs, channel_first=True):\n",
    "    if channel_first:\n",
    "        if len(inputs.shape) == 3: \n",
    "            inputs = np.expand_dims(inputs, 1)\n",
    "        elif len(inputs.shape) == 2:\n",
    "            inputs = np.expand_dims(inputs, 0)\n",
    "    else:\n",
    "        inputs = np.expand_dims(inputs, -1)\n",
    "        \n",
    "    inputs_torch = torch.from_numpy(inputs).to(torch.float)\n",
    "    inputs_torch /= 255\n",
    "    return inputs_torch"
   ]
  },
  {
   "cell_type": "code",
   "execution_count": 25,
   "metadata": {},
   "outputs": [],
   "source": [
    "input_offsets = np_to_pytorch_imgs(all_offsets).to(device)"
   ]
  },
  {
   "cell_type": "markdown",
   "metadata": {},
   "source": [
    "## Test some DNNs"
   ]
  },
  {
   "cell_type": "code",
   "execution_count": 26,
   "metadata": {},
   "outputs": [
    {
     "name": "stdout",
     "output_type": "stream",
     "text": [
      "loading model pretrained_models/mnist\\model_FCNet5_2019-10-01 19.54.00.177928_97.96.pth\n",
      "loading model pretrained_models/mnist\\model_FCNet10_2019-10-01 20.00.52.119894_97.92.pth\n",
      "loading model pretrained_models/mnist\\model_Conv1DNet_2019-10-02 00.20.02.430722_98.17.pth\n",
      "loading model pretrained_models/mnist\\model_Conv2DNet_2019-07-25 16.16.26.580052_98.82.pth\n"
     ]
    }
   ],
   "source": [
    "## DenseNet5\n",
    "fcnet5 = FCNet5().to(device)\n",
    "fcnet5, _ = get_pretrained_weights(fcnet5) \n",
    "\n",
    "## DenseNet10\n",
    "fcnet10 = FCNet10().to(device) \n",
    "fcnet10, _ = get_pretrained_weights(fcnet10)\n",
    "\n",
    "## Conv1DNet\n",
    "conv1dnet = Conv1DNet().to(device)\n",
    "conv1dnet, _ = get_pretrained_weights(conv1dnet)\n",
    "\n",
    "## Conv2DNet\n",
    "conv2dnet = Conv2DNet().to(device)\n",
    "conv2dnet, _ = get_pretrained_weights(conv2dnet)"
   ]
  },
  {
   "cell_type": "code",
   "execution_count": 27,
   "metadata": {},
   "outputs": [
    {
     "name": "stdout",
     "output_type": "stream",
     "text": [
      "model_type: FCNet5 \t acc: 0.2708333432674408\n",
      "model_type: FCNet10 \t acc: 0.28125\n",
      "model_type: Conv1DNet \t acc: 0.4166666865348816\n",
      "model_type: Conv2DNet \t acc: 0.6458333730697632\n"
     ]
    }
   ],
   "source": [
    "for model in [fcnet5, fcnet10, conv1dnet, conv2dnet]:\n",
    "    model_type = model.__class__.__name__\n",
    "    y_pred = torch.argmax(model(input_offsets), dim=1)\n",
    "    acc = y_pred.eq(y_true.data).sum().float() / len(y_true)\n",
    "    print('model_type:', model_type, '\\t', 'acc:', acc.item())"
   ]
  },
  {
   "cell_type": "markdown",
   "metadata": {},
   "source": [
    "## Larger Test"
   ]
  },
  {
   "cell_type": "code",
   "execution_count": null,
   "metadata": {},
   "outputs": [],
   "source": [
    "def generate_all_translations(inputs, targets):\n",
    "    \n",
    "    new_inputs = []\n",
    "    new_targets = []\n",
    "    \n",
    "    for i, (instance, label) in enumerate(zip(inputs, targets)):\n",
    "        #print(i)\n",
    "        \n",
    "        # Locate digit with bounding box\n",
    "        img = torch.squeeze(instance) * 255\n",
    "        img_np = img.cpu().numpy().astype(np.uint8)\n",
    "        retVal, threshold_image = cv2.threshold(img_np,0,255,cv2.THRESH_BINARY+cv2.THRESH_OTSU)\n",
    "        contours, hierarchy = cv2.findContours(threshold_image, cv2.RETR_EXTERNAL, cv2.CHAIN_APPROX_SIMPLE)\n",
    "        if len(np.array(contours).shape) < 4:\n",
    "            print(\"contours could not find a suitable rectangle to extract. Skipping image #\", i)\n",
    "            continue\n",
    "        contours = np.squeeze(np.array(contours), 0)\n",
    "        x,y,w,h = cv2.boundingRect(contours)\n",
    "        bounded_img = img_np[y:y+h, x:x+w]\n",
    "        \n",
    "        # Generate new images with translations of the original\n",
    "        target_shape = img_np.shape\n",
    "        bounded_shape = bounded_img.shape\n",
    "        max_dim0_offset = target_shape[0] - bounded_shape[0]\n",
    "        max_dim1_offset = target_shape[1] - bounded_shape[1]\n",
    "        max_offsets = [max_dim0_offset, max_dim1_offset]\n",
    "\n",
    "        y_true = label.repeat(max_dim0_offset * max_dim1_offset)\n",
    "        \n",
    "        all_offsets_for_X = generate_all_offsets(bounded_img, img_np, max_offsets)\n",
    "        all_offsets_for_X = np_to_pytorch_imgs(all_offsets_for_X).to(device)\n",
    "        \n",
    "        new_inputs.append(all_offsets_for_X)\n",
    "        new_targets.append(y_true)\n",
    "        \n",
    "        i+=1\n",
    "        \n",
    "    new_inputs = torch.cat(new_inputs, 0)\n",
    "    new_targets = torch.cat(new_targets, 0)\n",
    "    \n",
    "    return new_inputs, new_targets"
   ]
  },
  {
   "cell_type": "markdown",
   "metadata": {},
   "source": [
    "# Final Run"
   ]
  },
  {
   "cell_type": "code",
   "execution_count": 19,
   "metadata": {},
   "outputs": [
    {
     "name": "stdout",
     "output_type": "stream",
     "text": [
      "loading model pretrained_models/mnist\\model_FCNet5_2019-10-01 19.54.00.177928_97.96.pth\n",
      "loading model pretrained_models/mnist\\model_FCNet10_2019-10-01 20.00.52.119894_97.92.pth\n",
      "loading model pretrained_models/mnist\\model_Conv1DNet_2019-10-02 00.20.02.430722_98.17.pth\n",
      "loading model pretrained_models/mnist\\model_Conv2DNet_2019-07-25 16.16.26.580052_98.82.pth\n"
     ]
    }
   ],
   "source": [
    "## DenseNet5\n",
    "fcnet5 = FCNet5().to(device)\n",
    "fcnet5 = get_pretrained_weights(fcnet5) \n",
    "\n",
    "## DenseNet10\n",
    "fcnet10 = FCNet10().to(device) \n",
    "fcnet10 = get_pretrained_weights(fcnet10)\n",
    "\n",
    "## Conv1DNet\n",
    "conv1dnet = Conv1DNet().to(device)\n",
    "conv1dnet = get_pretrained_weights(conv1dnet)\n",
    "\n",
    "## Conv2DNet\n",
    "conv2dnet = Conv2DNet().to(device)\n",
    "conv2dnet = get_pretrained_weights(conv2dnet)"
   ]
  },
  {
   "cell_type": "code",
   "execution_count": 56,
   "metadata": {},
   "outputs": [],
   "source": [
    "data_dir = \"C:\\data\\MNIST\"\n",
    "batch_size_test = 100\n",
    "\n",
    "test_loader = torch.utils.data.DataLoader(\n",
    "    torchvision.datasets.MNIST(data_dir, train=False, download=True,\n",
    "                         transform=torchvision.transforms.Compose([\n",
    "                           torchvision.transforms.ToTensor()\n",
    "                         ])),\n",
    "    batch_size=batch_size_test, shuffle=False, pin_memory=True)\n",
    "\n",
    "inputs, targets = next(iter(test_loader))\n",
    "inputs = inputs.to(device)\n",
    "targets = targets.to(device)"
   ]
  },
  {
   "cell_type": "code",
   "execution_count": 57,
   "metadata": {},
   "outputs": [
    {
     "name": "stdout",
     "output_type": "stream",
     "text": [
      "could not generate bounded box for image # 8\n",
      "could not generate bounded box for image # 59\n"
     ]
    }
   ],
   "source": [
    "new_inputs, new_targets = generate_all_translations(inputs, targets)"
   ]
  },
  {
   "cell_type": "code",
   "execution_count": 58,
   "metadata": {},
   "outputs": [],
   "source": [
    "inputs = inputs.cpu()\n",
    "targets = targets.cpu()\n",
    "\n",
    "new_inputs = new_inputs.cpu()\n",
    "new_targets = new_targets.cpu()"
   ]
  },
  {
   "cell_type": "code",
   "execution_count": 61,
   "metadata": {},
   "outputs": [
    {
     "name": "stdout",
     "output_type": "stream",
     "text": [
      "model_type: FCNet5 \t orig_acc: 1.0000 \t new_acc: 0.3075\n",
      "model_type: FCNet10 \t orig_acc: 1.0000 \t new_acc: 0.3585\n",
      "model_type: Conv1DNet \t orig_acc: 0.9900 \t new_acc: 0.3841\n",
      "model_type: Conv2DNet \t orig_acc: 1.0000 \t new_acc: 0.4842\n"
     ]
    }
   ],
   "source": [
    "for model in [fcnet5, fcnet10, conv1dnet, conv2dnet]:\n",
    "    model.cpu()\n",
    "    model.eval()\n",
    "    model_type = model.__class__.__name__    \n",
    "    orig_acc = get_accuracy(model, inputs, targets) \n",
    "    new_acc = get_accuracy(model, new_inputs, new_targets) \n",
    "    print(\"model_type: {} \\t orig_acc: {:.4f} \\t new_acc: {:.4f}\".format(model_type, orig_acc.item(), new_acc.item()))"
   ]
  },
  {
   "cell_type": "markdown",
   "metadata": {},
   "source": [
    "# Training with Augmentation"
   ]
  },
  {
   "cell_type": "code",
   "execution_count": 64,
   "metadata": {},
   "outputs": [
    {
     "data": {
      "text/plain": [
       "<torch._C.Generator at 0x15f3fbb8f70>"
      ]
     },
     "execution_count": 64,
     "metadata": {},
     "output_type": "execute_result"
    }
   ],
   "source": [
    "random_seed = 1\n",
    "torch.manual_seed(random_seed)"
   ]
  },
  {
   "cell_type": "code",
   "execution_count": 68,
   "metadata": {},
   "outputs": [],
   "source": [
    "data_dir = \"C:\\data\\MNIST\"\n",
    "batch_size_train = 10\n",
    "batch_size_test = 100"
   ]
  },
  {
   "cell_type": "code",
   "execution_count": 69,
   "metadata": {},
   "outputs": [],
   "source": [
    "train_loader = torch.utils.data.DataLoader(\n",
    "    torchvision.datasets.MNIST(data_dir, train=True, download=True,\n",
    "                             transform=torchvision.transforms.Compose([\n",
    "                               torchvision.transforms.ToTensor()\n",
    "                             ])),\n",
    "    batch_size=batch_size_train, shuffle=True, pin_memory=True)\n",
    "\n",
    "test_loader = torch.utils.data.DataLoader(\n",
    "    torchvision.datasets.MNIST(data_dir, train=False, download=True,\n",
    "                         transform=torchvision.transforms.Compose([\n",
    "                           torchvision.transforms.ToTensor()\n",
    "                         ])),\n",
    "    batch_size=batch_size_test, shuffle=False, pin_memory=True)"
   ]
  },
  {
   "cell_type": "code",
   "execution_count": 94,
   "metadata": {
    "scrolled": true
   },
   "outputs": [
    {
     "name": "stdout",
     "output_type": "stream",
     "text": [
      "Train Epoch: 1 [1152 (0%)]\tLoss: 2.284543\n",
      "Train Epoch: 1 [106040 (2%)]\tLoss: 2.312361\n",
      "Train Epoch: 1 [211250 (3%)]\tLoss: 2.240079\n",
      "Train Epoch: 1 [319700 (5%)]\tLoss: 2.369678\n",
      "Train Epoch: 1 [426040 (7%)]\tLoss: 2.370829\n",
      "Train Epoch: 1 [534138 (8%)]\tLoss: 2.194831\n",
      "Train Epoch: 1 [639684 (10%)]\tLoss: 2.385115\n",
      "Train Epoch: 1 [746798 (12%)]\tLoss: 2.247084\n",
      "Train Epoch: 1 [853067 (13%)]\tLoss: 2.352838\n",
      "Train Epoch: 1 [958508 (15%)]\tLoss: 2.346495\n",
      "Train Epoch: 1 [1063241 (17%)]\tLoss: 2.272245\n",
      "Train Epoch: 1 [1167997 (18%)]\tLoss: 2.322639\n",
      "Train Epoch: 1 [1273082 (20%)]\tLoss: 2.411044\n",
      "Train Epoch: 1 [1377764 (22%)]\tLoss: 2.278210\n",
      "Train Epoch: 1 [1485859 (23%)]\tLoss: 2.189764\n",
      "Train Epoch: 1 [1591691 (25%)]\tLoss: 2.361736\n",
      "Train Epoch: 1 [1696719 (27%)]\tLoss: 2.281362\n",
      "Train Epoch: 1 [1801135 (28%)]\tLoss: 2.244180\n",
      "Train Epoch: 1 [1905654 (30%)]\tLoss: 2.252712\n",
      "Train Epoch: 1 [2011960 (32%)]\tLoss: 2.298680\n",
      "Train Epoch: 1 [2118671 (33%)]\tLoss: 2.224273\n",
      "Train Epoch: 1 [2223162 (35%)]\tLoss: 2.097365\n",
      "Train Epoch: 1 [2330316 (37%)]\tLoss: 2.220277\n",
      "Train Epoch: 1 [2436798 (38%)]\tLoss: 2.023362\n",
      "Train Epoch: 1 [2543506 (40%)]\tLoss: 2.207919\n",
      "Train Epoch: 1 [2649944 (42%)]\tLoss: 2.112105\n",
      "Train Epoch: 1 [2756135 (43%)]\tLoss: 1.767174\n",
      "Train Epoch: 1 [2862102 (45%)]\tLoss: 1.977767\n",
      "Train Epoch: 1 [2968153 (47%)]\tLoss: 1.876651\n",
      "Train Epoch: 1 [3075171 (48%)]\tLoss: 1.801537\n",
      "Train Epoch: 1 [3183740 (50%)]\tLoss: 1.785856\n",
      "Train Epoch: 1 [3290464 (52%)]\tLoss: 1.543123\n",
      "Train Epoch: 1 [3396088 (53%)]\tLoss: 1.548777\n",
      "Train Epoch: 1 [3501774 (55%)]\tLoss: 1.810611\n",
      "Train Epoch: 1 [3609418 (57%)]\tLoss: 1.880554\n",
      "Train Epoch: 1 [3715475 (58%)]\tLoss: 2.324701\n",
      "Train Epoch: 1 [3819913 (60%)]\tLoss: 1.632957\n",
      "Train Epoch: 1 [3927128 (62%)]\tLoss: 1.783930\n",
      "Train Epoch: 1 [4033777 (63%)]\tLoss: 1.035755\n",
      "Train Epoch: 1 [4138691 (65%)]\tLoss: 1.420395\n",
      "Train Epoch: 1 [4244066 (67%)]\tLoss: 1.558297\n",
      "Train Epoch: 1 [4349705 (68%)]\tLoss: 1.492494\n",
      "Train Epoch: 1 [4456455 (70%)]\tLoss: 1.693419\n",
      "Train Epoch: 1 [4561210 (72%)]\tLoss: 1.280564\n",
      "Train Epoch: 1 [4667980 (73%)]\tLoss: 1.674607\n",
      "Train Epoch: 1 [4774813 (75%)]\tLoss: 1.328430\n",
      "Train Epoch: 1 [4880102 (77%)]\tLoss: 1.116995\n",
      "Train Epoch: 1 [4986327 (78%)]\tLoss: 1.103672\n",
      "Train Epoch: 1 [5090574 (80%)]\tLoss: 1.378763\n",
      "Train Epoch: 1 [5196209 (82%)]\tLoss: 1.605077\n",
      "Train Epoch: 1 [5301015 (83%)]\tLoss: 1.232188\n",
      "Train Epoch: 1 [5406895 (85%)]\tLoss: 0.942688\n",
      "Train Epoch: 1 [5512434 (87%)]\tLoss: 1.711488\n",
      "Train Epoch: 1 [5619852 (88%)]\tLoss: 1.099887\n",
      "Train Epoch: 1 [5725049 (90%)]\tLoss: 1.014699\n",
      "Train Epoch: 1 [5831404 (92%)]\tLoss: 1.217290\n",
      "Train Epoch: 1 [5936727 (93%)]\tLoss: 1.193995\n",
      "Train Epoch: 1 [6041835 (95%)]\tLoss: 1.252043\n",
      "Train Epoch: 1 [6147798 (97%)]\tLoss: 1.120781\n",
      "Train Epoch: 1 [6254975 (98%)]\tLoss: 0.993366\n",
      "\n",
      "Test set: Average loss: 0.9373, Accuracy: 705346/1064529 (66.26%)\n",
      "\n",
      "Train Epoch: 2 [1120 (0%)]\tLoss: 1.000902\n",
      "Train Epoch: 2 [107243 (2%)]\tLoss: 1.107013\n",
      "Train Epoch: 2 [212983 (3%)]\tLoss: 1.127367\n",
      "Train Epoch: 2 [320140 (5%)]\tLoss: 0.708614\n",
      "Train Epoch: 2 [426008 (7%)]\tLoss: 1.853560\n",
      "Train Epoch: 2 [533035 (8%)]\tLoss: 1.310451\n",
      "Train Epoch: 2 [638588 (10%)]\tLoss: 0.880638\n",
      "Train Epoch: 2 [742614 (12%)]\tLoss: 0.948044\n",
      "Train Epoch: 2 [847655 (13%)]\tLoss: 0.934744\n",
      "Train Epoch: 2 [952794 (15%)]\tLoss: 0.973140\n",
      "Train Epoch: 2 [1059254 (17%)]\tLoss: 0.541247\n",
      "Train Epoch: 2 [1166218 (18%)]\tLoss: 0.776902\n",
      "Train Epoch: 2 [1272782 (20%)]\tLoss: 0.716617\n",
      "Train Epoch: 2 [1378437 (22%)]\tLoss: 0.928811\n",
      "Train Epoch: 2 [1484655 (23%)]\tLoss: 0.889244\n",
      "Train Epoch: 2 [1591293 (25%)]\tLoss: 0.910781\n",
      "Train Epoch: 2 [1696951 (27%)]\tLoss: 0.674553\n",
      "Train Epoch: 2 [1802327 (28%)]\tLoss: 0.990866\n",
      "Train Epoch: 2 [1907809 (30%)]\tLoss: 0.821661\n",
      "Train Epoch: 2 [2014079 (32%)]\tLoss: 1.403507\n",
      "Train Epoch: 2 [2117863 (33%)]\tLoss: 0.937569\n",
      "Train Epoch: 2 [2225141 (35%)]\tLoss: 0.726708\n",
      "Train Epoch: 2 [2332325 (37%)]\tLoss: 0.680743\n",
      "Train Epoch: 2 [2438123 (38%)]\tLoss: 0.630626\n",
      "Train Epoch: 2 [2545400 (40%)]\tLoss: 1.223117\n",
      "Train Epoch: 2 [2651043 (42%)]\tLoss: 0.946087\n",
      "Train Epoch: 2 [2756943 (43%)]\tLoss: 0.537997\n",
      "Train Epoch: 2 [2861764 (45%)]\tLoss: 1.010992\n",
      "Train Epoch: 2 [2968120 (47%)]\tLoss: 0.976927\n",
      "Train Epoch: 2 [3074049 (48%)]\tLoss: 1.152169\n",
      "Train Epoch: 2 [3178442 (50%)]\tLoss: 1.093090\n",
      "Train Epoch: 2 [3283682 (52%)]\tLoss: 1.026532\n",
      "Train Epoch: 2 [3389405 (53%)]\tLoss: 0.564271\n",
      "Train Epoch: 2 [3496713 (55%)]\tLoss: 0.638944\n",
      "Train Epoch: 2 [3603236 (57%)]\tLoss: 0.485131\n",
      "Train Epoch: 2 [3709231 (58%)]\tLoss: 1.137240\n",
      "Train Epoch: 2 [3816000 (60%)]\tLoss: 0.565960\n",
      "Train Epoch: 2 [3922701 (62%)]\tLoss: 0.571100\n",
      "Train Epoch: 2 [4028267 (63%)]\tLoss: 0.940750\n",
      "Train Epoch: 2 [4135061 (65%)]\tLoss: 1.571385\n",
      "Train Epoch: 2 [4238629 (67%)]\tLoss: 1.083521\n",
      "Train Epoch: 2 [4343803 (68%)]\tLoss: 0.447621\n",
      "Train Epoch: 2 [4451194 (70%)]\tLoss: 0.506060\n",
      "Train Epoch: 2 [4557200 (72%)]\tLoss: 0.556954\n",
      "Train Epoch: 2 [4663557 (73%)]\tLoss: 0.491129\n",
      "Train Epoch: 2 [4770900 (75%)]\tLoss: 0.358068\n",
      "Train Epoch: 2 [4875438 (77%)]\tLoss: 1.043058\n",
      "Train Epoch: 2 [4981349 (78%)]\tLoss: 0.840781\n",
      "Train Epoch: 2 [5088726 (80%)]\tLoss: 0.306630\n",
      "Train Epoch: 2 [5195112 (82%)]\tLoss: 0.729720\n",
      "Train Epoch: 2 [5303977 (83%)]\tLoss: 0.811628\n",
      "Train Epoch: 2 [5410073 (85%)]\tLoss: 0.925703\n",
      "Train Epoch: 2 [5517064 (87%)]\tLoss: 0.936702\n",
      "Train Epoch: 2 [5621789 (88%)]\tLoss: 0.389774\n",
      "Train Epoch: 2 [5727350 (90%)]\tLoss: 0.836258\n",
      "Train Epoch: 2 [5833981 (92%)]\tLoss: 0.411878\n",
      "Train Epoch: 2 [5938269 (93%)]\tLoss: 0.661879\n",
      "Train Epoch: 2 [6044681 (95%)]\tLoss: 0.589868\n",
      "Train Epoch: 2 [6150146 (97%)]\tLoss: 0.616218\n",
      "Train Epoch: 2 [6255076 (98%)]\tLoss: 0.377699\n",
      "\n",
      "Test set: Average loss: 0.4022, Accuracy: 932045/1064529 (87.55%)\n",
      "\n",
      "Train Epoch: 3 [1184 (0%)]\tLoss: 0.973641\n",
      "Train Epoch: 3 [107091 (2%)]\tLoss: 0.358010\n",
      "Train Epoch: 3 [213200 (3%)]\tLoss: 0.921550\n",
      "Train Epoch: 3 [317197 (5%)]\tLoss: 0.416555\n",
      "Train Epoch: 3 [421516 (7%)]\tLoss: 0.470088\n",
      "Train Epoch: 3 [528771 (8%)]\tLoss: 0.590136\n",
      "Train Epoch: 3 [635065 (10%)]\tLoss: 0.295529\n",
      "Train Epoch: 3 [741865 (12%)]\tLoss: 0.635654\n",
      "Train Epoch: 3 [847276 (13%)]\tLoss: 1.284969\n",
      "Train Epoch: 3 [953174 (15%)]\tLoss: 0.336833\n",
      "Train Epoch: 3 [1060545 (17%)]\tLoss: 1.095888\n",
      "Train Epoch: 3 [1166920 (18%)]\tLoss: 0.793186\n",
      "Train Epoch: 3 [1271791 (20%)]\tLoss: 0.868436\n",
      "Train Epoch: 3 [1378730 (22%)]\tLoss: 1.015987\n",
      "Train Epoch: 3 [1484919 (23%)]\tLoss: 0.392707\n",
      "Train Epoch: 3 [1589981 (25%)]\tLoss: 0.514872\n",
      "Train Epoch: 3 [1698224 (27%)]\tLoss: 0.337570\n",
      "Train Epoch: 3 [1804330 (28%)]\tLoss: 0.302223\n",
      "Train Epoch: 3 [1909685 (30%)]\tLoss: 0.554234\n",
      "Train Epoch: 3 [2016649 (32%)]\tLoss: 0.483364\n",
      "Train Epoch: 3 [2122567 (33%)]\tLoss: 0.382747\n",
      "Train Epoch: 3 [2228961 (35%)]\tLoss: 0.188026\n",
      "Train Epoch: 3 [2334362 (37%)]\tLoss: 0.216410\n",
      "Train Epoch: 3 [2440781 (38%)]\tLoss: 0.286024\n",
      "Train Epoch: 3 [2547274 (40%)]\tLoss: 0.186905\n",
      "Train Epoch: 3 [2653855 (42%)]\tLoss: 1.067499\n",
      "Train Epoch: 3 [2758948 (43%)]\tLoss: 0.718371\n",
      "Train Epoch: 3 [2865246 (45%)]\tLoss: 1.016905\n",
      "Train Epoch: 3 [2969411 (47%)]\tLoss: 0.277562\n",
      "Train Epoch: 3 [3076022 (48%)]\tLoss: 0.453463\n",
      "Train Epoch: 3 [3180064 (50%)]\tLoss: 0.429508\n",
      "Train Epoch: 3 [3286292 (52%)]\tLoss: 0.346135\n",
      "Train Epoch: 3 [3393150 (53%)]\tLoss: 1.146513\n",
      "Train Epoch: 3 [3499302 (55%)]\tLoss: 0.168790\n",
      "Train Epoch: 3 [3604382 (57%)]\tLoss: 0.355733\n",
      "Train Epoch: 3 [3711342 (58%)]\tLoss: 0.567323\n",
      "Train Epoch: 3 [3816354 (60%)]\tLoss: 0.586616\n",
      "Train Epoch: 3 [3921619 (62%)]\tLoss: 0.357225\n",
      "Train Epoch: 3 [4028639 (63%)]\tLoss: 0.495706\n",
      "Train Epoch: 3 [4135047 (65%)]\tLoss: 0.355197\n",
      "Train Epoch: 3 [4240524 (67%)]\tLoss: 0.452217\n",
      "Train Epoch: 3 [4346437 (68%)]\tLoss: 0.253712\n",
      "Train Epoch: 3 [4453008 (70%)]\tLoss: 0.352585\n",
      "Train Epoch: 3 [4559000 (72%)]\tLoss: 0.156047\n",
      "Train Epoch: 3 [4665127 (73%)]\tLoss: 0.712182\n",
      "Train Epoch: 3 [4772196 (75%)]\tLoss: 0.360140\n",
      "Train Epoch: 3 [4877043 (77%)]\tLoss: 0.467735\n",
      "Train Epoch: 3 [4983593 (78%)]\tLoss: 0.229785\n",
      "Train Epoch: 3 [5089489 (80%)]\tLoss: 0.396051\n",
      "Train Epoch: 3 [5194804 (82%)]\tLoss: 1.278681\n",
      "Train Epoch: 3 [5301181 (83%)]\tLoss: 0.340191\n",
      "Train Epoch: 3 [5405958 (85%)]\tLoss: 0.386681\n",
      "Train Epoch: 3 [5513038 (87%)]\tLoss: 1.074110\n",
      "Train Epoch: 3 [5619219 (88%)]\tLoss: 0.142158\n",
      "Train Epoch: 3 [5725225 (90%)]\tLoss: 0.183038\n",
      "Train Epoch: 3 [5830263 (92%)]\tLoss: 0.442240\n",
      "Train Epoch: 3 [5936057 (93%)]\tLoss: 0.423113\n",
      "Train Epoch: 3 [6041309 (95%)]\tLoss: 0.460048\n",
      "Train Epoch: 3 [6148303 (97%)]\tLoss: 0.404739\n",
      "Train Epoch: 3 [6254469 (98%)]\tLoss: 0.311470\n",
      "\n",
      "Test set: Average loss: 0.2340, Accuracy: 994557/1064529 (93.43%)\n",
      "\n",
      "Train Epoch: 4 [968 (0%)]\tLoss: 0.274925\n",
      "Train Epoch: 4 [107016 (2%)]\tLoss: 0.417241\n",
      "Train Epoch: 4 [213137 (3%)]\tLoss: 0.502179\n",
      "Train Epoch: 4 [319769 (5%)]\tLoss: 0.478377\n",
      "Train Epoch: 4 [425447 (7%)]\tLoss: 0.165558\n",
      "Train Epoch: 4 [530430 (8%)]\tLoss: 0.173154\n",
      "Train Epoch: 4 [636815 (10%)]\tLoss: 0.174042\n",
      "Train Epoch: 4 [740958 (12%)]\tLoss: 0.318829\n",
      "Train Epoch: 4 [846778 (13%)]\tLoss: 0.670060\n",
      "Train Epoch: 4 [953395 (15%)]\tLoss: 0.341750\n",
      "Train Epoch: 4 [1058251 (17%)]\tLoss: 0.222306\n",
      "Train Epoch: 4 [1164662 (18%)]\tLoss: 0.538252\n",
      "Train Epoch: 4 [1270626 (20%)]\tLoss: 0.529592\n",
      "Train Epoch: 4 [1375827 (22%)]\tLoss: 0.399819\n",
      "Train Epoch: 4 [1479926 (23%)]\tLoss: 0.374197\n",
      "Train Epoch: 4 [1585632 (25%)]\tLoss: 0.091032\n",
      "Train Epoch: 4 [1692758 (27%)]\tLoss: 0.361829\n",
      "Train Epoch: 4 [1799756 (28%)]\tLoss: 0.340904\n",
      "Train Epoch: 4 [1907019 (30%)]\tLoss: 0.120628\n",
      "Train Epoch: 4 [2012118 (32%)]\tLoss: 0.698530\n",
      "Train Epoch: 4 [2119166 (33%)]\tLoss: 0.149415\n",
      "Train Epoch: 4 [2224982 (35%)]\tLoss: 1.029221\n",
      "Train Epoch: 4 [2332675 (37%)]\tLoss: 0.417268\n",
      "Train Epoch: 4 [2439879 (38%)]\tLoss: 0.323854\n",
      "Train Epoch: 4 [2547336 (40%)]\tLoss: 0.704532\n",
      "Train Epoch: 4 [2650703 (42%)]\tLoss: 0.382722\n",
      "Train Epoch: 4 [2757606 (43%)]\tLoss: 0.483802\n",
      "Train Epoch: 4 [2861907 (45%)]\tLoss: 0.238252\n",
      "Train Epoch: 4 [2967591 (47%)]\tLoss: 0.295924\n",
      "Train Epoch: 4 [3073063 (48%)]\tLoss: 0.201315\n",
      "Train Epoch: 4 [3179713 (50%)]\tLoss: 0.389890\n",
      "Train Epoch: 4 [3286773 (52%)]\tLoss: 0.462205\n",
      "Train Epoch: 4 [3394535 (53%)]\tLoss: 0.326271\n",
      "Train Epoch: 4 [3500829 (55%)]\tLoss: 0.390805\n",
      "Train Epoch: 4 [3606251 (57%)]\tLoss: 0.227382\n",
      "Train Epoch: 4 [3712863 (58%)]\tLoss: 0.406387\n",
      "Train Epoch: 4 [3819245 (60%)]\tLoss: 0.637444\n",
      "Train Epoch: 4 [3923431 (62%)]\tLoss: 0.604678\n",
      "Train Epoch: 4 [4028379 (63%)]\tLoss: 0.140423\n",
      "Train Epoch: 4 [4133733 (65%)]\tLoss: 0.182424\n",
      "Train Epoch: 4 [4239109 (67%)]\tLoss: 0.042654\n",
      "Train Epoch: 4 [4347897 (68%)]\tLoss: 1.024156\n",
      "Train Epoch: 4 [4453411 (70%)]\tLoss: 0.276485\n",
      "Train Epoch: 4 [4559941 (72%)]\tLoss: 0.369371\n",
      "Train Epoch: 4 [4666578 (73%)]\tLoss: 0.201077\n",
      "Train Epoch: 4 [4773810 (75%)]\tLoss: 0.640120\n",
      "Train Epoch: 4 [4880402 (77%)]\tLoss: 0.190896\n",
      "Train Epoch: 4 [4987495 (78%)]\tLoss: 0.403588\n",
      "Train Epoch: 4 [5092377 (80%)]\tLoss: 0.746577\n",
      "Train Epoch: 4 [5199141 (82%)]\tLoss: 0.494830\n",
      "Train Epoch: 4 [5303153 (83%)]\tLoss: 0.166545\n",
      "Train Epoch: 4 [5409906 (85%)]\tLoss: 0.693594\n",
      "Train Epoch: 4 [5514802 (87%)]\tLoss: 0.250647\n",
      "Train Epoch: 4 [5620047 (88%)]\tLoss: 0.408538\n",
      "Train Epoch: 4 [5726545 (90%)]\tLoss: 0.225043\n",
      "Train Epoch: 4 [5830039 (92%)]\tLoss: 0.901869\n",
      "Train Epoch: 4 [5936085 (93%)]\tLoss: 0.899870\n",
      "Train Epoch: 4 [6042738 (95%)]\tLoss: 0.482565\n",
      "Train Epoch: 4 [6149288 (97%)]\tLoss: 0.459099\n",
      "Train Epoch: 4 [6255377 (98%)]\tLoss: 0.299790\n",
      "\n",
      "Test set: Average loss: 0.1762, Accuracy: 1010231/1064529 (94.90%)\n",
      "\n",
      "Train Epoch: 5 [1144 (0%)]\tLoss: 0.191205\n",
      "Train Epoch: 5 [107028 (2%)]\tLoss: 0.443781\n",
      "Train Epoch: 5 [213582 (3%)]\tLoss: 0.257013\n",
      "Train Epoch: 5 [320376 (5%)]\tLoss: 0.924880\n",
      "Train Epoch: 5 [426151 (7%)]\tLoss: 0.093491\n",
      "Train Epoch: 5 [531869 (8%)]\tLoss: 0.566848\n",
      "Train Epoch: 5 [638439 (10%)]\tLoss: 0.107784\n",
      "Train Epoch: 5 [745724 (12%)]\tLoss: 0.272633\n",
      "Train Epoch: 5 [851089 (13%)]\tLoss: 0.271831\n",
      "Train Epoch: 5 [957256 (15%)]\tLoss: 0.467491\n",
      "Train Epoch: 5 [1063555 (17%)]\tLoss: 0.491159\n",
      "Train Epoch: 5 [1171666 (18%)]\tLoss: 0.752192\n",
      "Train Epoch: 5 [1275009 (20%)]\tLoss: 0.348724\n",
      "Train Epoch: 5 [1381011 (22%)]\tLoss: 0.075698\n",
      "Train Epoch: 5 [1486124 (23%)]\tLoss: 0.150003\n",
      "Train Epoch: 5 [1593520 (25%)]\tLoss: 0.392595\n",
      "Train Epoch: 5 [1700086 (27%)]\tLoss: 0.158336\n",
      "Train Epoch: 5 [1805313 (28%)]\tLoss: 0.294203\n",
      "Train Epoch: 5 [1910968 (30%)]\tLoss: 0.141645\n",
      "Train Epoch: 5 [2017750 (32%)]\tLoss: 0.431841\n",
      "Train Epoch: 5 [2124051 (33%)]\tLoss: 0.116175\n",
      "Train Epoch: 5 [2231549 (35%)]\tLoss: 0.345831\n",
      "Train Epoch: 5 [2338058 (37%)]\tLoss: 0.062087\n",
      "Train Epoch: 5 [2445019 (38%)]\tLoss: 0.250683\n",
      "Train Epoch: 5 [2550056 (40%)]\tLoss: 0.236911\n",
      "Train Epoch: 5 [2654629 (42%)]\tLoss: 0.979528\n",
      "Train Epoch: 5 [2761726 (43%)]\tLoss: 0.488684\n",
      "Train Epoch: 5 [2868043 (45%)]\tLoss: 0.173640\n",
      "Train Epoch: 5 [2973252 (47%)]\tLoss: 0.192225\n",
      "Train Epoch: 5 [3078618 (48%)]\tLoss: 0.925700\n",
      "Train Epoch: 5 [3185006 (50%)]\tLoss: 0.200699\n",
      "Train Epoch: 5 [3288987 (52%)]\tLoss: 0.253197\n",
      "Train Epoch: 5 [3394507 (53%)]\tLoss: 0.071352\n",
      "Train Epoch: 5 [3499648 (55%)]\tLoss: 0.374687\n",
      "Train Epoch: 5 [3604682 (57%)]\tLoss: 0.131382\n",
      "Train Epoch: 5 [3710327 (58%)]\tLoss: 0.172901\n",
      "Train Epoch: 5 [3816343 (60%)]\tLoss: 0.229017\n",
      "Train Epoch: 5 [3923236 (62%)]\tLoss: 0.566948\n",
      "Train Epoch: 5 [4028657 (63%)]\tLoss: 0.417812\n",
      "Train Epoch: 5 [4134009 (65%)]\tLoss: 0.117536\n",
      "Train Epoch: 5 [4238973 (67%)]\tLoss: 0.149538\n",
      "Train Epoch: 5 [4345711 (68%)]\tLoss: 0.233355\n",
      "Train Epoch: 5 [4451201 (70%)]\tLoss: 0.113135\n",
      "Train Epoch: 5 [4556310 (72%)]\tLoss: 0.280236\n",
      "Train Epoch: 5 [4661897 (73%)]\tLoss: 0.545234\n",
      "Train Epoch: 5 [4768310 (75%)]\tLoss: 0.268658\n",
      "Train Epoch: 5 [4874777 (77%)]\tLoss: 0.827905\n",
      "Train Epoch: 5 [4981418 (78%)]\tLoss: 0.249499\n",
      "Train Epoch: 5 [5087051 (80%)]\tLoss: 0.207881\n",
      "Train Epoch: 5 [5194251 (82%)]\tLoss: 0.301760\n",
      "Train Epoch: 5 [5298553 (83%)]\tLoss: 0.159937\n",
      "Train Epoch: 5 [5406161 (85%)]\tLoss: 0.108762\n",
      "Train Epoch: 5 [5511816 (87%)]\tLoss: 0.302362\n",
      "Train Epoch: 5 [5618047 (88%)]\tLoss: 0.135212\n",
      "Train Epoch: 5 [5722826 (90%)]\tLoss: 0.790052\n",
      "Train Epoch: 5 [5828880 (92%)]\tLoss: 0.047789\n",
      "Train Epoch: 5 [5934719 (93%)]\tLoss: 0.273492\n",
      "Train Epoch: 5 [6042387 (95%)]\tLoss: 0.204585\n",
      "Train Epoch: 5 [6148518 (97%)]\tLoss: 0.643307\n",
      "Train Epoch: 5 [6253795 (98%)]\tLoss: 0.433286\n",
      "\n",
      "Test set: Average loss: 0.1423, Accuracy: 1020272/1064529 (95.84%)\n",
      "\n",
      "Train Epoch: 6 [952 (0%)]\tLoss: 0.137655\n",
      "Train Epoch: 6 [106008 (2%)]\tLoss: 0.419547\n",
      "Train Epoch: 6 [211432 (3%)]\tLoss: 0.210984\n",
      "Train Epoch: 6 [317465 (5%)]\tLoss: 0.103448\n",
      "Train Epoch: 6 [424262 (7%)]\tLoss: 0.245521\n",
      "Train Epoch: 6 [531000 (8%)]\tLoss: 0.181944\n",
      "Train Epoch: 6 [637357 (10%)]\tLoss: 0.355563\n",
      "Train Epoch: 6 [744517 (12%)]\tLoss: 0.665337\n",
      "Train Epoch: 6 [850356 (13%)]\tLoss: 0.579777\n",
      "Train Epoch: 6 [955684 (15%)]\tLoss: 0.200479\n",
      "Train Epoch: 6 [1060398 (17%)]\tLoss: 0.099763\n",
      "Train Epoch: 6 [1166167 (18%)]\tLoss: 0.141292\n",
      "Train Epoch: 6 [1273014 (20%)]\tLoss: 0.200630\n",
      "Train Epoch: 6 [1377631 (22%)]\tLoss: 0.152422\n",
      "Train Epoch: 6 [1483446 (23%)]\tLoss: 0.900102\n",
      "Train Epoch: 6 [1588641 (25%)]\tLoss: 0.139122\n",
      "Train Epoch: 6 [1693883 (27%)]\tLoss: 0.109473\n",
      "Train Epoch: 6 [1798674 (28%)]\tLoss: 0.696686\n",
      "Train Epoch: 6 [1905806 (30%)]\tLoss: 0.134755\n",
      "Train Epoch: 6 [2012465 (32%)]\tLoss: 0.175165\n",
      "Train Epoch: 6 [2116908 (33%)]\tLoss: 0.136752\n",
      "Train Epoch: 6 [2222252 (35%)]\tLoss: 0.131447\n",
      "Train Epoch: 6 [2328095 (37%)]\tLoss: 0.158473\n",
      "Train Epoch: 6 [2434679 (38%)]\tLoss: 0.996471\n",
      "Train Epoch: 6 [2541125 (40%)]\tLoss: 0.149771\n",
      "Train Epoch: 6 [2646422 (42%)]\tLoss: 0.682820\n",
      "Train Epoch: 6 [2751852 (43%)]\tLoss: 0.131335\n",
      "Train Epoch: 6 [2857988 (45%)]\tLoss: 0.243467\n",
      "Train Epoch: 6 [2964599 (47%)]\tLoss: 0.150782\n",
      "Train Epoch: 6 [3071461 (48%)]\tLoss: 1.178877\n",
      "Train Epoch: 6 [3176492 (50%)]\tLoss: 0.203721\n",
      "Train Epoch: 6 [3281967 (52%)]\tLoss: 0.868347\n",
      "Train Epoch: 6 [3387601 (53%)]\tLoss: 0.187299\n",
      "Train Epoch: 6 [3492696 (55%)]\tLoss: 0.154493\n",
      "Train Epoch: 6 [3599181 (57%)]\tLoss: 0.104116\n",
      "Train Epoch: 6 [3705330 (58%)]\tLoss: 0.735618\n",
      "Train Epoch: 6 [3810624 (60%)]\tLoss: 0.179324\n",
      "Train Epoch: 6 [3916662 (62%)]\tLoss: 0.285203\n",
      "Train Epoch: 6 [4021936 (63%)]\tLoss: 0.187809\n",
      "Train Epoch: 6 [4128017 (65%)]\tLoss: 0.104233\n",
      "Train Epoch: 6 [4232638 (67%)]\tLoss: 0.175294\n",
      "Train Epoch: 6 [4340613 (68%)]\tLoss: 0.536697\n",
      "Train Epoch: 6 [4447126 (70%)]\tLoss: 0.194971\n",
      "Train Epoch: 6 [4555004 (72%)]\tLoss: 0.163102\n",
      "Train Epoch: 6 [4662896 (73%)]\tLoss: 0.162857\n",
      "Train Epoch: 6 [4768840 (75%)]\tLoss: 0.224487\n",
      "Train Epoch: 6 [4876098 (77%)]\tLoss: 0.305751\n",
      "Train Epoch: 6 [4982733 (78%)]\tLoss: 0.238542\n",
      "Train Epoch: 6 [5088078 (80%)]\tLoss: 0.689960\n",
      "Train Epoch: 6 [5193404 (82%)]\tLoss: 0.097772\n"
     ]
    },
    {
     "name": "stdout",
     "output_type": "stream",
     "text": [
      "Train Epoch: 6 [5299930 (83%)]\tLoss: 0.149642\n",
      "Train Epoch: 6 [5407444 (85%)]\tLoss: 0.168077\n",
      "Train Epoch: 6 [5512571 (87%)]\tLoss: 0.204998\n",
      "Train Epoch: 6 [5618762 (88%)]\tLoss: 0.211064\n",
      "Train Epoch: 6 [5725559 (90%)]\tLoss: 0.259776\n",
      "Train Epoch: 6 [5831103 (92%)]\tLoss: 0.360012\n",
      "Train Epoch: 6 [5936222 (93%)]\tLoss: 0.186656\n",
      "Train Epoch: 6 [6043506 (95%)]\tLoss: 0.204301\n",
      "Train Epoch: 6 [6149067 (97%)]\tLoss: 0.860592\n",
      "Train Epoch: 6 [6254457 (98%)]\tLoss: 0.228340\n",
      "\n",
      "Test set: Average loss: 0.1234, Accuracy: 1026826/1064529 (96.46%)\n",
      "\n",
      "Train Epoch: 7 [904 (0%)]\tLoss: 0.091900\n",
      "Train Epoch: 7 [106624 (2%)]\tLoss: 0.252574\n",
      "Train Epoch: 7 [211921 (3%)]\tLoss: 0.273734\n",
      "Train Epoch: 7 [316674 (5%)]\tLoss: 0.299138\n",
      "Train Epoch: 7 [422511 (7%)]\tLoss: 0.107900\n",
      "Train Epoch: 7 [527414 (8%)]\tLoss: 0.280432\n",
      "Train Epoch: 7 [633305 (10%)]\tLoss: 0.171796\n",
      "Train Epoch: 7 [739470 (12%)]\tLoss: 0.122107\n",
      "Train Epoch: 7 [843783 (13%)]\tLoss: 0.251252\n",
      "Train Epoch: 7 [949271 (15%)]\tLoss: 0.067526\n",
      "Train Epoch: 7 [1055802 (17%)]\tLoss: 0.168096\n",
      "Train Epoch: 7 [1160515 (18%)]\tLoss: 0.209358\n",
      "Train Epoch: 7 [1266096 (20%)]\tLoss: 0.111220\n",
      "Train Epoch: 7 [1373213 (22%)]\tLoss: 0.098790\n",
      "Train Epoch: 7 [1479433 (23%)]\tLoss: 0.170271\n",
      "Train Epoch: 7 [1585686 (25%)]\tLoss: 0.040371\n",
      "Train Epoch: 7 [1693701 (27%)]\tLoss: 0.228574\n",
      "Train Epoch: 7 [1802677 (28%)]\tLoss: 0.162574\n",
      "Train Epoch: 7 [1907500 (30%)]\tLoss: 0.172477\n",
      "Train Epoch: 7 [2012204 (32%)]\tLoss: 0.604068\n",
      "Train Epoch: 7 [2120010 (33%)]\tLoss: 0.489307\n",
      "Train Epoch: 7 [2224795 (35%)]\tLoss: 0.545124\n",
      "Train Epoch: 7 [2331997 (37%)]\tLoss: 0.040265\n",
      "Train Epoch: 7 [2438968 (38%)]\tLoss: 0.145627\n",
      "Train Epoch: 7 [2544047 (40%)]\tLoss: 0.474858\n",
      "Train Epoch: 7 [2649445 (42%)]\tLoss: 0.746560\n",
      "Train Epoch: 7 [2756828 (43%)]\tLoss: 0.194397\n",
      "Train Epoch: 7 [2864750 (45%)]\tLoss: 0.073699\n",
      "Train Epoch: 7 [2970713 (47%)]\tLoss: 0.399421\n",
      "Train Epoch: 7 [3075943 (48%)]\tLoss: 0.267207\n",
      "Train Epoch: 7 [3181204 (50%)]\tLoss: 0.174704\n",
      "Train Epoch: 7 [3287879 (52%)]\tLoss: 0.085831\n",
      "Train Epoch: 7 [3393307 (53%)]\tLoss: 0.127885\n",
      "Train Epoch: 7 [3499727 (55%)]\tLoss: 0.274710\n",
      "Train Epoch: 7 [3606854 (57%)]\tLoss: 0.261565\n",
      "Train Epoch: 7 [3713150 (58%)]\tLoss: 0.201569\n",
      "Train Epoch: 7 [3818394 (60%)]\tLoss: 0.069313\n",
      "Train Epoch: 7 [3923457 (62%)]\tLoss: 0.112419\n",
      "Train Epoch: 7 [4029220 (63%)]\tLoss: 0.137324\n",
      "Train Epoch: 7 [4135677 (65%)]\tLoss: 0.191451\n",
      "Train Epoch: 7 [4242297 (67%)]\tLoss: 0.068817\n",
      "Train Epoch: 7 [4348036 (68%)]\tLoss: 0.128927\n",
      "Train Epoch: 7 [4453195 (70%)]\tLoss: 0.099373\n",
      "Train Epoch: 7 [4557200 (72%)]\tLoss: 0.168455\n",
      "Train Epoch: 7 [4663321 (73%)]\tLoss: 0.160816\n",
      "Train Epoch: 7 [4767946 (75%)]\tLoss: 0.517519\n",
      "Train Epoch: 7 [4875052 (77%)]\tLoss: 0.054377\n",
      "Train Epoch: 7 [4981343 (78%)]\tLoss: 0.242486\n",
      "Train Epoch: 7 [5087547 (80%)]\tLoss: 0.222405\n",
      "Train Epoch: 7 [5193037 (82%)]\tLoss: 0.113071\n",
      "Train Epoch: 7 [5296797 (83%)]\tLoss: 0.104027\n",
      "Train Epoch: 7 [5401591 (85%)]\tLoss: 0.140788\n",
      "Train Epoch: 7 [5507624 (87%)]\tLoss: 0.122123\n",
      "Train Epoch: 7 [5612531 (88%)]\tLoss: 0.079125\n",
      "Train Epoch: 7 [5718626 (90%)]\tLoss: 0.074251\n",
      "Train Epoch: 7 [5825010 (92%)]\tLoss: 0.366745\n",
      "Train Epoch: 7 [5930886 (93%)]\tLoss: 0.494979\n",
      "Train Epoch: 7 [6037577 (95%)]\tLoss: 0.105617\n",
      "Train Epoch: 7 [6146060 (97%)]\tLoss: 0.043837\n",
      "Train Epoch: 7 [6251934 (98%)]\tLoss: 0.306443\n",
      "\n",
      "Test set: Average loss: 0.1264, Accuracy: 1025673/1064529 (96.35%)\n",
      "\n",
      "Train Epoch: 8 [976 (0%)]\tLoss: 0.821521\n",
      "Train Epoch: 8 [107212 (2%)]\tLoss: 0.156074\n",
      "Train Epoch: 8 [212634 (3%)]\tLoss: 0.183037\n",
      "Train Epoch: 8 [318547 (5%)]\tLoss: 0.424212\n",
      "Train Epoch: 8 [423235 (7%)]\tLoss: 0.402170\n",
      "Train Epoch: 8 [529175 (8%)]\tLoss: 0.195461\n",
      "Train Epoch: 8 [634085 (10%)]\tLoss: 0.174832\n",
      "Train Epoch: 8 [738249 (12%)]\tLoss: 0.164500\n",
      "Train Epoch: 8 [844533 (13%)]\tLoss: 0.276563\n",
      "Train Epoch: 8 [950601 (15%)]\tLoss: 0.086312\n",
      "Train Epoch: 8 [1057140 (17%)]\tLoss: 0.476363\n",
      "Train Epoch: 8 [1162600 (18%)]\tLoss: 0.448234\n",
      "Train Epoch: 8 [1269047 (20%)]\tLoss: 0.259077\n",
      "Train Epoch: 8 [1374861 (22%)]\tLoss: 0.085047\n",
      "Train Epoch: 8 [1481197 (23%)]\tLoss: 0.289264\n",
      "Train Epoch: 8 [1586160 (25%)]\tLoss: 0.113603\n",
      "Train Epoch: 8 [1692699 (27%)]\tLoss: 0.096858\n",
      "Train Epoch: 8 [1801023 (28%)]\tLoss: 0.273955\n",
      "Train Epoch: 8 [1908843 (30%)]\tLoss: 0.171621\n",
      "Train Epoch: 8 [2014806 (32%)]\tLoss: 0.217358\n",
      "Train Epoch: 8 [2122608 (33%)]\tLoss: 0.166014\n",
      "Train Epoch: 8 [2228559 (35%)]\tLoss: 0.152638\n",
      "Train Epoch: 8 [2334382 (37%)]\tLoss: 0.107189\n",
      "Train Epoch: 8 [2441157 (38%)]\tLoss: 0.249078\n",
      "Train Epoch: 8 [2545786 (40%)]\tLoss: 0.194286\n",
      "Train Epoch: 8 [2651476 (42%)]\tLoss: 0.096599\n",
      "Train Epoch: 8 [2757751 (43%)]\tLoss: 0.540065\n",
      "Train Epoch: 8 [2862746 (45%)]\tLoss: 0.431294\n",
      "Train Epoch: 8 [2969850 (47%)]\tLoss: 1.102855\n",
      "Train Epoch: 8 [3074766 (48%)]\tLoss: 0.106364\n",
      "Train Epoch: 8 [3181467 (50%)]\tLoss: 0.924889\n",
      "Train Epoch: 8 [3285416 (52%)]\tLoss: 0.184352\n",
      "Train Epoch: 8 [3393384 (53%)]\tLoss: 0.174147\n",
      "Train Epoch: 8 [3499713 (55%)]\tLoss: 0.925301\n",
      "Train Epoch: 8 [3604475 (57%)]\tLoss: 0.139266\n",
      "Train Epoch: 8 [3711371 (58%)]\tLoss: 0.107436\n",
      "Train Epoch: 8 [3816167 (60%)]\tLoss: 0.121162\n",
      "Train Epoch: 8 [3921463 (62%)]\tLoss: 0.097459\n",
      "Train Epoch: 8 [4027592 (63%)]\tLoss: 0.067316\n",
      "Train Epoch: 8 [4133484 (65%)]\tLoss: 0.443424\n",
      "Train Epoch: 8 [4238517 (67%)]\tLoss: 0.875200\n",
      "Train Epoch: 8 [4345071 (68%)]\tLoss: 0.805514\n",
      "Train Epoch: 8 [4452019 (70%)]\tLoss: 0.256527\n",
      "Train Epoch: 8 [4559112 (72%)]\tLoss: 0.169504\n",
      "Train Epoch: 8 [4665815 (73%)]\tLoss: 0.190650\n",
      "Train Epoch: 8 [4774348 (75%)]\tLoss: 0.166555\n",
      "Train Epoch: 8 [4879777 (77%)]\tLoss: 0.065455\n",
      "Train Epoch: 8 [4985899 (78%)]\tLoss: 0.144046\n",
      "Train Epoch: 8 [5092865 (80%)]\tLoss: 0.313671\n",
      "Train Epoch: 8 [5197743 (82%)]\tLoss: 0.334981\n",
      "Train Epoch: 8 [5302751 (83%)]\tLoss: 0.038422\n",
      "Train Epoch: 8 [5408913 (85%)]\tLoss: 0.143027\n",
      "Train Epoch: 8 [5515883 (87%)]\tLoss: 0.256553\n",
      "Train Epoch: 8 [5620909 (88%)]\tLoss: 0.082877\n",
      "Train Epoch: 8 [5726650 (90%)]\tLoss: 0.487500\n",
      "Train Epoch: 8 [5831827 (92%)]\tLoss: 0.114736\n",
      "Train Epoch: 8 [5937802 (93%)]\tLoss: 0.596702\n",
      "Train Epoch: 8 [6043990 (95%)]\tLoss: 0.137940\n",
      "Train Epoch: 8 [6147948 (97%)]\tLoss: 0.215431\n",
      "Train Epoch: 8 [6254651 (98%)]\tLoss: 0.200976\n",
      "\n",
      "Test set: Average loss: 0.1116, Accuracy: 1029752/1064529 (96.73%)\n",
      "\n",
      "Train Epoch: 9 [1224 (0%)]\tLoss: 0.073895\n",
      "Train Epoch: 9 [108352 (2%)]\tLoss: 0.118520\n",
      "Train Epoch: 9 [214642 (3%)]\tLoss: 0.257052\n",
      "Train Epoch: 9 [318695 (5%)]\tLoss: 0.525784\n",
      "Train Epoch: 9 [424377 (7%)]\tLoss: 0.117682\n",
      "Train Epoch: 9 [528782 (8%)]\tLoss: 0.045250\n",
      "Train Epoch: 9 [635731 (10%)]\tLoss: 0.501965\n",
      "Train Epoch: 9 [741723 (12%)]\tLoss: 0.169561\n",
      "Train Epoch: 9 [846144 (13%)]\tLoss: 0.050881\n",
      "Train Epoch: 9 [952553 (15%)]\tLoss: 0.354817\n",
      "Train Epoch: 9 [1059247 (17%)]\tLoss: 0.221083\n",
      "Train Epoch: 9 [1166745 (18%)]\tLoss: 0.120689\n",
      "Train Epoch: 9 [1271760 (20%)]\tLoss: 0.205962\n",
      "Train Epoch: 9 [1377671 (22%)]\tLoss: 0.392079\n",
      "Train Epoch: 9 [1482463 (23%)]\tLoss: 0.257871\n",
      "Train Epoch: 9 [1588007 (25%)]\tLoss: 0.379719\n",
      "Train Epoch: 9 [1693170 (27%)]\tLoss: 0.728254\n",
      "Train Epoch: 9 [1798728 (28%)]\tLoss: 0.279520\n",
      "Train Epoch: 9 [1905775 (30%)]\tLoss: 0.229610\n",
      "Train Epoch: 9 [2010900 (32%)]\tLoss: 0.180817\n",
      "Train Epoch: 9 [2116812 (33%)]\tLoss: 0.802345\n",
      "Train Epoch: 9 [2223079 (35%)]\tLoss: 0.929470\n",
      "Train Epoch: 9 [2329133 (37%)]\tLoss: 0.261932\n",
      "Train Epoch: 9 [2434346 (38%)]\tLoss: 0.115506\n",
      "Train Epoch: 9 [2541492 (40%)]\tLoss: 0.074974\n",
      "Train Epoch: 9 [2648125 (42%)]\tLoss: 0.104153\n",
      "Train Epoch: 9 [2755831 (43%)]\tLoss: 0.273582\n",
      "Train Epoch: 9 [2862152 (45%)]\tLoss: 0.118647\n",
      "Train Epoch: 9 [2967847 (47%)]\tLoss: 0.439006\n",
      "Train Epoch: 9 [3073411 (48%)]\tLoss: 0.090521\n",
      "Train Epoch: 9 [3178322 (50%)]\tLoss: 0.309569\n",
      "Train Epoch: 9 [3285911 (52%)]\tLoss: 0.172985\n",
      "Train Epoch: 9 [3391283 (53%)]\tLoss: 0.045045\n",
      "Train Epoch: 9 [3496768 (55%)]\tLoss: 0.109519\n",
      "Train Epoch: 9 [3602745 (57%)]\tLoss: 0.062691\n",
      "Train Epoch: 9 [3708787 (58%)]\tLoss: 0.102962\n",
      "Train Epoch: 9 [3812036 (60%)]\tLoss: 0.129716\n",
      "Train Epoch: 9 [3918405 (62%)]\tLoss: 0.039389\n",
      "Train Epoch: 9 [4023609 (63%)]\tLoss: 0.146503\n",
      "Train Epoch: 9 [4128689 (65%)]\tLoss: 0.241453\n",
      "Train Epoch: 9 [4234516 (67%)]\tLoss: 0.063913\n",
      "Train Epoch: 9 [4340483 (68%)]\tLoss: 0.122282\n",
      "Train Epoch: 9 [4445730 (70%)]\tLoss: 0.114029\n",
      "Train Epoch: 9 [4553364 (72%)]\tLoss: 0.159740\n",
      "Train Epoch: 9 [4659412 (73%)]\tLoss: 0.139114\n",
      "Train Epoch: 9 [4765408 (75%)]\tLoss: 0.099147\n",
      "Train Epoch: 9 [4871756 (77%)]\tLoss: 0.114310\n",
      "Train Epoch: 9 [4978096 (78%)]\tLoss: 0.800794\n",
      "Train Epoch: 9 [5085122 (80%)]\tLoss: 0.110033\n",
      "Train Epoch: 9 [5190901 (82%)]\tLoss: 0.234150\n",
      "Train Epoch: 9 [5296091 (83%)]\tLoss: 0.058082\n",
      "Train Epoch: 9 [5402917 (85%)]\tLoss: 0.296533\n",
      "Train Epoch: 9 [5508272 (87%)]\tLoss: 0.294558\n",
      "Train Epoch: 9 [5616410 (88%)]\tLoss: 0.454801\n",
      "Train Epoch: 9 [5720883 (90%)]\tLoss: 0.769764\n",
      "Train Epoch: 9 [5825762 (92%)]\tLoss: 0.535238\n",
      "Train Epoch: 9 [5934442 (93%)]\tLoss: 0.113430\n",
      "Train Epoch: 9 [6041540 (95%)]\tLoss: 0.310361\n",
      "Train Epoch: 9 [6147468 (97%)]\tLoss: 0.210807\n",
      "Train Epoch: 9 [6253527 (98%)]\tLoss: 0.233154\n",
      "\n",
      "Test set: Average loss: 0.1046, Accuracy: 1032080/1064529 (96.95%)\n",
      "\n",
      "Train Epoch: 10 [936 (0%)]\tLoss: 0.076872\n",
      "Train Epoch: 10 [106664 (2%)]\tLoss: 0.095768\n",
      "Train Epoch: 10 [212538 (3%)]\tLoss: 0.117105\n",
      "Train Epoch: 10 [318651 (5%)]\tLoss: 0.447391\n",
      "Train Epoch: 10 [426081 (7%)]\tLoss: 0.287855\n",
      "Train Epoch: 10 [531730 (8%)]\tLoss: 0.172992\n",
      "Train Epoch: 10 [637756 (10%)]\tLoss: 0.323339\n",
      "Train Epoch: 10 [742590 (12%)]\tLoss: 0.171723\n",
      "Train Epoch: 10 [848286 (13%)]\tLoss: 0.297600\n",
      "Train Epoch: 10 [953488 (15%)]\tLoss: 0.174392\n",
      "Train Epoch: 10 [1058615 (17%)]\tLoss: 0.756854\n",
      "Train Epoch: 10 [1165133 (18%)]\tLoss: 0.111035\n",
      "Train Epoch: 10 [1271229 (20%)]\tLoss: 0.084321\n",
      "Train Epoch: 10 [1378145 (22%)]\tLoss: 0.113815\n",
      "Train Epoch: 10 [1486206 (23%)]\tLoss: 0.429351\n",
      "Train Epoch: 10 [1591459 (25%)]\tLoss: 0.077034\n",
      "Train Epoch: 10 [1697371 (27%)]\tLoss: 0.067676\n",
      "Train Epoch: 10 [1802331 (28%)]\tLoss: 0.044618\n",
      "Train Epoch: 10 [1908406 (30%)]\tLoss: 0.044393\n",
      "Train Epoch: 10 [2016940 (32%)]\tLoss: 0.202507\n",
      "Train Epoch: 10 [2122780 (33%)]\tLoss: 0.365363\n",
      "Train Epoch: 10 [2230109 (35%)]\tLoss: 0.093545\n",
      "Train Epoch: 10 [2335736 (37%)]\tLoss: 0.178546\n",
      "Train Epoch: 10 [2439837 (38%)]\tLoss: 0.091027\n",
      "Train Epoch: 10 [2546610 (40%)]\tLoss: 0.134678\n",
      "Train Epoch: 10 [2654937 (42%)]\tLoss: 0.070687\n",
      "Train Epoch: 10 [2761019 (43%)]\tLoss: 0.124923\n",
      "Train Epoch: 10 [2866479 (45%)]\tLoss: 0.100473\n",
      "Train Epoch: 10 [2972768 (47%)]\tLoss: 0.106571\n",
      "Train Epoch: 10 [3081350 (48%)]\tLoss: 0.080302\n",
      "Train Epoch: 10 [3187326 (50%)]\tLoss: 0.156509\n",
      "Train Epoch: 10 [3290545 (52%)]\tLoss: 0.152887\n",
      "Train Epoch: 10 [3398664 (53%)]\tLoss: 0.112119\n",
      "Train Epoch: 10 [3504297 (55%)]\tLoss: 0.192252\n",
      "Train Epoch: 10 [3610199 (57%)]\tLoss: 0.126989\n",
      "Train Epoch: 10 [3716072 (58%)]\tLoss: 0.389810\n",
      "Train Epoch: 10 [3821654 (60%)]\tLoss: 0.200621\n",
      "Train Epoch: 10 [3927358 (62%)]\tLoss: 0.232873\n",
      "Train Epoch: 10 [4032987 (63%)]\tLoss: 0.075563\n",
      "Train Epoch: 10 [4140653 (65%)]\tLoss: 0.045139\n",
      "Train Epoch: 10 [4246100 (67%)]\tLoss: 0.052626\n",
      "Train Epoch: 10 [4353964 (68%)]\tLoss: 0.102525\n",
      "Train Epoch: 10 [4458732 (70%)]\tLoss: 0.409164\n",
      "Train Epoch: 10 [4565755 (72%)]\tLoss: 0.159566\n",
      "Train Epoch: 10 [4673304 (73%)]\tLoss: 0.314944\n",
      "Train Epoch: 10 [4777689 (75%)]\tLoss: 0.183498\n",
      "Train Epoch: 10 [4882891 (77%)]\tLoss: 0.088214\n",
      "Train Epoch: 10 [4987759 (78%)]\tLoss: 0.151344\n",
      "Train Epoch: 10 [5092991 (80%)]\tLoss: 0.385431\n",
      "Train Epoch: 10 [5199220 (82%)]\tLoss: 0.134136\n",
      "Train Epoch: 10 [5305875 (83%)]\tLoss: 0.374524\n",
      "Train Epoch: 10 [5411753 (85%)]\tLoss: 0.440130\n",
      "Train Epoch: 10 [5517165 (87%)]\tLoss: 0.249037\n",
      "Train Epoch: 10 [5622310 (88%)]\tLoss: 0.443312\n",
      "Train Epoch: 10 [5727460 (90%)]\tLoss: 0.058248\n",
      "Train Epoch: 10 [5833139 (92%)]\tLoss: 0.344056\n",
      "Train Epoch: 10 [5939227 (93%)]\tLoss: 0.024804\n",
      "Train Epoch: 10 [6043422 (95%)]\tLoss: 0.078769\n",
      "Train Epoch: 10 [6148680 (97%)]\tLoss: 0.194111\n",
      "Train Epoch: 10 [6254189 (98%)]\tLoss: 0.764671\n",
      "\n",
      "Test set: Average loss: 0.0931, Accuracy: 1035161/1064529 (97.24%)\n",
      "\n",
      "Train Epoch: 1 [984 (0%)]\tLoss: 2.338705\n",
      "Train Epoch: 1 [105514 (2%)]\tLoss: 2.350229\n",
      "Train Epoch: 1 [211940 (3%)]\tLoss: 2.241495\n",
      "Train Epoch: 1 [318584 (5%)]\tLoss: 2.271751\n",
      "Train Epoch: 1 [423972 (7%)]\tLoss: 2.234962\n",
      "Train Epoch: 1 [531165 (8%)]\tLoss: 2.254652\n",
      "Train Epoch: 1 [636534 (10%)]\tLoss: 2.315694\n",
      "Train Epoch: 1 [743174 (12%)]\tLoss: 2.247145\n",
      "Train Epoch: 1 [849484 (13%)]\tLoss: 2.346494\n",
      "Train Epoch: 1 [953553 (15%)]\tLoss: 2.331853\n",
      "Train Epoch: 1 [1061337 (17%)]\tLoss: 2.187245\n",
      "Train Epoch: 1 [1166389 (18%)]\tLoss: 2.420287\n",
      "Train Epoch: 1 [1271295 (20%)]\tLoss: 2.359124\n",
      "Train Epoch: 1 [1379528 (22%)]\tLoss: 2.340823\n",
      "Train Epoch: 1 [1485225 (23%)]\tLoss: 2.351918\n",
      "Train Epoch: 1 [1591437 (25%)]\tLoss: 2.226394\n",
      "Train Epoch: 1 [1697651 (27%)]\tLoss: 2.301226\n",
      "Train Epoch: 1 [1804195 (28%)]\tLoss: 2.281574\n",
      "Train Epoch: 1 [1909459 (30%)]\tLoss: 2.298770\n",
      "Train Epoch: 1 [2016089 (32%)]\tLoss: 2.342621\n",
      "Train Epoch: 1 [2121983 (33%)]\tLoss: 2.193604\n",
      "Train Epoch: 1 [2227878 (35%)]\tLoss: 2.278679\n",
      "Train Epoch: 1 [2335306 (37%)]\tLoss: 2.184055\n",
      "Train Epoch: 1 [2441631 (38%)]\tLoss: 2.422432\n",
      "Train Epoch: 1 [2547124 (40%)]\tLoss: 2.200071\n",
      "Train Epoch: 1 [2654037 (42%)]\tLoss: 2.244534\n",
      "Train Epoch: 1 [2761089 (43%)]\tLoss: 2.337708\n",
      "Train Epoch: 1 [2866766 (45%)]\tLoss: 2.262038\n",
      "Train Epoch: 1 [2975207 (47%)]\tLoss: 2.222139\n",
      "Train Epoch: 1 [3080326 (48%)]\tLoss: 2.306524\n",
      "Train Epoch: 1 [3186122 (50%)]\tLoss: 2.269740\n",
      "Train Epoch: 1 [3291783 (52%)]\tLoss: 2.291765\n",
      "Train Epoch: 1 [3398711 (53%)]\tLoss: 2.310519\n",
      "Train Epoch: 1 [3505685 (55%)]\tLoss: 2.285363\n",
      "Train Epoch: 1 [3612754 (57%)]\tLoss: 2.284173\n",
      "Train Epoch: 1 [3718046 (58%)]\tLoss: 2.357390\n",
      "Train Epoch: 1 [3825298 (60%)]\tLoss: 2.228817\n",
      "Train Epoch: 1 [3931505 (62%)]\tLoss: 2.247524\n",
      "Train Epoch: 1 [4036370 (63%)]\tLoss: 2.173818\n",
      "Train Epoch: 1 [4143555 (65%)]\tLoss: 2.198100\n",
      "Train Epoch: 1 [4249588 (67%)]\tLoss: 2.268851\n",
      "Train Epoch: 1 [4356796 (68%)]\tLoss: 2.169127\n",
      "Train Epoch: 1 [4461125 (70%)]\tLoss: 2.305435\n",
      "Train Epoch: 1 [4566840 (72%)]\tLoss: 2.358602\n",
      "Train Epoch: 1 [4673002 (73%)]\tLoss: 2.248333\n",
      "Train Epoch: 1 [4776782 (75%)]\tLoss: 2.237310\n",
      "Train Epoch: 1 [4884014 (77%)]\tLoss: 2.357348\n",
      "Train Epoch: 1 [4987848 (78%)]\tLoss: 2.051488\n",
      "Train Epoch: 1 [5093243 (80%)]\tLoss: 2.419616\n",
      "Train Epoch: 1 [5197898 (82%)]\tLoss: 2.091642\n",
      "Train Epoch: 1 [5303996 (83%)]\tLoss: 2.187388\n",
      "Train Epoch: 1 [5410614 (85%)]\tLoss: 2.027769\n",
      "Train Epoch: 1 [5515584 (87%)]\tLoss: 2.198708\n",
      "Train Epoch: 1 [5619694 (88%)]\tLoss: 2.354546\n",
      "Train Epoch: 1 [5725238 (90%)]\tLoss: 2.289527\n",
      "Train Epoch: 1 [5830888 (92%)]\tLoss: 2.271480\n",
      "Train Epoch: 1 [5938022 (93%)]\tLoss: 2.192314\n",
      "Train Epoch: 1 [6043423 (95%)]\tLoss: 2.277281\n",
      "Train Epoch: 1 [6148856 (97%)]\tLoss: 2.022115\n",
      "Train Epoch: 1 [6255840 (98%)]\tLoss: 2.306820\n",
      "\n",
      "Test set: Average loss: 2.2771, Accuracy: 178445/1064529 (16.76%)\n",
      "\n",
      "Train Epoch: 2 [1142 (0%)]\tLoss: 2.258034\n",
      "Train Epoch: 2 [106688 (2%)]\tLoss: 2.283926\n",
      "Train Epoch: 2 [212793 (3%)]\tLoss: 2.279271\n",
      "Train Epoch: 2 [319222 (5%)]\tLoss: 2.219028\n",
      "Train Epoch: 2 [426705 (7%)]\tLoss: 2.276210\n",
      "Train Epoch: 2 [532354 (8%)]\tLoss: 2.269240\n",
      "Train Epoch: 2 [638903 (10%)]\tLoss: 2.342242\n",
      "Train Epoch: 2 [744872 (12%)]\tLoss: 2.398995\n",
      "Train Epoch: 2 [852058 (13%)]\tLoss: 2.152655\n",
      "Train Epoch: 2 [955727 (15%)]\tLoss: 2.295767\n",
      "Train Epoch: 2 [1060931 (17%)]\tLoss: 2.303680\n",
      "Train Epoch: 2 [1165683 (18%)]\tLoss: 2.368670\n",
      "Train Epoch: 2 [1271855 (20%)]\tLoss: 2.189004\n",
      "Train Epoch: 2 [1376354 (22%)]\tLoss: 2.391901\n",
      "Train Epoch: 2 [1481267 (23%)]\tLoss: 2.280461\n",
      "Train Epoch: 2 [1586134 (25%)]\tLoss: 2.337088\n",
      "Train Epoch: 2 [1693559 (27%)]\tLoss: 2.302751\n",
      "Train Epoch: 2 [1800498 (28%)]\tLoss: 2.257168\n",
      "Train Epoch: 2 [1906194 (30%)]\tLoss: 2.339744\n",
      "Train Epoch: 2 [2011117 (32%)]\tLoss: 2.362481\n",
      "Train Epoch: 2 [2116676 (33%)]\tLoss: 2.065944\n",
      "Train Epoch: 2 [2223317 (35%)]\tLoss: 2.404235\n",
      "Train Epoch: 2 [2328468 (37%)]\tLoss: 2.153097\n",
      "Train Epoch: 2 [2434677 (38%)]\tLoss: 2.305419\n",
      "Train Epoch: 2 [2541221 (40%)]\tLoss: 2.288975\n",
      "Train Epoch: 2 [2647228 (42%)]\tLoss: 2.268059\n",
      "Train Epoch: 2 [2754539 (43%)]\tLoss: 2.303275\n",
      "Train Epoch: 2 [2859517 (45%)]\tLoss: 2.251235\n",
      "Train Epoch: 2 [2967171 (47%)]\tLoss: 2.393733\n",
      "Train Epoch: 2 [3072653 (48%)]\tLoss: 2.303388\n",
      "Train Epoch: 2 [3179310 (50%)]\tLoss: 2.435112\n",
      "Train Epoch: 2 [3285766 (52%)]\tLoss: 2.098387\n",
      "Train Epoch: 2 [3393813 (53%)]\tLoss: 2.293836\n",
      "Train Epoch: 2 [3500205 (55%)]\tLoss: 2.295727\n",
      "Train Epoch: 2 [3605583 (57%)]\tLoss: 2.351740\n",
      "Train Epoch: 2 [3711535 (58%)]\tLoss: 2.294422\n",
      "Train Epoch: 2 [3819241 (60%)]\tLoss: 2.308180\n"
     ]
    },
    {
     "name": "stdout",
     "output_type": "stream",
     "text": [
      "Train Epoch: 2 [3926581 (62%)]\tLoss: 2.258973\n",
      "Train Epoch: 2 [4032993 (63%)]\tLoss: 2.445324\n",
      "Train Epoch: 2 [4138493 (65%)]\tLoss: 2.285055\n",
      "Train Epoch: 2 [4244904 (67%)]\tLoss: 2.304125\n",
      "Train Epoch: 2 [4348886 (68%)]\tLoss: 2.221993\n",
      "Train Epoch: 2 [4455614 (70%)]\tLoss: 2.260187\n",
      "Train Epoch: 2 [4561100 (72%)]\tLoss: 2.287745\n",
      "Train Epoch: 2 [4666680 (73%)]\tLoss: 2.176757\n",
      "Train Epoch: 2 [4773486 (75%)]\tLoss: 2.088992\n",
      "Train Epoch: 2 [4879576 (77%)]\tLoss: 2.294375\n",
      "Train Epoch: 2 [4985533 (78%)]\tLoss: 2.258631\n",
      "Train Epoch: 2 [5091146 (80%)]\tLoss: 2.253524\n",
      "Train Epoch: 2 [5197062 (82%)]\tLoss: 2.281783\n",
      "Train Epoch: 2 [5303989 (83%)]\tLoss: 2.266221\n",
      "Train Epoch: 2 [5411491 (85%)]\tLoss: 2.286806\n",
      "Train Epoch: 2 [5517035 (87%)]\tLoss: 2.427309\n",
      "Train Epoch: 2 [5623667 (88%)]\tLoss: 2.213578\n",
      "Train Epoch: 2 [5727484 (90%)]\tLoss: 2.301216\n",
      "Train Epoch: 2 [5832284 (92%)]\tLoss: 2.298077\n",
      "Train Epoch: 2 [5937659 (93%)]\tLoss: 2.206383\n",
      "Train Epoch: 2 [6043428 (95%)]\tLoss: 2.321272\n",
      "Train Epoch: 2 [6149200 (97%)]\tLoss: 2.389418\n",
      "Train Epoch: 2 [6254931 (98%)]\tLoss: 2.359231\n",
      "\n",
      "Test set: Average loss: 2.2782, Accuracy: 178445/1064529 (16.76%)\n",
      "\n",
      "Train Epoch: 3 [1072 (0%)]\tLoss: 2.295525\n",
      "Train Epoch: 3 [108355 (2%)]\tLoss: 2.367672\n",
      "Train Epoch: 3 [213433 (3%)]\tLoss: 2.219661\n",
      "Train Epoch: 3 [317982 (5%)]\tLoss: 2.284867\n",
      "Train Epoch: 3 [423927 (7%)]\tLoss: 2.352095\n",
      "Train Epoch: 3 [530607 (8%)]\tLoss: 2.265300\n",
      "Train Epoch: 3 [635556 (10%)]\tLoss: 2.340857\n",
      "Train Epoch: 3 [742035 (12%)]\tLoss: 2.370214\n",
      "Train Epoch: 3 [848976 (13%)]\tLoss: 2.206264\n",
      "Train Epoch: 3 [955119 (15%)]\tLoss: 2.254915\n",
      "Train Epoch: 3 [1061558 (17%)]\tLoss: 2.333983\n",
      "Train Epoch: 3 [1166431 (18%)]\tLoss: 2.279008\n",
      "Train Epoch: 3 [1273180 (20%)]\tLoss: 2.390333\n",
      "Train Epoch: 3 [1378387 (22%)]\tLoss: 2.184546\n",
      "Train Epoch: 3 [1484278 (23%)]\tLoss: 2.286210\n",
      "Train Epoch: 3 [1590875 (25%)]\tLoss: 2.218546\n",
      "Train Epoch: 3 [1695984 (27%)]\tLoss: 2.300163\n",
      "Train Epoch: 3 [1803405 (28%)]\tLoss: 2.162639\n",
      "Train Epoch: 3 [1910115 (30%)]\tLoss: 2.364615\n",
      "Train Epoch: 3 [2016600 (32%)]\tLoss: 2.203709\n",
      "Train Epoch: 3 [2123369 (33%)]\tLoss: 2.162195\n",
      "Train Epoch: 3 [2229769 (35%)]\tLoss: 2.365313\n",
      "Train Epoch: 3 [2336423 (37%)]\tLoss: 2.294477\n",
      "Train Epoch: 3 [2442448 (38%)]\tLoss: 2.288723\n",
      "Train Epoch: 3 [2548805 (40%)]\tLoss: 2.347526\n",
      "Train Epoch: 3 [2654572 (42%)]\tLoss: 2.259457\n",
      "Train Epoch: 3 [2761553 (43%)]\tLoss: 2.078203\n",
      "Train Epoch: 3 [2867770 (45%)]\tLoss: 2.378698\n",
      "Train Epoch: 3 [2974424 (47%)]\tLoss: 2.351431\n",
      "Train Epoch: 3 [3080718 (48%)]\tLoss: 2.243416\n",
      "Train Epoch: 3 [3185154 (50%)]\tLoss: 2.364085\n",
      "Train Epoch: 3 [3291866 (52%)]\tLoss: 2.146383\n",
      "Train Epoch: 3 [3398373 (53%)]\tLoss: 2.295155\n",
      "Train Epoch: 3 [3504297 (55%)]\tLoss: 2.225863\n",
      "Train Epoch: 3 [3611595 (57%)]\tLoss: 2.310452\n",
      "Train Epoch: 3 [3718612 (58%)]\tLoss: 2.226419\n",
      "Train Epoch: 3 [3822626 (60%)]\tLoss: 2.242422\n",
      "Train Epoch: 3 [3930460 (62%)]\tLoss: 2.293951\n",
      "Train Epoch: 3 [4034559 (63%)]\tLoss: 2.310686\n",
      "Train Epoch: 3 [4138526 (65%)]\tLoss: 2.293450\n",
      "Train Epoch: 3 [4244769 (67%)]\tLoss: 2.294116\n",
      "Train Epoch: 3 [4350550 (68%)]\tLoss: 2.288895\n",
      "Train Epoch: 3 [4457279 (70%)]\tLoss: 2.247660\n",
      "Train Epoch: 3 [4564789 (72%)]\tLoss: 2.197111\n",
      "Train Epoch: 3 [4671180 (73%)]\tLoss: 2.355961\n",
      "Train Epoch: 3 [4776784 (75%)]\tLoss: 2.246404\n",
      "Train Epoch: 3 [4883952 (77%)]\tLoss: 2.387443\n",
      "Train Epoch: 3 [4988191 (78%)]\tLoss: 2.374979\n",
      "Train Epoch: 3 [5094403 (80%)]\tLoss: 2.112758\n",
      "Train Epoch: 3 [5199172 (82%)]\tLoss: 2.119009\n",
      "Train Epoch: 3 [5304870 (83%)]\tLoss: 2.417205\n",
      "Train Epoch: 3 [5409664 (85%)]\tLoss: 2.376614\n",
      "Train Epoch: 3 [5513033 (87%)]\tLoss: 2.147973\n",
      "Train Epoch: 3 [5619040 (88%)]\tLoss: 2.297841\n",
      "Train Epoch: 3 [5724367 (90%)]\tLoss: 2.332698\n",
      "Train Epoch: 3 [5829890 (92%)]\tLoss: 2.190921\n",
      "Train Epoch: 3 [5935229 (93%)]\tLoss: 2.236965\n",
      "Train Epoch: 3 [6038917 (95%)]\tLoss: 2.422162\n",
      "Train Epoch: 3 [6145300 (97%)]\tLoss: 2.406045\n",
      "Train Epoch: 3 [6253617 (98%)]\tLoss: 2.201669\n",
      "\n",
      "Test set: Average loss: 2.2773, Accuracy: 178445/1064529 (16.76%)\n",
      "\n",
      "Train Epoch: 4 [1024 (0%)]\tLoss: 2.284351\n",
      "Train Epoch: 4 [106284 (2%)]\tLoss: 2.366802\n",
      "Train Epoch: 4 [212858 (3%)]\tLoss: 2.262961\n",
      "Train Epoch: 4 [318023 (5%)]\tLoss: 2.334402\n",
      "Train Epoch: 4 [426162 (7%)]\tLoss: 2.324260\n",
      "Train Epoch: 4 [533714 (8%)]\tLoss: 2.377184\n",
      "Train Epoch: 4 [640999 (10%)]\tLoss: 2.388332\n",
      "Train Epoch: 4 [747585 (12%)]\tLoss: 2.285548\n",
      "Train Epoch: 4 [852492 (13%)]\tLoss: 2.248957\n",
      "Train Epoch: 4 [959910 (15%)]\tLoss: 2.083236\n",
      "Train Epoch: 4 [1064463 (17%)]\tLoss: 2.291785\n",
      "Train Epoch: 4 [1172794 (18%)]\tLoss: 2.188338\n",
      "Train Epoch: 4 [1278975 (20%)]\tLoss: 2.310944\n",
      "Train Epoch: 4 [1384136 (22%)]\tLoss: 2.280953\n",
      "Train Epoch: 4 [1490287 (23%)]\tLoss: 2.138023\n",
      "Train Epoch: 4 [1597012 (25%)]\tLoss: 2.233908\n",
      "Train Epoch: 4 [1701781 (27%)]\tLoss: 2.326282\n",
      "Train Epoch: 4 [1807287 (28%)]\tLoss: 2.440062\n",
      "Train Epoch: 4 [1913899 (30%)]\tLoss: 2.273723\n",
      "Train Epoch: 4 [2018655 (32%)]\tLoss: 2.383894\n",
      "Train Epoch: 4 [2123464 (33%)]\tLoss: 2.338980\n",
      "Train Epoch: 4 [2229361 (35%)]\tLoss: 2.263592\n",
      "Train Epoch: 4 [2334581 (37%)]\tLoss: 2.350824\n",
      "Train Epoch: 4 [2442833 (38%)]\tLoss: 2.291321\n",
      "Train Epoch: 4 [2550097 (40%)]\tLoss: 2.284171\n",
      "Train Epoch: 4 [2654876 (42%)]\tLoss: 2.314148\n",
      "Train Epoch: 4 [2760763 (43%)]\tLoss: 2.429802\n",
      "Train Epoch: 4 [2866450 (45%)]\tLoss: 2.324537\n",
      "Train Epoch: 4 [2973481 (47%)]\tLoss: 2.394134\n",
      "Train Epoch: 4 [3077709 (48%)]\tLoss: 2.292899\n",
      "Train Epoch: 4 [3183162 (50%)]\tLoss: 2.371990\n",
      "Train Epoch: 4 [3288227 (52%)]\tLoss: 2.357412\n",
      "Train Epoch: 4 [3393516 (53%)]\tLoss: 2.347011\n",
      "Train Epoch: 4 [3498951 (55%)]\tLoss: 2.282428\n",
      "Train Epoch: 4 [3603404 (57%)]\tLoss: 2.312672\n",
      "Train Epoch: 4 [3709482 (58%)]\tLoss: 2.342211\n",
      "Train Epoch: 4 [3814527 (60%)]\tLoss: 2.225301\n",
      "Train Epoch: 4 [3922769 (62%)]\tLoss: 2.325952\n",
      "Train Epoch: 4 [4028503 (63%)]\tLoss: 2.320946\n",
      "Train Epoch: 4 [4134087 (65%)]\tLoss: 2.412452\n",
      "Train Epoch: 4 [4241400 (67%)]\tLoss: 2.198016\n",
      "Train Epoch: 4 [4348114 (68%)]\tLoss: 2.295938\n",
      "Train Epoch: 4 [4455032 (70%)]\tLoss: 2.169532\n",
      "Train Epoch: 4 [4561972 (72%)]\tLoss: 2.325911\n",
      "Train Epoch: 4 [4667210 (73%)]\tLoss: 2.349969\n",
      "Train Epoch: 4 [4772292 (75%)]\tLoss: 2.311650\n",
      "Train Epoch: 4 [4879242 (77%)]\tLoss: 2.228370\n",
      "Train Epoch: 4 [4985613 (78%)]\tLoss: 2.252218\n",
      "Train Epoch: 4 [5090770 (80%)]\tLoss: 2.197604\n",
      "Train Epoch: 4 [5197695 (82%)]\tLoss: 2.208094\n",
      "Train Epoch: 4 [5304024 (83%)]\tLoss: 2.346756\n",
      "Train Epoch: 4 [5408986 (85%)]\tLoss: 2.305222\n",
      "Train Epoch: 4 [5514949 (87%)]\tLoss: 2.252623\n",
      "Train Epoch: 4 [5619889 (88%)]\tLoss: 2.296391\n",
      "Train Epoch: 4 [5724483 (90%)]\tLoss: 2.325248\n",
      "Train Epoch: 4 [5829602 (92%)]\tLoss: 2.198621\n",
      "Train Epoch: 4 [5933044 (93%)]\tLoss: 2.152517\n",
      "Train Epoch: 4 [6039570 (95%)]\tLoss: 2.314581\n",
      "Train Epoch: 4 [6145579 (97%)]\tLoss: 2.238163\n",
      "Train Epoch: 4 [6252994 (98%)]\tLoss: 2.361220\n",
      "\n",
      "Test set: Average loss: 2.2773, Accuracy: 178445/1064529 (16.76%)\n",
      "\n",
      "Train Epoch: 5 [1048 (0%)]\tLoss: 2.282030\n",
      "Train Epoch: 5 [105162 (2%)]\tLoss: 2.243605\n",
      "Train Epoch: 5 [211011 (3%)]\tLoss: 2.248846\n",
      "Train Epoch: 5 [317447 (5%)]\tLoss: 2.413685\n",
      "Train Epoch: 5 [424351 (7%)]\tLoss: 2.209482\n",
      "Train Epoch: 5 [532146 (8%)]\tLoss: 2.305147\n",
      "Train Epoch: 5 [638274 (10%)]\tLoss: 2.360896\n",
      "Train Epoch: 5 [744027 (12%)]\tLoss: 2.328163\n",
      "Train Epoch: 5 [849959 (13%)]\tLoss: 2.372554\n",
      "Train Epoch: 5 [956519 (15%)]\tLoss: 2.309569\n",
      "Train Epoch: 5 [1062702 (17%)]\tLoss: 2.247607\n",
      "Train Epoch: 5 [1171343 (18%)]\tLoss: 2.340923\n",
      "Train Epoch: 5 [1278654 (20%)]\tLoss: 2.256618\n",
      "Train Epoch: 5 [1383985 (22%)]\tLoss: 2.318612\n",
      "Train Epoch: 5 [1489930 (23%)]\tLoss: 2.247346\n",
      "Train Epoch: 5 [1595096 (25%)]\tLoss: 2.272917\n",
      "Train Epoch: 5 [1701419 (27%)]\tLoss: 2.302171\n",
      "Train Epoch: 5 [1807741 (28%)]\tLoss: 2.367924\n",
      "Train Epoch: 5 [1913803 (30%)]\tLoss: 2.290994\n",
      "Train Epoch: 5 [2019878 (32%)]\tLoss: 2.312431\n",
      "Train Epoch: 5 [2125710 (33%)]\tLoss: 2.212206\n",
      "Train Epoch: 5 [2232432 (35%)]\tLoss: 2.164732\n",
      "Train Epoch: 5 [2338837 (37%)]\tLoss: 2.364619\n",
      "Train Epoch: 5 [2444846 (38%)]\tLoss: 2.187855\n",
      "Train Epoch: 5 [2550422 (40%)]\tLoss: 2.265761\n",
      "Train Epoch: 5 [2655565 (42%)]\tLoss: 2.300954\n",
      "Train Epoch: 5 [2762714 (43%)]\tLoss: 2.243865\n",
      "Train Epoch: 5 [2867125 (45%)]\tLoss: 2.301842\n",
      "Train Epoch: 5 [2972239 (47%)]\tLoss: 2.293462\n",
      "Train Epoch: 5 [3077472 (48%)]\tLoss: 2.202283\n",
      "Train Epoch: 5 [3185035 (50%)]\tLoss: 2.277828\n",
      "Train Epoch: 5 [3290762 (52%)]\tLoss: 2.276776\n",
      "Train Epoch: 5 [3396506 (53%)]\tLoss: 2.362061\n",
      "Train Epoch: 5 [3502716 (55%)]\tLoss: 2.194125\n",
      "Train Epoch: 5 [3609845 (57%)]\tLoss: 2.301792\n",
      "Train Epoch: 5 [3714096 (58%)]\tLoss: 2.203916\n",
      "Train Epoch: 5 [3820996 (60%)]\tLoss: 2.411930\n",
      "Train Epoch: 5 [3926827 (62%)]\tLoss: 2.274282\n",
      "Train Epoch: 5 [4032701 (63%)]\tLoss: 2.302985\n",
      "Train Epoch: 5 [4138718 (65%)]\tLoss: 2.127477\n",
      "Train Epoch: 5 [4246123 (67%)]\tLoss: 2.378274\n",
      "Train Epoch: 5 [4352940 (68%)]\tLoss: 2.226284\n",
      "Train Epoch: 5 [4458981 (70%)]\tLoss: 2.215853\n",
      "Train Epoch: 5 [4562866 (72%)]\tLoss: 2.313083\n",
      "Train Epoch: 5 [4669956 (73%)]\tLoss: 2.266299\n",
      "Train Epoch: 5 [4777091 (75%)]\tLoss: 2.376717\n",
      "Train Epoch: 5 [4882484 (77%)]\tLoss: 2.251044\n",
      "Train Epoch: 5 [4989842 (78%)]\tLoss: 2.310168\n",
      "Train Epoch: 5 [5094695 (80%)]\tLoss: 2.321231\n",
      "Train Epoch: 5 [5198549 (82%)]\tLoss: 2.398295\n",
      "Train Epoch: 5 [5304847 (83%)]\tLoss: 2.335664\n",
      "Train Epoch: 5 [5409228 (85%)]\tLoss: 2.215133\n",
      "Train Epoch: 5 [5516135 (87%)]\tLoss: 2.316612\n",
      "Train Epoch: 5 [5622000 (88%)]\tLoss: 2.376442\n",
      "Train Epoch: 5 [5728612 (90%)]\tLoss: 2.360546\n",
      "Train Epoch: 5 [5835644 (92%)]\tLoss: 2.287826\n",
      "Train Epoch: 5 [5941536 (93%)]\tLoss: 2.279051\n",
      "Train Epoch: 5 [6045946 (95%)]\tLoss: 2.202224\n",
      "Train Epoch: 5 [6151140 (97%)]\tLoss: 2.279106\n",
      "Train Epoch: 5 [6255483 (98%)]\tLoss: 2.246759\n",
      "\n",
      "Test set: Average loss: 2.2774, Accuracy: 178445/1064529 (16.76%)\n",
      "\n",
      "Train Epoch: 6 [976 (0%)]\tLoss: 2.269131\n",
      "Train Epoch: 6 [104448 (2%)]\tLoss: 2.160070\n",
      "Train Epoch: 6 [211953 (3%)]\tLoss: 2.282256\n",
      "Train Epoch: 6 [316644 (5%)]\tLoss: 2.276083\n",
      "Train Epoch: 6 [422460 (7%)]\tLoss: 2.226410\n",
      "Train Epoch: 6 [527629 (8%)]\tLoss: 2.391419\n",
      "Train Epoch: 6 [634558 (10%)]\tLoss: 2.259550\n",
      "Train Epoch: 6 [741905 (12%)]\tLoss: 2.294058\n",
      "Train Epoch: 6 [847640 (13%)]\tLoss: 2.224503\n",
      "Train Epoch: 6 [953276 (15%)]\tLoss: 2.395998\n",
      "Train Epoch: 6 [1059463 (17%)]\tLoss: 2.152473\n",
      "Train Epoch: 6 [1165351 (18%)]\tLoss: 2.257901\n",
      "Train Epoch: 6 [1270979 (20%)]\tLoss: 2.230821\n",
      "Train Epoch: 6 [1374774 (22%)]\tLoss: 2.253079\n",
      "Train Epoch: 6 [1481320 (23%)]\tLoss: 2.347337\n",
      "Train Epoch: 6 [1588670 (25%)]\tLoss: 2.279023\n",
      "Train Epoch: 6 [1693059 (27%)]\tLoss: 2.265342\n",
      "Train Epoch: 6 [1800490 (28%)]\tLoss: 2.215795\n",
      "Train Epoch: 6 [1905670 (30%)]\tLoss: 2.391478\n",
      "Train Epoch: 6 [2011155 (32%)]\tLoss: 2.338487\n",
      "Train Epoch: 6 [2118591 (33%)]\tLoss: 2.170108\n",
      "Train Epoch: 6 [2224563 (35%)]\tLoss: 2.229728\n",
      "Train Epoch: 6 [2331024 (37%)]\tLoss: 2.391212\n",
      "Train Epoch: 6 [2438682 (38%)]\tLoss: 2.335907\n",
      "Train Epoch: 6 [2543612 (40%)]\tLoss: 2.347198\n",
      "Train Epoch: 6 [2651154 (42%)]\tLoss: 2.156126\n",
      "Train Epoch: 6 [2756967 (43%)]\tLoss: 2.313237\n",
      "Train Epoch: 6 [2864309 (45%)]\tLoss: 2.294049\n",
      "Train Epoch: 6 [2971254 (47%)]\tLoss: 2.362089\n",
      "Train Epoch: 6 [3077088 (48%)]\tLoss: 2.194458\n",
      "Train Epoch: 6 [3182320 (50%)]\tLoss: 2.322648\n",
      "Train Epoch: 6 [3288171 (52%)]\tLoss: 2.291356\n",
      "Train Epoch: 6 [3393577 (53%)]\tLoss: 2.398632\n",
      "Train Epoch: 6 [3497830 (55%)]\tLoss: 2.321721\n",
      "Train Epoch: 6 [3604726 (57%)]\tLoss: 2.284809\n",
      "Train Epoch: 6 [3711038 (58%)]\tLoss: 2.373641\n",
      "Train Epoch: 6 [3817853 (60%)]\tLoss: 2.124224\n",
      "Train Epoch: 6 [3923729 (62%)]\tLoss: 2.196017\n",
      "Train Epoch: 6 [4029609 (63%)]\tLoss: 2.251093\n",
      "Train Epoch: 6 [4134362 (65%)]\tLoss: 2.300532\n",
      "Train Epoch: 6 [4241315 (67%)]\tLoss: 2.173078\n",
      "Train Epoch: 6 [4345593 (68%)]\tLoss: 2.231195\n",
      "Train Epoch: 6 [4451817 (70%)]\tLoss: 2.330254\n",
      "Train Epoch: 6 [4557821 (72%)]\tLoss: 2.208955\n",
      "Train Epoch: 6 [4664411 (73%)]\tLoss: 2.291237\n",
      "Train Epoch: 6 [4771502 (75%)]\tLoss: 2.420317\n",
      "Train Epoch: 6 [4876781 (77%)]\tLoss: 2.296777\n",
      "Train Epoch: 6 [4983716 (78%)]\tLoss: 2.299909\n",
      "Train Epoch: 6 [5090049 (80%)]\tLoss: 2.156978\n",
      "Train Epoch: 6 [5195281 (82%)]\tLoss: 2.367122\n",
      "Train Epoch: 6 [5302575 (83%)]\tLoss: 2.286086\n",
      "Train Epoch: 6 [5407155 (85%)]\tLoss: 2.214629\n",
      "Train Epoch: 6 [5512464 (87%)]\tLoss: 2.434088\n",
      "Train Epoch: 6 [5620135 (88%)]\tLoss: 2.314877\n",
      "Train Epoch: 6 [5725547 (90%)]\tLoss: 2.190017\n",
      "Train Epoch: 6 [5829816 (92%)]\tLoss: 2.304157\n",
      "Train Epoch: 6 [5936890 (93%)]\tLoss: 2.187972\n",
      "Train Epoch: 6 [6042321 (95%)]\tLoss: 2.230088\n",
      "Train Epoch: 6 [6145537 (97%)]\tLoss: 2.202361\n",
      "Train Epoch: 6 [6253144 (98%)]\tLoss: 2.182484\n",
      "\n",
      "Test set: Average loss: 2.2780, Accuracy: 178445/1064529 (16.76%)\n",
      "\n",
      "Train Epoch: 7 [936 (0%)]\tLoss: 2.261151\n",
      "Train Epoch: 7 [105802 (2%)]\tLoss: 2.189457\n",
      "Train Epoch: 7 [211520 (3%)]\tLoss: 2.250140\n",
      "Train Epoch: 7 [316748 (5%)]\tLoss: 2.259681\n",
      "Train Epoch: 7 [422790 (7%)]\tLoss: 2.191705\n",
      "Train Epoch: 7 [529253 (8%)]\tLoss: 2.357848\n",
      "Train Epoch: 7 [633997 (10%)]\tLoss: 2.392369\n",
      "Train Epoch: 7 [739704 (12%)]\tLoss: 2.326086\n",
      "Train Epoch: 7 [846153 (13%)]\tLoss: 2.244864\n",
      "Train Epoch: 7 [952173 (15%)]\tLoss: 2.292709\n",
      "Train Epoch: 7 [1060793 (17%)]\tLoss: 2.252062\n",
      "Train Epoch: 7 [1166126 (18%)]\tLoss: 2.388910\n",
      "Train Epoch: 7 [1271672 (20%)]\tLoss: 2.222864\n",
      "Train Epoch: 7 [1378029 (22%)]\tLoss: 2.358109\n",
      "Train Epoch: 7 [1485169 (23%)]\tLoss: 2.371598\n",
      "Train Epoch: 7 [1590045 (25%)]\tLoss: 2.283286\n",
      "Train Epoch: 7 [1695987 (27%)]\tLoss: 2.272182\n",
      "Train Epoch: 7 [1800280 (28%)]\tLoss: 2.398726\n",
      "Train Epoch: 7 [1906215 (30%)]\tLoss: 2.242821\n",
      "Train Epoch: 7 [2010887 (32%)]\tLoss: 2.333429\n",
      "Train Epoch: 7 [2116459 (33%)]\tLoss: 2.194353\n",
      "Train Epoch: 7 [2221826 (35%)]\tLoss: 2.305039\n",
      "Train Epoch: 7 [2330235 (37%)]\tLoss: 2.397215\n",
      "Train Epoch: 7 [2437010 (38%)]\tLoss: 2.145636\n",
      "Train Epoch: 7 [2543993 (40%)]\tLoss: 2.356206\n",
      "Train Epoch: 7 [2649434 (42%)]\tLoss: 2.287629\n",
      "Train Epoch: 7 [2757338 (43%)]\tLoss: 2.317946\n",
      "Train Epoch: 7 [2862634 (45%)]\tLoss: 2.245202\n",
      "Train Epoch: 7 [2969066 (47%)]\tLoss: 2.243416\n",
      "Train Epoch: 7 [3075229 (48%)]\tLoss: 2.304787\n",
      "Train Epoch: 7 [3181673 (50%)]\tLoss: 2.327284\n",
      "Train Epoch: 7 [3287676 (52%)]\tLoss: 2.398592\n",
      "Train Epoch: 7 [3392362 (53%)]\tLoss: 2.215878\n",
      "Train Epoch: 7 [3495550 (55%)]\tLoss: 2.318960\n",
      "Train Epoch: 7 [3602684 (57%)]\tLoss: 2.303718\n",
      "Train Epoch: 7 [3710246 (58%)]\tLoss: 2.159273\n",
      "Train Epoch: 7 [3817044 (60%)]\tLoss: 2.364732\n",
      "Train Epoch: 7 [3922582 (62%)]\tLoss: 2.233525\n",
      "Train Epoch: 7 [4029854 (63%)]\tLoss: 2.186969\n",
      "Train Epoch: 7 [4135183 (65%)]\tLoss: 2.247818\n",
      "Train Epoch: 7 [4242295 (67%)]\tLoss: 2.378609\n",
      "Train Epoch: 7 [4347460 (68%)]\tLoss: 2.209596\n",
      "Train Epoch: 7 [4452778 (70%)]\tLoss: 2.209501\n",
      "Train Epoch: 7 [4559306 (72%)]\tLoss: 2.304910\n",
      "Train Epoch: 7 [4665820 (73%)]\tLoss: 2.315220\n",
      "Train Epoch: 7 [4771009 (75%)]\tLoss: 2.351370\n",
      "Train Epoch: 7 [4876711 (77%)]\tLoss: 2.372065\n",
      "Train Epoch: 7 [4983908 (78%)]\tLoss: 2.212129\n",
      "Train Epoch: 7 [5089880 (80%)]\tLoss: 2.176875\n",
      "Train Epoch: 7 [5196607 (82%)]\tLoss: 2.256371\n",
      "Train Epoch: 7 [5303731 (83%)]\tLoss: 2.244502\n",
      "Train Epoch: 7 [5409815 (85%)]\tLoss: 2.296602\n",
      "Train Epoch: 7 [5515144 (87%)]\tLoss: 2.411058\n",
      "Train Epoch: 7 [5621370 (88%)]\tLoss: 2.085177\n",
      "Train Epoch: 7 [5726767 (90%)]\tLoss: 2.327543\n",
      "Train Epoch: 7 [5833428 (92%)]\tLoss: 2.375141\n",
      "Train Epoch: 7 [5936806 (93%)]\tLoss: 2.256567\n",
      "Train Epoch: 7 [6042670 (95%)]\tLoss: 2.155577\n",
      "Train Epoch: 7 [6147439 (97%)]\tLoss: 2.256912\n",
      "Train Epoch: 7 [6254613 (98%)]\tLoss: 2.343282\n",
      "\n",
      "Test set: Average loss: 2.2774, Accuracy: 178445/1064529 (16.76%)\n",
      "\n",
      "Train Epoch: 8 [1128 (0%)]\tLoss: 2.303927\n",
      "Train Epoch: 8 [106355 (2%)]\tLoss: 2.372978\n",
      "Train Epoch: 8 [213753 (3%)]\tLoss: 2.161388\n",
      "Train Epoch: 8 [319900 (5%)]\tLoss: 2.325433\n",
      "Train Epoch: 8 [425164 (7%)]\tLoss: 2.261190\n",
      "Train Epoch: 8 [531871 (8%)]\tLoss: 2.299478\n",
      "Train Epoch: 8 [638411 (10%)]\tLoss: 2.363569\n",
      "Train Epoch: 8 [745188 (12%)]\tLoss: 2.288974\n",
      "Train Epoch: 8 [852999 (13%)]\tLoss: 2.360683\n",
      "Train Epoch: 8 [959043 (15%)]\tLoss: 2.440893\n",
      "Train Epoch: 8 [1063966 (17%)]\tLoss: 2.256399\n",
      "Train Epoch: 8 [1170478 (18%)]\tLoss: 2.292458\n",
      "Train Epoch: 8 [1277020 (20%)]\tLoss: 2.317718\n",
      "Train Epoch: 8 [1384451 (22%)]\tLoss: 2.316391\n",
      "Train Epoch: 8 [1490066 (23%)]\tLoss: 2.371981\n",
      "Train Epoch: 8 [1596843 (25%)]\tLoss: 2.274823\n",
      "Train Epoch: 8 [1702933 (27%)]\tLoss: 2.335928\n",
      "Train Epoch: 8 [1808161 (28%)]\tLoss: 2.365138\n",
      "Train Epoch: 8 [1914809 (30%)]\tLoss: 2.385444\n",
      "Train Epoch: 8 [2021314 (32%)]\tLoss: 2.160352\n",
      "Train Epoch: 8 [2129485 (33%)]\tLoss: 2.231393\n",
      "Train Epoch: 8 [2232993 (35%)]\tLoss: 2.145758\n",
      "Train Epoch: 8 [2337754 (37%)]\tLoss: 2.212105\n",
      "Train Epoch: 8 [2442800 (38%)]\tLoss: 2.270867\n",
      "Train Epoch: 8 [2549538 (40%)]\tLoss: 2.348170\n"
     ]
    },
    {
     "name": "stdout",
     "output_type": "stream",
     "text": [
      "Train Epoch: 8 [2655178 (42%)]\tLoss: 2.225538\n",
      "Train Epoch: 8 [2761375 (43%)]\tLoss: 2.331609\n",
      "Train Epoch: 8 [2866974 (45%)]\tLoss: 2.321748\n",
      "Train Epoch: 8 [2972412 (47%)]\tLoss: 2.366982\n",
      "Train Epoch: 8 [3076895 (48%)]\tLoss: 2.266394\n",
      "Train Epoch: 8 [3182566 (50%)]\tLoss: 2.363613\n",
      "Train Epoch: 8 [3290351 (52%)]\tLoss: 2.398757\n",
      "Train Epoch: 8 [3396476 (53%)]\tLoss: 2.238731\n",
      "Train Epoch: 8 [3503940 (55%)]\tLoss: 2.323129\n",
      "Train Epoch: 8 [3612079 (57%)]\tLoss: 2.348866\n",
      "Train Epoch: 8 [3717287 (58%)]\tLoss: 2.233928\n",
      "Train Epoch: 8 [3822450 (60%)]\tLoss: 2.324472\n",
      "Train Epoch: 8 [3928915 (62%)]\tLoss: 2.329423\n",
      "Train Epoch: 8 [4034383 (63%)]\tLoss: 2.186963\n",
      "Train Epoch: 8 [4138378 (65%)]\tLoss: 2.270420\n",
      "Train Epoch: 8 [4243083 (67%)]\tLoss: 2.237122\n",
      "Train Epoch: 8 [4350169 (68%)]\tLoss: 2.278573\n",
      "Train Epoch: 8 [4457026 (70%)]\tLoss: 2.308562\n",
      "Train Epoch: 8 [4560750 (72%)]\tLoss: 2.356947\n",
      "Train Epoch: 8 [4667664 (73%)]\tLoss: 2.389045\n",
      "Train Epoch: 8 [4774853 (75%)]\tLoss: 2.406522\n",
      "Train Epoch: 8 [4881599 (77%)]\tLoss: 2.343735\n",
      "Train Epoch: 8 [4986853 (78%)]\tLoss: 2.284294\n",
      "Train Epoch: 8 [5093538 (80%)]\tLoss: 2.282388\n",
      "Train Epoch: 8 [5199612 (82%)]\tLoss: 2.320046\n",
      "Train Epoch: 8 [5303272 (83%)]\tLoss: 2.137441\n",
      "Train Epoch: 8 [5410941 (85%)]\tLoss: 2.333743\n",
      "Train Epoch: 8 [5516757 (87%)]\tLoss: 2.352281\n",
      "Train Epoch: 8 [5621289 (88%)]\tLoss: 2.156233\n",
      "Train Epoch: 8 [5727939 (90%)]\tLoss: 2.277704\n",
      "Train Epoch: 8 [5832886 (92%)]\tLoss: 2.271502\n",
      "Train Epoch: 8 [5937737 (93%)]\tLoss: 2.189341\n",
      "Train Epoch: 8 [6042479 (95%)]\tLoss: 2.229176\n",
      "Train Epoch: 8 [6147784 (97%)]\tLoss: 2.314052\n",
      "Train Epoch: 8 [6253258 (98%)]\tLoss: 2.321726\n",
      "\n",
      "Test set: Average loss: 2.2768, Accuracy: 178445/1064529 (16.76%)\n",
      "\n",
      "Train Epoch: 9 [1128 (0%)]\tLoss: 2.357251\n",
      "Train Epoch: 9 [108137 (2%)]\tLoss: 2.197808\n",
      "Train Epoch: 9 [211401 (3%)]\tLoss: 2.195641\n",
      "Train Epoch: 9 [315445 (5%)]\tLoss: 2.246095\n",
      "Train Epoch: 9 [423122 (7%)]\tLoss: 2.195921\n",
      "Train Epoch: 9 [530133 (8%)]\tLoss: 2.378076\n",
      "Train Epoch: 9 [638793 (10%)]\tLoss: 2.328176\n",
      "Train Epoch: 9 [745024 (12%)]\tLoss: 2.285431\n",
      "Train Epoch: 9 [850605 (13%)]\tLoss: 2.175447\n",
      "Train Epoch: 9 [958506 (15%)]\tLoss: 2.373044\n",
      "Train Epoch: 9 [1061963 (17%)]\tLoss: 2.324271\n",
      "Train Epoch: 9 [1169619 (18%)]\tLoss: 2.308259\n",
      "Train Epoch: 9 [1274315 (20%)]\tLoss: 2.197985\n",
      "Train Epoch: 9 [1381255 (22%)]\tLoss: 2.279719\n",
      "Train Epoch: 9 [1486069 (23%)]\tLoss: 2.243587\n",
      "Train Epoch: 9 [1591891 (25%)]\tLoss: 2.250462\n",
      "Train Epoch: 9 [1697716 (27%)]\tLoss: 2.317163\n",
      "Train Epoch: 9 [1804133 (28%)]\tLoss: 2.232880\n",
      "Train Epoch: 9 [1910190 (30%)]\tLoss: 2.342068\n",
      "Train Epoch: 9 [2015430 (32%)]\tLoss: 2.283561\n",
      "Train Epoch: 9 [2121588 (33%)]\tLoss: 2.227106\n",
      "Train Epoch: 9 [2227380 (35%)]\tLoss: 2.170688\n",
      "Train Epoch: 9 [2333187 (37%)]\tLoss: 2.260453\n",
      "Train Epoch: 9 [2438610 (38%)]\tLoss: 2.234668\n",
      "Train Epoch: 9 [2545192 (40%)]\tLoss: 2.267210\n",
      "Train Epoch: 9 [2651688 (42%)]\tLoss: 2.191336\n",
      "Train Epoch: 9 [2756515 (43%)]\tLoss: 2.242784\n",
      "Train Epoch: 9 [2862288 (45%)]\tLoss: 2.350512\n",
      "Train Epoch: 9 [2967345 (47%)]\tLoss: 2.192138\n",
      "Train Epoch: 9 [3074085 (48%)]\tLoss: 2.091435\n",
      "Train Epoch: 9 [3179326 (50%)]\tLoss: 2.238569\n",
      "Train Epoch: 9 [3285359 (52%)]\tLoss: 2.276094\n",
      "Train Epoch: 9 [3390931 (53%)]\tLoss: 2.246773\n",
      "Train Epoch: 9 [3496785 (55%)]\tLoss: 2.307898\n",
      "Train Epoch: 9 [3601232 (57%)]\tLoss: 2.372200\n",
      "Train Epoch: 9 [3707694 (58%)]\tLoss: 2.396693\n",
      "Train Epoch: 9 [3812646 (60%)]\tLoss: 2.337317\n",
      "Train Epoch: 9 [3919168 (62%)]\tLoss: 2.259933\n",
      "Train Epoch: 9 [4025128 (63%)]\tLoss: 2.401499\n",
      "Train Epoch: 9 [4130948 (65%)]\tLoss: 2.328976\n",
      "Train Epoch: 9 [4236848 (67%)]\tLoss: 2.252760\n",
      "Train Epoch: 9 [4342709 (68%)]\tLoss: 2.274579\n",
      "Train Epoch: 9 [4449188 (70%)]\tLoss: 2.159614\n",
      "Train Epoch: 9 [4555969 (72%)]\tLoss: 2.367291\n",
      "Train Epoch: 9 [4661994 (73%)]\tLoss: 2.240919\n",
      "Train Epoch: 9 [4768323 (75%)]\tLoss: 2.157880\n",
      "Train Epoch: 9 [4874149 (77%)]\tLoss: 2.243266\n",
      "Train Epoch: 9 [4979674 (78%)]\tLoss: 2.283095\n",
      "Train Epoch: 9 [5086276 (80%)]\tLoss: 2.257763\n",
      "Train Epoch: 9 [5191003 (82%)]\tLoss: 2.285903\n",
      "Train Epoch: 9 [5295367 (83%)]\tLoss: 2.287178\n",
      "Train Epoch: 9 [5401447 (85%)]\tLoss: 2.222690\n",
      "Train Epoch: 9 [5507477 (87%)]\tLoss: 2.341678\n",
      "Train Epoch: 9 [5612887 (88%)]\tLoss: 2.192246\n",
      "Train Epoch: 9 [5718585 (90%)]\tLoss: 2.230516\n",
      "Train Epoch: 9 [5827713 (92%)]\tLoss: 2.239689\n",
      "Train Epoch: 9 [5933097 (93%)]\tLoss: 2.161166\n",
      "Train Epoch: 9 [6040249 (95%)]\tLoss: 2.264204\n",
      "Train Epoch: 9 [6146528 (97%)]\tLoss: 2.251596\n",
      "Train Epoch: 9 [6254379 (98%)]\tLoss: 2.339728\n",
      "\n",
      "Test set: Average loss: 2.2771, Accuracy: 178445/1064529 (16.76%)\n",
      "\n",
      "Train Epoch: 10 [1256 (0%)]\tLoss: 2.262184\n",
      "Train Epoch: 10 [106241 (2%)]\tLoss: 2.350623\n",
      "Train Epoch: 10 [213026 (3%)]\tLoss: 2.221521\n",
      "Train Epoch: 10 [318705 (5%)]\tLoss: 2.273823\n",
      "Train Epoch: 10 [425825 (7%)]\tLoss: 2.244185\n",
      "Train Epoch: 10 [532048 (8%)]\tLoss: 2.191636\n",
      "Train Epoch: 10 [637480 (10%)]\tLoss: 2.354889\n",
      "Train Epoch: 10 [743128 (12%)]\tLoss: 2.281500\n",
      "Train Epoch: 10 [850678 (13%)]\tLoss: 2.298048\n",
      "Train Epoch: 10 [957168 (15%)]\tLoss: 2.235727\n",
      "Train Epoch: 10 [1063726 (17%)]\tLoss: 2.165492\n",
      "Train Epoch: 10 [1168737 (18%)]\tLoss: 2.278659\n",
      "Train Epoch: 10 [1272413 (20%)]\tLoss: 2.329943\n",
      "Train Epoch: 10 [1378954 (22%)]\tLoss: 2.401562\n",
      "Train Epoch: 10 [1484542 (23%)]\tLoss: 2.203634\n",
      "Train Epoch: 10 [1590739 (25%)]\tLoss: 2.318903\n",
      "Train Epoch: 10 [1696997 (27%)]\tLoss: 2.265421\n",
      "Train Epoch: 10 [1803285 (28%)]\tLoss: 2.178591\n",
      "Train Epoch: 10 [1908967 (30%)]\tLoss: 2.241049\n",
      "Train Epoch: 10 [2016250 (32%)]\tLoss: 2.351891\n",
      "Train Epoch: 10 [2121285 (33%)]\tLoss: 2.269296\n",
      "Train Epoch: 10 [2227754 (35%)]\tLoss: 2.215849\n",
      "Train Epoch: 10 [2331577 (37%)]\tLoss: 2.139409\n",
      "Train Epoch: 10 [2437421 (38%)]\tLoss: 2.172937\n",
      "Train Epoch: 10 [2542722 (40%)]\tLoss: 2.271380\n",
      "Train Epoch: 10 [2647080 (42%)]\tLoss: 2.371966\n",
      "Train Epoch: 10 [2752140 (43%)]\tLoss: 2.248251\n",
      "Train Epoch: 10 [2859209 (45%)]\tLoss: 2.310762\n",
      "Train Epoch: 10 [2965832 (47%)]\tLoss: 2.281697\n",
      "Train Epoch: 10 [3071917 (48%)]\tLoss: 2.308429\n",
      "Train Epoch: 10 [3178237 (50%)]\tLoss: 2.232552\n",
      "Train Epoch: 10 [3283623 (52%)]\tLoss: 2.173788\n",
      "Train Epoch: 10 [3389140 (53%)]\tLoss: 2.326424\n",
      "Train Epoch: 10 [3494953 (55%)]\tLoss: 2.405298\n",
      "Train Epoch: 10 [3601674 (57%)]\tLoss: 2.208907\n",
      "Train Epoch: 10 [3706542 (58%)]\tLoss: 2.193822\n",
      "Train Epoch: 10 [3811973 (60%)]\tLoss: 2.267049\n",
      "Train Epoch: 10 [3917975 (62%)]\tLoss: 2.299121\n",
      "Train Epoch: 10 [4022141 (63%)]\tLoss: 2.234365\n",
      "Train Epoch: 10 [4129815 (65%)]\tLoss: 2.296146\n",
      "Train Epoch: 10 [4235152 (67%)]\tLoss: 2.220931\n",
      "Train Epoch: 10 [4342838 (68%)]\tLoss: 2.243275\n",
      "Train Epoch: 10 [4450360 (70%)]\tLoss: 2.322814\n",
      "Train Epoch: 10 [4556855 (72%)]\tLoss: 2.270987\n",
      "Train Epoch: 10 [4663240 (73%)]\tLoss: 2.267033\n",
      "Train Epoch: 10 [4769721 (75%)]\tLoss: 2.355459\n",
      "Train Epoch: 10 [4875763 (77%)]\tLoss: 2.261026\n",
      "Train Epoch: 10 [4982416 (78%)]\tLoss: 2.235909\n",
      "Train Epoch: 10 [5089317 (80%)]\tLoss: 2.171293\n",
      "Train Epoch: 10 [5195173 (82%)]\tLoss: 2.225783\n",
      "Train Epoch: 10 [5301447 (83%)]\tLoss: 2.401705\n",
      "Train Epoch: 10 [5406597 (85%)]\tLoss: 2.369513\n",
      "Train Epoch: 10 [5512432 (87%)]\tLoss: 2.196184\n",
      "Train Epoch: 10 [5617356 (88%)]\tLoss: 2.216939\n",
      "Train Epoch: 10 [5722866 (90%)]\tLoss: 2.193730\n",
      "Train Epoch: 10 [5829291 (92%)]\tLoss: 2.344145\n",
      "Train Epoch: 10 [5934351 (93%)]\tLoss: 2.283486\n",
      "Train Epoch: 10 [6040726 (95%)]\tLoss: 2.329551\n",
      "Train Epoch: 10 [6146444 (97%)]\tLoss: 2.287792\n",
      "Train Epoch: 10 [6252385 (98%)]\tLoss: 2.211262\n",
      "\n",
      "Test set: Average loss: 2.2776, Accuracy: 178445/1064529 (16.76%)\n",
      "\n",
      "Train Epoch: 1 [1160 (0%)]\tLoss: 2.305110\n",
      "Train Epoch: 1 [106175 (2%)]\tLoss: 2.225766\n",
      "Train Epoch: 1 [212674 (3%)]\tLoss: 1.892410\n",
      "Train Epoch: 1 [319594 (5%)]\tLoss: 1.454336\n",
      "Train Epoch: 1 [426233 (7%)]\tLoss: 1.268305\n",
      "Train Epoch: 1 [532978 (8%)]\tLoss: 1.205246\n",
      "Train Epoch: 1 [638033 (10%)]\tLoss: 1.200740\n",
      "Train Epoch: 1 [744519 (12%)]\tLoss: 0.933995\n",
      "Train Epoch: 1 [850004 (13%)]\tLoss: 0.760247\n",
      "Train Epoch: 1 [958052 (15%)]\tLoss: 0.532207\n",
      "Train Epoch: 1 [1063965 (17%)]\tLoss: 0.383822\n",
      "Train Epoch: 1 [1171025 (18%)]\tLoss: 0.677003\n",
      "Train Epoch: 1 [1277045 (20%)]\tLoss: 0.756771\n",
      "Train Epoch: 1 [1383271 (22%)]\tLoss: 0.503208\n",
      "Train Epoch: 1 [1491594 (23%)]\tLoss: 0.252485\n",
      "Train Epoch: 1 [1598146 (25%)]\tLoss: 0.537913\n",
      "Train Epoch: 1 [1703628 (27%)]\tLoss: 0.382910\n",
      "Train Epoch: 1 [1809211 (28%)]\tLoss: 0.158812\n",
      "Train Epoch: 1 [1912945 (30%)]\tLoss: 0.466661\n",
      "Train Epoch: 1 [2019122 (32%)]\tLoss: 0.654710\n",
      "Train Epoch: 1 [2126429 (33%)]\tLoss: 0.446440\n",
      "Train Epoch: 1 [2233149 (35%)]\tLoss: 0.286120\n",
      "Train Epoch: 1 [2339122 (37%)]\tLoss: 0.104652\n",
      "Train Epoch: 1 [2445307 (38%)]\tLoss: 1.411110\n",
      "Train Epoch: 1 [2550567 (40%)]\tLoss: 0.208591\n",
      "Train Epoch: 1 [2655846 (42%)]\tLoss: 0.068705\n",
      "Train Epoch: 1 [2761049 (43%)]\tLoss: 0.256549\n",
      "Train Epoch: 1 [2866058 (45%)]\tLoss: 0.239621\n",
      "Train Epoch: 1 [2972871 (47%)]\tLoss: 0.236356\n",
      "Train Epoch: 1 [3080323 (48%)]\tLoss: 0.651048\n",
      "Train Epoch: 1 [3186168 (50%)]\tLoss: 0.233873\n",
      "Train Epoch: 1 [3291477 (52%)]\tLoss: 0.315428\n",
      "Train Epoch: 1 [3396765 (53%)]\tLoss: 0.271806\n",
      "Train Epoch: 1 [3503148 (55%)]\tLoss: 0.366057\n",
      "Train Epoch: 1 [3610157 (57%)]\tLoss: 0.079543\n",
      "Train Epoch: 1 [3713185 (58%)]\tLoss: 0.316598\n",
      "Train Epoch: 1 [3817544 (60%)]\tLoss: 0.681466\n",
      "Train Epoch: 1 [3924185 (62%)]\tLoss: 0.339379\n",
      "Train Epoch: 1 [4029197 (63%)]\tLoss: 0.064915\n",
      "Train Epoch: 1 [4134941 (65%)]\tLoss: 0.054163\n",
      "Train Epoch: 1 [4240901 (67%)]\tLoss: 0.132055\n",
      "Train Epoch: 1 [4347753 (68%)]\tLoss: 0.430558\n",
      "Train Epoch: 1 [4452011 (70%)]\tLoss: 0.109503\n",
      "Train Epoch: 1 [4555813 (72%)]\tLoss: 0.203066\n",
      "Train Epoch: 1 [4664077 (73%)]\tLoss: 0.399891\n",
      "Train Epoch: 1 [4768859 (75%)]\tLoss: 0.089972\n",
      "Train Epoch: 1 [4874529 (77%)]\tLoss: 0.260076\n",
      "Train Epoch: 1 [4980232 (78%)]\tLoss: 0.058038\n",
      "Train Epoch: 1 [5084572 (80%)]\tLoss: 0.369256\n",
      "Train Epoch: 1 [5189670 (82%)]\tLoss: 0.238070\n",
      "Train Epoch: 1 [5295157 (83%)]\tLoss: 0.073549\n",
      "Train Epoch: 1 [5401764 (85%)]\tLoss: 0.157254\n",
      "Train Epoch: 1 [5508361 (87%)]\tLoss: 0.052331\n",
      "Train Epoch: 1 [5613445 (88%)]\tLoss: 0.097194\n",
      "Train Epoch: 1 [5719027 (90%)]\tLoss: 0.966354\n",
      "Train Epoch: 1 [5825764 (92%)]\tLoss: 0.428828\n",
      "Train Epoch: 1 [5934376 (93%)]\tLoss: 0.073284\n",
      "Train Epoch: 1 [6040284 (95%)]\tLoss: 0.449918\n",
      "Train Epoch: 1 [6146922 (97%)]\tLoss: 0.783946\n",
      "Train Epoch: 1 [6252989 (98%)]\tLoss: 0.125310\n",
      "\n",
      "Test set: Average loss: 0.2045, Accuracy: 995931/1064529 (93.56%)\n",
      "\n",
      "Train Epoch: 2 [1312 (0%)]\tLoss: 0.045302\n",
      "Train Epoch: 2 [108664 (2%)]\tLoss: 0.076300\n",
      "Train Epoch: 2 [213691 (3%)]\tLoss: 0.692811\n",
      "Train Epoch: 2 [320798 (5%)]\tLoss: 0.036650\n",
      "Train Epoch: 2 [425418 (7%)]\tLoss: 0.013198\n",
      "Train Epoch: 2 [529525 (8%)]\tLoss: 0.046148\n",
      "Train Epoch: 2 [634726 (10%)]\tLoss: 0.295972\n",
      "Train Epoch: 2 [741419 (12%)]\tLoss: 0.041144\n",
      "Train Epoch: 2 [845333 (13%)]\tLoss: 0.268751\n",
      "Train Epoch: 2 [952903 (15%)]\tLoss: 0.010840\n",
      "Train Epoch: 2 [1060698 (17%)]\tLoss: 0.061198\n",
      "Train Epoch: 2 [1166616 (18%)]\tLoss: 0.239101\n",
      "Train Epoch: 2 [1273088 (20%)]\tLoss: 0.028401\n",
      "Train Epoch: 2 [1378468 (22%)]\tLoss: 0.009025\n",
      "Train Epoch: 2 [1484730 (23%)]\tLoss: 0.210619\n",
      "Train Epoch: 2 [1591625 (25%)]\tLoss: 0.282692\n",
      "Train Epoch: 2 [1696141 (27%)]\tLoss: 0.015735\n",
      "Train Epoch: 2 [1801099 (28%)]\tLoss: 0.155368\n",
      "Train Epoch: 2 [1906215 (30%)]\tLoss: 0.489774\n",
      "Train Epoch: 2 [2012548 (32%)]\tLoss: 0.122733\n",
      "Train Epoch: 2 [2118324 (33%)]\tLoss: 0.333639\n",
      "Train Epoch: 2 [2225719 (35%)]\tLoss: 0.067207\n",
      "Train Epoch: 2 [2333331 (37%)]\tLoss: 0.209065\n",
      "Train Epoch: 2 [2440936 (38%)]\tLoss: 0.439305\n",
      "Train Epoch: 2 [2548680 (40%)]\tLoss: 0.118493\n",
      "Train Epoch: 2 [2654349 (42%)]\tLoss: 0.215001\n",
      "Train Epoch: 2 [2758943 (43%)]\tLoss: 0.054055\n",
      "Train Epoch: 2 [2864729 (45%)]\tLoss: 0.243234\n",
      "Train Epoch: 2 [2969155 (47%)]\tLoss: 0.717111\n",
      "Train Epoch: 2 [3076765 (48%)]\tLoss: 0.436537\n",
      "Train Epoch: 2 [3181469 (50%)]\tLoss: 0.380935\n",
      "Train Epoch: 2 [3286780 (52%)]\tLoss: 0.158364\n",
      "Train Epoch: 2 [3395096 (53%)]\tLoss: 0.932415\n",
      "Train Epoch: 2 [3502166 (55%)]\tLoss: 0.035112\n",
      "Train Epoch: 2 [3610388 (57%)]\tLoss: 0.029506\n",
      "Train Epoch: 2 [3714546 (58%)]\tLoss: 0.047046\n",
      "Train Epoch: 2 [3818600 (60%)]\tLoss: 0.022695\n",
      "Train Epoch: 2 [3924195 (62%)]\tLoss: 0.224550\n",
      "Train Epoch: 2 [4030030 (63%)]\tLoss: 0.119682\n",
      "Train Epoch: 2 [4134256 (65%)]\tLoss: 0.013076\n",
      "Train Epoch: 2 [4240186 (67%)]\tLoss: 0.446374\n",
      "Train Epoch: 2 [4344950 (68%)]\tLoss: 0.025337\n",
      "Train Epoch: 2 [4450861 (70%)]\tLoss: 0.057339\n",
      "Train Epoch: 2 [4555263 (72%)]\tLoss: 0.022168\n",
      "Train Epoch: 2 [4660344 (73%)]\tLoss: 0.026113\n",
      "Train Epoch: 2 [4765726 (75%)]\tLoss: 0.044211\n",
      "Train Epoch: 2 [4872225 (77%)]\tLoss: 0.251603\n",
      "Train Epoch: 2 [4976229 (78%)]\tLoss: 0.050079\n",
      "Train Epoch: 2 [5084485 (80%)]\tLoss: 0.027803\n",
      "Train Epoch: 2 [5190821 (82%)]\tLoss: 0.073014\n",
      "Train Epoch: 2 [5296821 (83%)]\tLoss: 0.163007\n",
      "Train Epoch: 2 [5402676 (85%)]\tLoss: 0.116072\n",
      "Train Epoch: 2 [5508411 (87%)]\tLoss: 0.010384\n",
      "Train Epoch: 2 [5614208 (88%)]\tLoss: 0.545480\n",
      "Train Epoch: 2 [5721114 (90%)]\tLoss: 0.043242\n",
      "Train Epoch: 2 [5828539 (92%)]\tLoss: 0.068293\n",
      "Train Epoch: 2 [5935769 (93%)]\tLoss: 0.417385\n",
      "Train Epoch: 2 [6040279 (95%)]\tLoss: 0.049164\n",
      "Train Epoch: 2 [6147147 (97%)]\tLoss: 0.068672\n",
      "Train Epoch: 2 [6252513 (98%)]\tLoss: 0.455845\n",
      "\n",
      "Test set: Average loss: 0.1097, Accuracy: 1028341/1064529 (96.60%)\n",
      "\n",
      "Train Epoch: 3 [1096 (0%)]\tLoss: 0.265205\n",
      "Train Epoch: 3 [105560 (2%)]\tLoss: 0.162481\n",
      "Train Epoch: 3 [212489 (3%)]\tLoss: 0.010855\n",
      "Train Epoch: 3 [319887 (5%)]\tLoss: 0.259414\n",
      "Train Epoch: 3 [424503 (7%)]\tLoss: 0.002534\n",
      "Train Epoch: 3 [528880 (8%)]\tLoss: 0.150079\n",
      "Train Epoch: 3 [635837 (10%)]\tLoss: 0.037004\n",
      "Train Epoch: 3 [742788 (12%)]\tLoss: 0.062215\n",
      "Train Epoch: 3 [849165 (13%)]\tLoss: 0.116047\n",
      "Train Epoch: 3 [956507 (15%)]\tLoss: 0.005302\n",
      "Train Epoch: 3 [1063599 (17%)]\tLoss: 0.613094\n",
      "Train Epoch: 3 [1169763 (18%)]\tLoss: 0.030964\n",
      "Train Epoch: 3 [1276297 (20%)]\tLoss: 0.237252\n",
      "Train Epoch: 3 [1384156 (22%)]\tLoss: 0.501873\n",
      "Train Epoch: 3 [1491684 (23%)]\tLoss: 0.003770\n",
      "Train Epoch: 3 [1598031 (25%)]\tLoss: 0.003841\n",
      "Train Epoch: 3 [1704667 (27%)]\tLoss: 0.093943\n",
      "Train Epoch: 3 [1810322 (28%)]\tLoss: 0.017215\n",
      "Train Epoch: 3 [1915982 (30%)]\tLoss: 0.025330\n",
      "Train Epoch: 3 [2022922 (32%)]\tLoss: 0.006286\n",
      "Train Epoch: 3 [2129085 (33%)]\tLoss: 0.821921\n",
      "Train Epoch: 3 [2234937 (35%)]\tLoss: 0.231517\n",
      "Train Epoch: 3 [2338995 (37%)]\tLoss: 0.421035\n",
      "Train Epoch: 3 [2443173 (38%)]\tLoss: 0.138772\n",
      "Train Epoch: 3 [2547364 (40%)]\tLoss: 0.077278\n",
      "Train Epoch: 3 [2653850 (42%)]\tLoss: 0.239712\n",
      "Train Epoch: 3 [2760361 (43%)]\tLoss: 0.025545\n",
      "Train Epoch: 3 [2866246 (45%)]\tLoss: 0.260361\n",
      "Train Epoch: 3 [2972076 (47%)]\tLoss: 0.372676\n",
      "Train Epoch: 3 [3076104 (48%)]\tLoss: 0.001108\n",
      "Train Epoch: 3 [3183586 (50%)]\tLoss: 0.070487\n",
      "Train Epoch: 3 [3289861 (52%)]\tLoss: 0.883563\n",
      "Train Epoch: 3 [3395561 (53%)]\tLoss: 0.033208\n",
      "Train Epoch: 3 [3501727 (55%)]\tLoss: 0.005779\n",
      "Train Epoch: 3 [3606561 (57%)]\tLoss: 0.055146\n",
      "Train Epoch: 3 [3710796 (58%)]\tLoss: 0.508385\n",
      "Train Epoch: 3 [3816025 (60%)]\tLoss: 0.256497\n",
      "Train Epoch: 3 [3922990 (62%)]\tLoss: 0.004479\n",
      "Train Epoch: 3 [4027960 (63%)]\tLoss: 0.037506\n",
      "Train Epoch: 3 [4131294 (65%)]\tLoss: 0.162021\n",
      "Train Epoch: 3 [4237629 (67%)]\tLoss: 0.084260\n",
      "Train Epoch: 3 [4345619 (68%)]\tLoss: 0.073065\n",
      "Train Epoch: 3 [4450355 (70%)]\tLoss: 0.053260\n",
      "Train Epoch: 3 [4557094 (72%)]\tLoss: 0.026349\n",
      "Train Epoch: 3 [4662433 (73%)]\tLoss: 0.175180\n",
      "Train Epoch: 3 [4769399 (75%)]\tLoss: 0.023486\n",
      "Train Epoch: 3 [4874825 (77%)]\tLoss: 0.029931\n",
      "Train Epoch: 3 [4979482 (78%)]\tLoss: 0.463114\n",
      "Train Epoch: 3 [5084784 (80%)]\tLoss: 0.024399\n",
      "Train Epoch: 3 [5192264 (82%)]\tLoss: 0.115444\n",
      "Train Epoch: 3 [5297908 (83%)]\tLoss: 0.029342\n",
      "Train Epoch: 3 [5403233 (85%)]\tLoss: 0.089193\n",
      "Train Epoch: 3 [5509468 (87%)]\tLoss: 0.096219\n",
      "Train Epoch: 3 [5614685 (88%)]\tLoss: 0.066000\n",
      "Train Epoch: 3 [5721688 (90%)]\tLoss: 0.040771\n",
      "Train Epoch: 3 [5826422 (92%)]\tLoss: 0.011990\n",
      "Train Epoch: 3 [5932673 (93%)]\tLoss: 0.025555\n",
      "Train Epoch: 3 [6039067 (95%)]\tLoss: 0.070965\n",
      "Train Epoch: 3 [6144651 (97%)]\tLoss: 0.009991\n",
      "Train Epoch: 3 [6252669 (98%)]\tLoss: 0.006333\n",
      "\n",
      "Test set: Average loss: 0.0850, Accuracy: 1036960/1064529 (97.41%)\n",
      "\n",
      "Train Epoch: 4 [1192 (0%)]\tLoss: 0.029364\n",
      "Train Epoch: 4 [106631 (2%)]\tLoss: 0.034258\n",
      "Train Epoch: 4 [214243 (3%)]\tLoss: 0.025345\n",
      "Train Epoch: 4 [319871 (5%)]\tLoss: 0.097228\n",
      "Train Epoch: 4 [428072 (7%)]\tLoss: 0.046305\n",
      "Train Epoch: 4 [532412 (8%)]\tLoss: 0.124721\n",
      "Train Epoch: 4 [638904 (10%)]\tLoss: 0.076758\n",
      "Train Epoch: 4 [743121 (12%)]\tLoss: 0.109937\n",
      "Train Epoch: 4 [849458 (13%)]\tLoss: 0.272844\n",
      "Train Epoch: 4 [955204 (15%)]\tLoss: 0.083270\n",
      "Train Epoch: 4 [1059641 (17%)]\tLoss: 0.030254\n",
      "Train Epoch: 4 [1165453 (18%)]\tLoss: 0.057142\n"
     ]
    },
    {
     "name": "stdout",
     "output_type": "stream",
     "text": [
      "Train Epoch: 4 [1271241 (20%)]\tLoss: 0.197613\n",
      "Train Epoch: 4 [1377141 (22%)]\tLoss: 0.003322\n",
      "Train Epoch: 4 [1483635 (23%)]\tLoss: 0.441106\n",
      "Train Epoch: 4 [1589064 (25%)]\tLoss: 0.036277\n",
      "Train Epoch: 4 [1695603 (27%)]\tLoss: 0.434124\n",
      "Train Epoch: 4 [1801956 (28%)]\tLoss: 0.013704\n",
      "Train Epoch: 4 [1909246 (30%)]\tLoss: 0.007508\n",
      "Train Epoch: 4 [2016490 (32%)]\tLoss: 0.072901\n",
      "Train Epoch: 4 [2121996 (33%)]\tLoss: 0.058241\n",
      "Train Epoch: 4 [2229998 (35%)]\tLoss: 0.476627\n",
      "Train Epoch: 4 [2335432 (37%)]\tLoss: 0.012629\n",
      "Train Epoch: 4 [2441782 (38%)]\tLoss: 0.035090\n",
      "Train Epoch: 4 [2548954 (40%)]\tLoss: 0.038681\n",
      "Train Epoch: 4 [2655831 (42%)]\tLoss: 0.497770\n",
      "Train Epoch: 4 [2761739 (43%)]\tLoss: 0.024459\n",
      "Train Epoch: 4 [2866476 (45%)]\tLoss: 0.272378\n",
      "Train Epoch: 4 [2971470 (47%)]\tLoss: 0.017600\n",
      "Train Epoch: 4 [3077637 (48%)]\tLoss: 0.057598\n",
      "Train Epoch: 4 [3182783 (50%)]\tLoss: 0.006165\n",
      "Train Epoch: 4 [3288832 (52%)]\tLoss: 0.192168\n",
      "Train Epoch: 4 [3393359 (53%)]\tLoss: 0.004504\n",
      "Train Epoch: 4 [3498510 (55%)]\tLoss: 0.004026\n",
      "Train Epoch: 4 [3606733 (57%)]\tLoss: 0.009098\n",
      "Train Epoch: 4 [3712485 (58%)]\tLoss: 0.077564\n",
      "Train Epoch: 4 [3819560 (60%)]\tLoss: 0.012093\n",
      "Train Epoch: 4 [3925202 (62%)]\tLoss: 0.132848\n",
      "Train Epoch: 4 [4029742 (63%)]\tLoss: 0.069678\n",
      "Train Epoch: 4 [4135222 (65%)]\tLoss: 0.239128\n",
      "Train Epoch: 4 [4241986 (67%)]\tLoss: 0.436653\n",
      "Train Epoch: 4 [4346260 (68%)]\tLoss: 0.006055\n",
      "Train Epoch: 4 [4450570 (70%)]\tLoss: 0.010499\n",
      "Train Epoch: 4 [4557608 (72%)]\tLoss: 0.017527\n",
      "Train Epoch: 4 [4663216 (73%)]\tLoss: 0.069550\n",
      "Train Epoch: 4 [4769232 (75%)]\tLoss: 0.110161\n",
      "Train Epoch: 4 [4875600 (77%)]\tLoss: 0.009630\n",
      "Train Epoch: 4 [4982596 (78%)]\tLoss: 0.134887\n",
      "Train Epoch: 4 [5089849 (80%)]\tLoss: 0.052584\n",
      "Train Epoch: 4 [5197518 (82%)]\tLoss: 0.060212\n",
      "Train Epoch: 4 [5303416 (83%)]\tLoss: 0.070822\n",
      "Train Epoch: 4 [5409805 (85%)]\tLoss: 0.188771\n",
      "Train Epoch: 4 [5514309 (87%)]\tLoss: 0.031651\n",
      "Train Epoch: 4 [5619037 (88%)]\tLoss: 0.011863\n",
      "Train Epoch: 4 [5724440 (90%)]\tLoss: 0.019851\n",
      "Train Epoch: 4 [5830818 (92%)]\tLoss: 0.041916\n",
      "Train Epoch: 4 [5936606 (93%)]\tLoss: 0.048598\n",
      "Train Epoch: 4 [6041335 (95%)]\tLoss: 0.149406\n",
      "Train Epoch: 4 [6147359 (97%)]\tLoss: 0.012101\n",
      "Train Epoch: 4 [6252775 (98%)]\tLoss: 0.075961\n",
      "\n",
      "Test set: Average loss: 0.0646, Accuracy: 1042847/1064529 (97.96%)\n",
      "\n",
      "Train Epoch: 5 [1152 (0%)]\tLoss: 0.013868\n",
      "Train Epoch: 5 [108473 (2%)]\tLoss: 0.175213\n",
      "Train Epoch: 5 [213605 (3%)]\tLoss: 0.037339\n",
      "Train Epoch: 5 [321331 (5%)]\tLoss: 0.000522\n",
      "Train Epoch: 5 [429496 (7%)]\tLoss: 0.091619\n",
      "Train Epoch: 5 [535000 (8%)]\tLoss: 0.004191\n",
      "Train Epoch: 5 [641678 (10%)]\tLoss: 0.144212\n",
      "Train Epoch: 5 [746793 (12%)]\tLoss: 0.014262\n",
      "Train Epoch: 5 [853707 (13%)]\tLoss: 0.011929\n",
      "Train Epoch: 5 [958699 (15%)]\tLoss: 0.010385\n",
      "Train Epoch: 5 [1064154 (17%)]\tLoss: 0.001814\n",
      "Train Epoch: 5 [1169044 (18%)]\tLoss: 0.003523\n",
      "Train Epoch: 5 [1274804 (20%)]\tLoss: 0.045359\n",
      "Train Epoch: 5 [1381033 (22%)]\tLoss: 0.010345\n",
      "Train Epoch: 5 [1486209 (23%)]\tLoss: 0.020301\n",
      "Train Epoch: 5 [1589567 (25%)]\tLoss: 0.055864\n",
      "Train Epoch: 5 [1694474 (27%)]\tLoss: 0.169929\n",
      "Train Epoch: 5 [1801117 (28%)]\tLoss: 0.018020\n",
      "Train Epoch: 5 [1906274 (30%)]\tLoss: 0.088816\n",
      "Train Epoch: 5 [2010954 (32%)]\tLoss: 0.023286\n",
      "Train Epoch: 5 [2116504 (33%)]\tLoss: 0.028009\n",
      "Train Epoch: 5 [2223801 (35%)]\tLoss: 0.001960\n",
      "Train Epoch: 5 [2329997 (37%)]\tLoss: 0.003943\n",
      "Train Epoch: 5 [2434031 (38%)]\tLoss: 0.008326\n",
      "Train Epoch: 5 [2541355 (40%)]\tLoss: 0.034260\n",
      "Train Epoch: 5 [2648103 (42%)]\tLoss: 0.034969\n",
      "Train Epoch: 5 [2754432 (43%)]\tLoss: 0.005762\n",
      "Train Epoch: 5 [2862684 (45%)]\tLoss: 0.017221\n",
      "Train Epoch: 5 [2968372 (47%)]\tLoss: 0.013253\n",
      "Train Epoch: 5 [3074016 (48%)]\tLoss: 0.012062\n",
      "Train Epoch: 5 [3180047 (50%)]\tLoss: 0.076339\n",
      "Train Epoch: 5 [3287583 (52%)]\tLoss: 0.087661\n",
      "Train Epoch: 5 [3393610 (53%)]\tLoss: 0.008881\n",
      "Train Epoch: 5 [3500943 (55%)]\tLoss: 0.004213\n",
      "Train Epoch: 5 [3607103 (57%)]\tLoss: 0.005936\n",
      "Train Epoch: 5 [3713018 (58%)]\tLoss: 0.035643\n",
      "Train Epoch: 5 [3816857 (60%)]\tLoss: 0.026062\n",
      "Train Epoch: 5 [3921665 (62%)]\tLoss: 0.022729\n",
      "Train Epoch: 5 [4027053 (63%)]\tLoss: 0.022454\n",
      "Train Epoch: 5 [4132524 (65%)]\tLoss: 0.030068\n",
      "Train Epoch: 5 [4238760 (67%)]\tLoss: 0.026996\n",
      "Train Epoch: 5 [4345848 (68%)]\tLoss: 0.002570\n",
      "Train Epoch: 5 [4451638 (70%)]\tLoss: 0.045721\n",
      "Train Epoch: 5 [4558778 (72%)]\tLoss: 0.036103\n",
      "Train Epoch: 5 [4665074 (73%)]\tLoss: 0.002597\n",
      "Train Epoch: 5 [4769737 (75%)]\tLoss: 0.103325\n",
      "Train Epoch: 5 [4875394 (77%)]\tLoss: 0.209618\n",
      "Train Epoch: 5 [4982044 (78%)]\tLoss: 0.035242\n",
      "Train Epoch: 5 [5087638 (80%)]\tLoss: 0.004885\n",
      "Train Epoch: 5 [5193466 (82%)]\tLoss: 0.005272\n",
      "Train Epoch: 5 [5298594 (83%)]\tLoss: 0.006883\n",
      "Train Epoch: 5 [5405674 (85%)]\tLoss: 0.075436\n",
      "Train Epoch: 5 [5512283 (87%)]\tLoss: 0.005800\n",
      "Train Epoch: 5 [5618844 (88%)]\tLoss: 0.025197\n",
      "Train Epoch: 5 [5725142 (90%)]\tLoss: 0.041266\n",
      "Train Epoch: 5 [5831338 (92%)]\tLoss: 0.025128\n",
      "Train Epoch: 5 [5936002 (93%)]\tLoss: 0.011680\n",
      "Train Epoch: 5 [6042882 (95%)]\tLoss: 0.147238\n",
      "Train Epoch: 5 [6149906 (97%)]\tLoss: 0.265932\n",
      "Train Epoch: 5 [6253371 (98%)]\tLoss: 0.010930\n",
      "\n",
      "Test set: Average loss: 0.0673, Accuracy: 1042615/1064529 (97.94%)\n",
      "\n",
      "Train Epoch: 6 [952 (0%)]\tLoss: 0.003123\n",
      "Train Epoch: 6 [107948 (2%)]\tLoss: 0.002400\n",
      "Train Epoch: 6 [214902 (3%)]\tLoss: 0.009689\n",
      "Train Epoch: 6 [318449 (5%)]\tLoss: 0.021234\n",
      "Train Epoch: 6 [427053 (7%)]\tLoss: 0.167777\n",
      "Train Epoch: 6 [532787 (8%)]\tLoss: 0.338418\n",
      "Train Epoch: 6 [637803 (10%)]\tLoss: 0.227009\n",
      "Train Epoch: 6 [744339 (12%)]\tLoss: 0.009641\n",
      "Train Epoch: 6 [851324 (13%)]\tLoss: 0.011859\n",
      "Train Epoch: 6 [957743 (15%)]\tLoss: 0.026882\n",
      "Train Epoch: 6 [1063662 (17%)]\tLoss: 0.003951\n",
      "Train Epoch: 6 [1170495 (18%)]\tLoss: 0.002236\n",
      "Train Epoch: 6 [1277208 (20%)]\tLoss: 0.012149\n",
      "Train Epoch: 6 [1384808 (22%)]\tLoss: 0.004033\n",
      "Train Epoch: 6 [1491996 (23%)]\tLoss: 0.017328\n",
      "Train Epoch: 6 [1599000 (25%)]\tLoss: 0.121286\n",
      "Train Epoch: 6 [1706115 (27%)]\tLoss: 0.075044\n",
      "Train Epoch: 6 [1810265 (28%)]\tLoss: 0.021634\n",
      "Train Epoch: 6 [1916942 (30%)]\tLoss: 0.007984\n",
      "Train Epoch: 6 [2022846 (32%)]\tLoss: 0.102704\n",
      "Train Epoch: 6 [2127894 (33%)]\tLoss: 0.029977\n",
      "Train Epoch: 6 [2230383 (35%)]\tLoss: 0.157189\n",
      "Train Epoch: 6 [2336058 (37%)]\tLoss: 0.003474\n",
      "Train Epoch: 6 [2441439 (38%)]\tLoss: 0.004508\n",
      "Train Epoch: 6 [2546991 (40%)]\tLoss: 0.019558\n",
      "Train Epoch: 6 [2655764 (42%)]\tLoss: 0.008524\n",
      "Train Epoch: 6 [2762277 (43%)]\tLoss: 0.027446\n",
      "Train Epoch: 6 [2866986 (45%)]\tLoss: 0.035945\n",
      "Train Epoch: 6 [2973144 (47%)]\tLoss: 0.080306\n",
      "Train Epoch: 6 [3080708 (48%)]\tLoss: 0.014187\n",
      "Train Epoch: 6 [3186157 (50%)]\tLoss: 0.057675\n",
      "Train Epoch: 6 [3292220 (52%)]\tLoss: 0.012000\n",
      "Train Epoch: 6 [3397595 (53%)]\tLoss: 0.029159\n",
      "Train Epoch: 6 [3503504 (55%)]\tLoss: 0.005547\n",
      "Train Epoch: 6 [3610738 (57%)]\tLoss: 0.072621\n",
      "Train Epoch: 6 [3715928 (58%)]\tLoss: 0.004142\n",
      "Train Epoch: 6 [3822987 (60%)]\tLoss: 0.001173\n",
      "Train Epoch: 6 [3928799 (62%)]\tLoss: 0.038248\n",
      "Train Epoch: 6 [4033027 (63%)]\tLoss: 0.238642\n",
      "Train Epoch: 6 [4137791 (65%)]\tLoss: 0.022239\n",
      "Train Epoch: 6 [4242636 (67%)]\tLoss: 0.446030\n",
      "Train Epoch: 6 [4350169 (68%)]\tLoss: 0.005696\n",
      "Train Epoch: 6 [4454858 (70%)]\tLoss: 0.025859\n",
      "Train Epoch: 6 [4561387 (72%)]\tLoss: 0.008625\n",
      "Train Epoch: 6 [4667624 (73%)]\tLoss: 0.008498\n",
      "Train Epoch: 6 [4773710 (75%)]\tLoss: 0.003124\n",
      "Train Epoch: 6 [4880550 (77%)]\tLoss: 0.035944\n",
      "Train Epoch: 6 [4984807 (78%)]\tLoss: 0.005454\n",
      "Train Epoch: 6 [5090793 (80%)]\tLoss: 0.012301\n",
      "Train Epoch: 6 [5196563 (82%)]\tLoss: 0.039892\n",
      "Train Epoch: 6 [5302465 (83%)]\tLoss: 0.017142\n",
      "Train Epoch: 6 [5409432 (85%)]\tLoss: 0.001311\n",
      "Train Epoch: 6 [5513929 (87%)]\tLoss: 0.013694\n",
      "Train Epoch: 6 [5616969 (88%)]\tLoss: 0.035890\n",
      "Train Epoch: 6 [5723722 (90%)]\tLoss: 0.627498\n",
      "Train Epoch: 6 [5828342 (92%)]\tLoss: 0.099723\n",
      "Train Epoch: 6 [5935758 (93%)]\tLoss: 0.065379\n",
      "Train Epoch: 6 [6042426 (95%)]\tLoss: 0.280780\n",
      "Train Epoch: 6 [6148572 (97%)]\tLoss: 0.061227\n",
      "Train Epoch: 6 [6255086 (98%)]\tLoss: 0.009450\n",
      "\n",
      "Test set: Average loss: 0.0649, Accuracy: 1043633/1064529 (98.04%)\n",
      "\n",
      "Train Epoch: 7 [1152 (0%)]\tLoss: 0.009038\n",
      "Train Epoch: 7 [106893 (2%)]\tLoss: 0.748858\n",
      "Train Epoch: 7 [213843 (3%)]\tLoss: 0.003347\n",
      "Train Epoch: 7 [319329 (5%)]\tLoss: 0.007753\n",
      "Train Epoch: 7 [425218 (7%)]\tLoss: 0.009726\n",
      "Train Epoch: 7 [531143 (8%)]\tLoss: 0.021755\n",
      "Train Epoch: 7 [636945 (10%)]\tLoss: 0.004887\n",
      "Train Epoch: 7 [743357 (12%)]\tLoss: 0.011641\n",
      "Train Epoch: 7 [849896 (13%)]\tLoss: 0.010455\n",
      "Train Epoch: 7 [956476 (15%)]\tLoss: 0.079730\n",
      "Train Epoch: 7 [1060531 (17%)]\tLoss: 0.169990\n",
      "Train Epoch: 7 [1164335 (18%)]\tLoss: 0.000742\n",
      "Train Epoch: 7 [1270733 (20%)]\tLoss: 0.012152\n",
      "Train Epoch: 7 [1377207 (22%)]\tLoss: 0.012240\n",
      "Train Epoch: 7 [1482904 (23%)]\tLoss: 0.032821\n",
      "Train Epoch: 7 [1588706 (25%)]\tLoss: 0.040826\n",
      "Train Epoch: 7 [1695141 (27%)]\tLoss: 0.150819\n",
      "Train Epoch: 7 [1801992 (28%)]\tLoss: 0.030276\n",
      "Train Epoch: 7 [1907358 (30%)]\tLoss: 0.376786\n",
      "Train Epoch: 7 [2012342 (32%)]\tLoss: 0.055255\n",
      "Train Epoch: 7 [2116755 (33%)]\tLoss: 0.037133\n",
      "Train Epoch: 7 [2224128 (35%)]\tLoss: 0.002577\n",
      "Train Epoch: 7 [2329532 (37%)]\tLoss: 0.005471\n",
      "Train Epoch: 7 [2433740 (38%)]\tLoss: 0.201695\n",
      "Train Epoch: 7 [2539948 (40%)]\tLoss: 0.011117\n",
      "Train Epoch: 7 [2645352 (42%)]\tLoss: 0.019510\n",
      "Train Epoch: 7 [2751429 (43%)]\tLoss: 0.098467\n",
      "Train Epoch: 7 [2858710 (45%)]\tLoss: 0.037933\n",
      "Train Epoch: 7 [2965229 (47%)]\tLoss: 0.012607\n",
      "Train Epoch: 7 [3072829 (48%)]\tLoss: 0.016461\n",
      "Train Epoch: 7 [3179737 (50%)]\tLoss: 0.098828\n",
      "Train Epoch: 7 [3285758 (52%)]\tLoss: 0.065417\n",
      "Train Epoch: 7 [3392362 (53%)]\tLoss: 0.020524\n",
      "Train Epoch: 7 [3498817 (55%)]\tLoss: 0.004738\n",
      "Train Epoch: 7 [3605315 (57%)]\tLoss: 0.009659\n",
      "Train Epoch: 7 [3712250 (58%)]\tLoss: 0.038080\n",
      "Train Epoch: 7 [3818156 (60%)]\tLoss: 0.044802\n",
      "Train Epoch: 7 [3925166 (62%)]\tLoss: 0.027332\n",
      "Train Epoch: 7 [4032129 (63%)]\tLoss: 0.008998\n",
      "Train Epoch: 7 [4138615 (65%)]\tLoss: 0.000831\n",
      "Train Epoch: 7 [4245296 (67%)]\tLoss: 0.171019\n",
      "Train Epoch: 7 [4352420 (68%)]\tLoss: 0.136555\n",
      "Train Epoch: 7 [4458415 (70%)]\tLoss: 0.006856\n",
      "Train Epoch: 7 [4561872 (72%)]\tLoss: 0.015117\n",
      "Train Epoch: 7 [4665981 (73%)]\tLoss: 0.018999\n",
      "Train Epoch: 7 [4773186 (75%)]\tLoss: 0.132817\n",
      "Train Epoch: 7 [4879722 (77%)]\tLoss: 0.004978\n",
      "Train Epoch: 7 [4985804 (78%)]\tLoss: 0.008329\n",
      "Train Epoch: 7 [5091246 (80%)]\tLoss: 0.193739\n",
      "Train Epoch: 7 [5196859 (82%)]\tLoss: 0.023046\n",
      "Train Epoch: 7 [5302531 (83%)]\tLoss: 0.083863\n",
      "Train Epoch: 7 [5408114 (85%)]\tLoss: 0.012098\n",
      "Train Epoch: 7 [5515692 (87%)]\tLoss: 0.037812\n",
      "Train Epoch: 7 [5621140 (88%)]\tLoss: 0.231075\n",
      "Train Epoch: 7 [5726026 (90%)]\tLoss: 0.074829\n",
      "Train Epoch: 7 [5831046 (92%)]\tLoss: 0.009037\n",
      "Train Epoch: 7 [5936825 (93%)]\tLoss: 0.041291\n",
      "Train Epoch: 7 [6042898 (95%)]\tLoss: 0.001274\n",
      "Train Epoch: 7 [6148786 (97%)]\tLoss: 0.004109\n",
      "Train Epoch: 7 [6254310 (98%)]\tLoss: 0.300233\n",
      "\n",
      "Test set: Average loss: 0.0489, Accuracy: 1048016/1064529 (98.45%)\n",
      "\n",
      "Train Epoch: 8 [1144 (0%)]\tLoss: 0.002514\n",
      "Train Epoch: 8 [106003 (2%)]\tLoss: 0.249929\n",
      "Train Epoch: 8 [210670 (3%)]\tLoss: 0.012582\n",
      "Train Epoch: 8 [316846 (5%)]\tLoss: 0.010179\n",
      "Train Epoch: 8 [421628 (7%)]\tLoss: 0.002786\n",
      "Train Epoch: 8 [525743 (8%)]\tLoss: 0.021752\n",
      "Train Epoch: 8 [631193 (10%)]\tLoss: 0.205338\n",
      "Train Epoch: 8 [736453 (12%)]\tLoss: 0.010207\n",
      "Train Epoch: 8 [844419 (13%)]\tLoss: 0.011364\n",
      "Train Epoch: 8 [950473 (15%)]\tLoss: 0.014563\n",
      "Train Epoch: 8 [1056803 (17%)]\tLoss: 0.020929\n",
      "Train Epoch: 8 [1161050 (18%)]\tLoss: 0.037902\n",
      "Train Epoch: 8 [1266425 (20%)]\tLoss: 0.107978\n",
      "Train Epoch: 8 [1372839 (22%)]\tLoss: 0.277744\n",
      "Train Epoch: 8 [1481423 (23%)]\tLoss: 0.009405\n",
      "Train Epoch: 8 [1588189 (25%)]\tLoss: 0.002521\n",
      "Train Epoch: 8 [1693064 (27%)]\tLoss: 0.015508\n",
      "Train Epoch: 8 [1800543 (28%)]\tLoss: 0.007986\n",
      "Train Epoch: 8 [1908103 (30%)]\tLoss: 0.045740\n",
      "Train Epoch: 8 [2012114 (32%)]\tLoss: 0.009551\n",
      "Train Epoch: 8 [2117668 (33%)]\tLoss: 0.120110\n",
      "Train Epoch: 8 [2223830 (35%)]\tLoss: 0.028405\n",
      "Train Epoch: 8 [2330493 (37%)]\tLoss: 0.000668\n",
      "Train Epoch: 8 [2435850 (38%)]\tLoss: 0.086769\n",
      "Train Epoch: 8 [2543595 (40%)]\tLoss: 0.005962\n",
      "Train Epoch: 8 [2649614 (42%)]\tLoss: 0.003330\n",
      "Train Epoch: 8 [2754709 (43%)]\tLoss: 0.033914\n",
      "Train Epoch: 8 [2859513 (45%)]\tLoss: 0.009430\n",
      "Train Epoch: 8 [2964885 (47%)]\tLoss: 0.000240\n",
      "Train Epoch: 8 [3070705 (48%)]\tLoss: 0.005834\n",
      "Train Epoch: 8 [3176124 (50%)]\tLoss: 0.004747\n",
      "Train Epoch: 8 [3282301 (52%)]\tLoss: 0.000312\n",
      "Train Epoch: 8 [3389108 (53%)]\tLoss: 0.007831\n",
      "Train Epoch: 8 [3495829 (55%)]\tLoss: 0.118923\n",
      "Train Epoch: 8 [3601010 (57%)]\tLoss: 0.002461\n",
      "Train Epoch: 8 [3707209 (58%)]\tLoss: 0.029723\n",
      "Train Epoch: 8 [3811891 (60%)]\tLoss: 0.238786\n",
      "Train Epoch: 8 [3918610 (62%)]\tLoss: 0.051438\n",
      "Train Epoch: 8 [4024787 (63%)]\tLoss: 0.012909\n",
      "Train Epoch: 8 [4130709 (65%)]\tLoss: 0.063910\n",
      "Train Epoch: 8 [4239257 (67%)]\tLoss: 0.001334\n",
      "Train Epoch: 8 [4345524 (68%)]\tLoss: 0.011389\n",
      "Train Epoch: 8 [4452621 (70%)]\tLoss: 0.009536\n",
      "Train Epoch: 8 [4557933 (72%)]\tLoss: 0.021320\n",
      "Train Epoch: 8 [4666678 (73%)]\tLoss: 0.003744\n",
      "Train Epoch: 8 [4772890 (75%)]\tLoss: 0.009716\n",
      "Train Epoch: 8 [4877217 (77%)]\tLoss: 0.006201\n",
      "Train Epoch: 8 [4982742 (78%)]\tLoss: 0.024850\n",
      "Train Epoch: 8 [5087510 (80%)]\tLoss: 0.217366\n",
      "Train Epoch: 8 [5193721 (82%)]\tLoss: 0.355627\n",
      "Train Epoch: 8 [5297752 (83%)]\tLoss: 0.005575\n",
      "Train Epoch: 8 [5402701 (85%)]\tLoss: 0.055740\n",
      "Train Epoch: 8 [5508359 (87%)]\tLoss: 0.057646\n",
      "Train Epoch: 8 [5614134 (88%)]\tLoss: 0.011402\n",
      "Train Epoch: 8 [5720382 (90%)]\tLoss: 0.001197\n",
      "Train Epoch: 8 [5826433 (92%)]\tLoss: 0.102899\n",
      "Train Epoch: 8 [5933027 (93%)]\tLoss: 0.003591\n",
      "Train Epoch: 8 [6040223 (95%)]\tLoss: 0.013312\n",
      "Train Epoch: 8 [6146637 (97%)]\tLoss: 0.003534\n",
      "Train Epoch: 8 [6252772 (98%)]\tLoss: 0.004595\n",
      "\n",
      "Test set: Average loss: 0.0504, Accuracy: 1047179/1064529 (98.37%)\n",
      "\n",
      "Train Epoch: 9 [1192 (0%)]\tLoss: 0.574866\n",
      "Train Epoch: 9 [106115 (2%)]\tLoss: 0.001811\n",
      "Train Epoch: 9 [210180 (3%)]\tLoss: 0.013743\n",
      "Train Epoch: 9 [316777 (5%)]\tLoss: 0.022627\n",
      "Train Epoch: 9 [422105 (7%)]\tLoss: 0.002418\n",
      "Train Epoch: 9 [529338 (8%)]\tLoss: 0.021627\n",
      "Train Epoch: 9 [636129 (10%)]\tLoss: 0.010387\n",
      "Train Epoch: 9 [742450 (12%)]\tLoss: 0.006703\n",
      "Train Epoch: 9 [847732 (13%)]\tLoss: 0.002879\n",
      "Train Epoch: 9 [952952 (15%)]\tLoss: 0.014392\n",
      "Train Epoch: 9 [1059182 (17%)]\tLoss: 0.214712\n",
      "Train Epoch: 9 [1166161 (18%)]\tLoss: 0.002205\n",
      "Train Epoch: 9 [1271389 (20%)]\tLoss: 0.002104\n",
      "Train Epoch: 9 [1378412 (22%)]\tLoss: 0.067378\n",
      "Train Epoch: 9 [1484835 (23%)]\tLoss: 0.001219\n",
      "Train Epoch: 9 [1587696 (25%)]\tLoss: 0.272865\n",
      "Train Epoch: 9 [1693177 (27%)]\tLoss: 0.012031\n",
      "Train Epoch: 9 [1800538 (28%)]\tLoss: 0.017329\n",
      "Train Epoch: 9 [1904478 (30%)]\tLoss: 0.006190\n",
      "Train Epoch: 9 [2011870 (32%)]\tLoss: 0.029231\n",
      "Train Epoch: 9 [2116143 (33%)]\tLoss: 0.017920\n",
      "Train Epoch: 9 [2221551 (35%)]\tLoss: 0.005041\n",
      "Train Epoch: 9 [2327388 (37%)]\tLoss: 0.003725\n",
      "Train Epoch: 9 [2433876 (38%)]\tLoss: 0.066671\n",
      "Train Epoch: 9 [2538624 (40%)]\tLoss: 0.006831\n",
      "Train Epoch: 9 [2645410 (42%)]\tLoss: 0.457038\n",
      "Train Epoch: 9 [2752421 (43%)]\tLoss: 0.079913\n",
      "Train Epoch: 9 [2856573 (45%)]\tLoss: 0.000784\n",
      "Train Epoch: 9 [2966048 (47%)]\tLoss: 0.180724\n",
      "Train Epoch: 9 [3072552 (48%)]\tLoss: 0.001039\n",
      "Train Epoch: 9 [3177748 (50%)]\tLoss: 0.074806\n",
      "Train Epoch: 9 [3285557 (52%)]\tLoss: 0.038350\n",
      "Train Epoch: 9 [3391793 (53%)]\tLoss: 0.000740\n",
      "Train Epoch: 9 [3496167 (55%)]\tLoss: 0.014522\n",
      "Train Epoch: 9 [3600436 (57%)]\tLoss: 0.002583\n",
      "Train Epoch: 9 [3707667 (58%)]\tLoss: 0.058981\n",
      "Train Epoch: 9 [3814972 (60%)]\tLoss: 0.046966\n",
      "Train Epoch: 9 [3920635 (62%)]\tLoss: 0.030698\n",
      "Train Epoch: 9 [4026113 (63%)]\tLoss: 0.006821\n",
      "Train Epoch: 9 [4133184 (65%)]\tLoss: 0.036495\n",
      "Train Epoch: 9 [4238320 (67%)]\tLoss: 0.153392\n",
      "Train Epoch: 9 [4345204 (68%)]\tLoss: 0.013131\n",
      "Train Epoch: 9 [4452040 (70%)]\tLoss: 0.010659\n",
      "Train Epoch: 9 [4558497 (72%)]\tLoss: 0.014452\n",
      "Train Epoch: 9 [4663725 (73%)]\tLoss: 0.002482\n",
      "Train Epoch: 9 [4770448 (75%)]\tLoss: 0.003318\n",
      "Train Epoch: 9 [4876558 (77%)]\tLoss: 0.001161\n",
      "Train Epoch: 9 [4982410 (78%)]\tLoss: 0.001420\n",
      "Train Epoch: 9 [5088815 (80%)]\tLoss: 0.044811\n",
      "Train Epoch: 9 [5194927 (82%)]\tLoss: 0.079764\n",
      "Train Epoch: 9 [5300757 (83%)]\tLoss: 0.004329\n",
      "Train Epoch: 9 [5406959 (85%)]\tLoss: 0.003166\n",
      "Train Epoch: 9 [5513109 (87%)]\tLoss: 0.305332\n",
      "Train Epoch: 9 [5619497 (88%)]\tLoss: 0.010496\n",
      "Train Epoch: 9 [5725117 (90%)]\tLoss: 0.019396\n",
      "Train Epoch: 9 [5831081 (92%)]\tLoss: 0.037623\n",
      "Train Epoch: 9 [5936321 (93%)]\tLoss: 0.040715\n",
      "Train Epoch: 9 [6042508 (95%)]\tLoss: 0.000949\n",
      "Train Epoch: 9 [6147247 (97%)]\tLoss: 0.032919\n",
      "Train Epoch: 9 [6254343 (98%)]\tLoss: 0.104744\n",
      "\n",
      "Test set: Average loss: 0.0506, Accuracy: 1046852/1064529 (98.34%)\n",
      "\n"
     ]
    },
    {
     "name": "stdout",
     "output_type": "stream",
     "text": [
      "Train Epoch: 10 [1184 (0%)]\tLoss: 0.034332\n",
      "Train Epoch: 10 [106537 (2%)]\tLoss: 0.002105\n",
      "Train Epoch: 10 [209564 (3%)]\tLoss: 0.009912\n",
      "Train Epoch: 10 [315151 (5%)]\tLoss: 0.007596\n",
      "Train Epoch: 10 [420232 (7%)]\tLoss: 0.017529\n",
      "Train Epoch: 10 [525964 (8%)]\tLoss: 0.036786\n",
      "Train Epoch: 10 [632015 (10%)]\tLoss: 0.001220\n",
      "Train Epoch: 10 [737444 (12%)]\tLoss: 0.001930\n",
      "Train Epoch: 10 [844915 (13%)]\tLoss: 0.001359\n",
      "Train Epoch: 10 [952371 (15%)]\tLoss: 0.001709\n",
      "Train Epoch: 10 [1058724 (17%)]\tLoss: 0.010566\n",
      "Train Epoch: 10 [1165267 (18%)]\tLoss: 0.142124\n",
      "Train Epoch: 10 [1270424 (20%)]\tLoss: 0.012852\n",
      "Train Epoch: 10 [1376455 (22%)]\tLoss: 0.031578\n",
      "Train Epoch: 10 [1483301 (23%)]\tLoss: 0.006160\n",
      "Train Epoch: 10 [1589433 (25%)]\tLoss: 0.019716\n",
      "Train Epoch: 10 [1695245 (27%)]\tLoss: 0.001807\n",
      "Train Epoch: 10 [1802609 (28%)]\tLoss: 0.006375\n",
      "Train Epoch: 10 [1909667 (30%)]\tLoss: 0.007178\n",
      "Train Epoch: 10 [2015669 (32%)]\tLoss: 0.008598\n",
      "Train Epoch: 10 [2120826 (33%)]\tLoss: 0.002959\n",
      "Train Epoch: 10 [2229360 (35%)]\tLoss: 0.001901\n",
      "Train Epoch: 10 [2336706 (37%)]\tLoss: 0.036323\n",
      "Train Epoch: 10 [2443073 (38%)]\tLoss: 0.023642\n",
      "Train Epoch: 10 [2549466 (40%)]\tLoss: 0.019152\n",
      "Train Epoch: 10 [2654882 (42%)]\tLoss: 0.640553\n",
      "Train Epoch: 10 [2761611 (43%)]\tLoss: 0.001443\n",
      "Train Epoch: 10 [2868002 (45%)]\tLoss: 0.039978\n",
      "Train Epoch: 10 [2973908 (47%)]\tLoss: 0.001952\n",
      "Train Epoch: 10 [3079251 (48%)]\tLoss: 0.030500\n",
      "Train Epoch: 10 [3183767 (50%)]\tLoss: 0.000713\n",
      "Train Epoch: 10 [3288564 (52%)]\tLoss: 0.014667\n",
      "Train Epoch: 10 [3393630 (53%)]\tLoss: 0.006820\n",
      "Train Epoch: 10 [3499978 (55%)]\tLoss: 0.010462\n",
      "Train Epoch: 10 [3606886 (57%)]\tLoss: 0.018982\n",
      "Train Epoch: 10 [3714394 (58%)]\tLoss: 0.003442\n",
      "Train Epoch: 10 [3821404 (60%)]\tLoss: 0.040177\n",
      "Train Epoch: 10 [3925646 (62%)]\tLoss: 0.004923\n",
      "Train Epoch: 10 [4032267 (63%)]\tLoss: 0.053222\n",
      "Train Epoch: 10 [4137564 (65%)]\tLoss: 0.003736\n",
      "Train Epoch: 10 [4243225 (67%)]\tLoss: 0.003643\n",
      "Train Epoch: 10 [4349509 (68%)]\tLoss: 0.010393\n",
      "Train Epoch: 10 [4456333 (70%)]\tLoss: 0.014723\n",
      "Train Epoch: 10 [4563786 (72%)]\tLoss: 0.009123\n",
      "Train Epoch: 10 [4669262 (73%)]\tLoss: 0.099988\n",
      "Train Epoch: 10 [4773783 (75%)]\tLoss: 0.004028\n",
      "Train Epoch: 10 [4877907 (77%)]\tLoss: 0.000790\n",
      "Train Epoch: 10 [4984428 (78%)]\tLoss: 0.082210\n",
      "Train Epoch: 10 [5092799 (80%)]\tLoss: 0.025174\n",
      "Train Epoch: 10 [5198005 (82%)]\tLoss: 0.212126\n",
      "Train Epoch: 10 [5304225 (83%)]\tLoss: 0.116827\n",
      "Train Epoch: 10 [5408700 (85%)]\tLoss: 0.216844\n",
      "Train Epoch: 10 [5513651 (87%)]\tLoss: 0.008241\n",
      "Train Epoch: 10 [5619121 (88%)]\tLoss: 0.010053\n",
      "Train Epoch: 10 [5726935 (90%)]\tLoss: 0.158959\n",
      "Train Epoch: 10 [5832965 (92%)]\tLoss: 0.001026\n",
      "Train Epoch: 10 [5938120 (93%)]\tLoss: 0.001264\n",
      "Train Epoch: 10 [6042258 (95%)]\tLoss: 0.035697\n",
      "Train Epoch: 10 [6148883 (97%)]\tLoss: 0.005012\n",
      "Train Epoch: 10 [6253856 (98%)]\tLoss: 0.037429\n",
      "\n",
      "Test set: Average loss: 0.0550, Accuracy: 1045781/1064529 (98.24%)\n",
      "\n",
      "Train Epoch: 1 [976 (0%)]\tLoss: 2.319634\n",
      "Train Epoch: 1 [107494 (2%)]\tLoss: 2.253881\n",
      "Train Epoch: 1 [211768 (3%)]\tLoss: 2.234413\n",
      "Train Epoch: 1 [317888 (5%)]\tLoss: 1.984401\n",
      "Train Epoch: 1 [423448 (7%)]\tLoss: 1.571268\n",
      "Train Epoch: 1 [530572 (8%)]\tLoss: 1.498345\n",
      "Train Epoch: 1 [636537 (10%)]\tLoss: 1.261092\n",
      "Train Epoch: 1 [741339 (12%)]\tLoss: 0.828492\n",
      "Train Epoch: 1 [846496 (13%)]\tLoss: 0.638478\n",
      "Train Epoch: 1 [951745 (15%)]\tLoss: 1.087917\n",
      "Train Epoch: 1 [1058378 (17%)]\tLoss: 0.953472\n",
      "Train Epoch: 1 [1165504 (18%)]\tLoss: 0.478206\n",
      "Train Epoch: 1 [1273202 (20%)]\tLoss: 0.279662\n",
      "Train Epoch: 1 [1382753 (22%)]\tLoss: 0.711103\n",
      "Train Epoch: 1 [1487404 (23%)]\tLoss: 0.560430\n",
      "Train Epoch: 1 [1592349 (25%)]\tLoss: 0.667025\n",
      "Train Epoch: 1 [1698656 (27%)]\tLoss: 0.295852\n",
      "Train Epoch: 1 [1805137 (28%)]\tLoss: 0.115717\n",
      "Train Epoch: 1 [1910439 (30%)]\tLoss: 0.172800\n",
      "Train Epoch: 1 [2015337 (32%)]\tLoss: 0.207866\n",
      "Train Epoch: 1 [2122791 (33%)]\tLoss: 0.451282\n",
      "Train Epoch: 1 [2228066 (35%)]\tLoss: 0.123448\n",
      "Train Epoch: 1 [2332979 (37%)]\tLoss: 0.095442\n",
      "Train Epoch: 1 [2438646 (38%)]\tLoss: 0.183567\n",
      "Train Epoch: 1 [2542966 (40%)]\tLoss: 0.099487\n",
      "Train Epoch: 1 [2647523 (42%)]\tLoss: 0.310967\n",
      "Train Epoch: 1 [2754439 (43%)]\tLoss: 0.555431\n",
      "Train Epoch: 1 [2861873 (45%)]\tLoss: 0.847415\n",
      "Train Epoch: 1 [2966610 (47%)]\tLoss: 0.080178\n",
      "Train Epoch: 1 [3072683 (48%)]\tLoss: 0.649542\n",
      "Train Epoch: 1 [3177122 (50%)]\tLoss: 0.145402\n",
      "Train Epoch: 1 [3283356 (52%)]\tLoss: 0.221447\n",
      "Train Epoch: 1 [3389798 (53%)]\tLoss: 0.208144\n",
      "Train Epoch: 1 [3497035 (55%)]\tLoss: 0.068861\n",
      "Train Epoch: 1 [3602873 (57%)]\tLoss: 0.180924\n",
      "Train Epoch: 1 [3710505 (58%)]\tLoss: 0.046133\n",
      "Train Epoch: 1 [3813809 (60%)]\tLoss: 0.320042\n",
      "Train Epoch: 1 [3918365 (62%)]\tLoss: 0.209882\n",
      "Train Epoch: 1 [4026320 (63%)]\tLoss: 0.134489\n",
      "Train Epoch: 1 [4131402 (65%)]\tLoss: 0.036739\n",
      "Train Epoch: 1 [4237984 (67%)]\tLoss: 0.261329\n",
      "Train Epoch: 1 [4345392 (68%)]\tLoss: 0.230113\n",
      "Train Epoch: 1 [4452275 (70%)]\tLoss: 0.714573\n",
      "Train Epoch: 1 [4557406 (72%)]\tLoss: 0.055855\n",
      "Train Epoch: 1 [4662898 (73%)]\tLoss: 0.051920\n",
      "Train Epoch: 1 [4769381 (75%)]\tLoss: 0.787798\n",
      "Train Epoch: 1 [4877604 (77%)]\tLoss: 0.028690\n",
      "Train Epoch: 1 [4984150 (78%)]\tLoss: 0.485138\n",
      "Train Epoch: 1 [5090010 (80%)]\tLoss: 0.082306\n",
      "Train Epoch: 1 [5196597 (82%)]\tLoss: 0.436725\n",
      "Train Epoch: 1 [5302871 (83%)]\tLoss: 0.344856\n",
      "Train Epoch: 1 [5408318 (85%)]\tLoss: 0.020114\n",
      "Train Epoch: 1 [5514559 (87%)]\tLoss: 0.275634\n",
      "Train Epoch: 1 [5620890 (88%)]\tLoss: 0.231659\n",
      "Train Epoch: 1 [5728199 (90%)]\tLoss: 0.053345\n",
      "Train Epoch: 1 [5833418 (92%)]\tLoss: 0.025386\n",
      "Train Epoch: 1 [5937031 (93%)]\tLoss: 0.066456\n",
      "Train Epoch: 1 [6041575 (95%)]\tLoss: 0.082836\n",
      "Train Epoch: 1 [6147658 (97%)]\tLoss: 0.159162\n",
      "Train Epoch: 1 [6253138 (98%)]\tLoss: 0.079016\n",
      "\n",
      "Test set: Average loss: 0.1244, Accuracy: 1023573/1064529 (96.15%)\n",
      "\n",
      "Train Epoch: 2 [1136 (0%)]\tLoss: 0.090383\n",
      "Train Epoch: 2 [106218 (2%)]\tLoss: 0.135168\n",
      "Train Epoch: 2 [213000 (3%)]\tLoss: 0.338670\n",
      "Train Epoch: 2 [318567 (5%)]\tLoss: 0.109977\n",
      "Train Epoch: 2 [424532 (7%)]\tLoss: 0.082914\n",
      "Train Epoch: 2 [531459 (8%)]\tLoss: 0.013694\n",
      "Train Epoch: 2 [635284 (10%)]\tLoss: 0.369944\n",
      "Train Epoch: 2 [739901 (12%)]\tLoss: 0.039360\n",
      "Train Epoch: 2 [846990 (13%)]\tLoss: 0.024238\n",
      "Train Epoch: 2 [952245 (15%)]\tLoss: 0.086543\n",
      "Train Epoch: 2 [1059481 (17%)]\tLoss: 0.137948\n",
      "Train Epoch: 2 [1168191 (18%)]\tLoss: 0.033201\n",
      "Train Epoch: 2 [1272750 (20%)]\tLoss: 0.074783\n",
      "Train Epoch: 2 [1378327 (22%)]\tLoss: 0.094793\n",
      "Train Epoch: 2 [1486011 (23%)]\tLoss: 0.048154\n",
      "Train Epoch: 2 [1592478 (25%)]\tLoss: 0.731615\n",
      "Train Epoch: 2 [1699296 (27%)]\tLoss: 0.158482\n",
      "Train Epoch: 2 [1806646 (28%)]\tLoss: 0.146397\n",
      "Train Epoch: 2 [1913684 (30%)]\tLoss: 0.020029\n",
      "Train Epoch: 2 [2019790 (32%)]\tLoss: 0.183902\n",
      "Train Epoch: 2 [2125896 (33%)]\tLoss: 0.079046\n",
      "Train Epoch: 2 [2231943 (35%)]\tLoss: 0.354217\n",
      "Train Epoch: 2 [2338898 (37%)]\tLoss: 0.015759\n",
      "Train Epoch: 2 [2445107 (38%)]\tLoss: 0.123727\n",
      "Train Epoch: 2 [2550979 (40%)]\tLoss: 0.149611\n",
      "Train Epoch: 2 [2656370 (42%)]\tLoss: 0.032832\n",
      "Train Epoch: 2 [2762458 (43%)]\tLoss: 2.123965\n",
      "Train Epoch: 2 [2869230 (45%)]\tLoss: 0.216009\n",
      "Train Epoch: 2 [2974629 (47%)]\tLoss: 0.063908\n",
      "Train Epoch: 2 [3079461 (48%)]\tLoss: 0.200772\n",
      "Train Epoch: 2 [3184096 (50%)]\tLoss: 0.047974\n",
      "Train Epoch: 2 [3291235 (52%)]\tLoss: 0.009635\n",
      "Train Epoch: 2 [3397891 (53%)]\tLoss: 0.005202\n",
      "Train Epoch: 2 [3504517 (55%)]\tLoss: 0.027852\n",
      "Train Epoch: 2 [3609954 (57%)]\tLoss: 0.020942\n",
      "Train Epoch: 2 [3714898 (58%)]\tLoss: 0.197882\n",
      "Train Epoch: 2 [3820641 (60%)]\tLoss: 0.029291\n",
      "Train Epoch: 2 [3925102 (62%)]\tLoss: 0.109221\n",
      "Train Epoch: 2 [4030410 (63%)]\tLoss: 0.026357\n",
      "Train Epoch: 2 [4136632 (65%)]\tLoss: 0.267397\n",
      "Train Epoch: 2 [4241448 (67%)]\tLoss: 0.007556\n",
      "Train Epoch: 2 [4347017 (68%)]\tLoss: 0.021347\n",
      "Train Epoch: 2 [4452696 (70%)]\tLoss: 0.109255\n",
      "Train Epoch: 2 [4558119 (72%)]\tLoss: 0.066313\n",
      "Train Epoch: 2 [4663370 (73%)]\tLoss: 0.181007\n",
      "Train Epoch: 2 [4770163 (75%)]\tLoss: 0.248266\n",
      "Train Epoch: 2 [4874828 (77%)]\tLoss: 0.021102\n",
      "Train Epoch: 2 [4981488 (78%)]\tLoss: 0.012787\n",
      "Train Epoch: 2 [5086794 (80%)]\tLoss: 0.035131\n",
      "Train Epoch: 2 [5192974 (82%)]\tLoss: 0.240737\n",
      "Train Epoch: 2 [5298461 (83%)]\tLoss: 0.139164\n",
      "Train Epoch: 2 [5404947 (85%)]\tLoss: 0.025568\n",
      "Train Epoch: 2 [5511030 (87%)]\tLoss: 0.428131\n",
      "Train Epoch: 2 [5617727 (88%)]\tLoss: 0.184081\n",
      "Train Epoch: 2 [5724125 (90%)]\tLoss: 0.119733\n"
     ]
    },
    {
     "name": "stdout",
     "output_type": "stream",
     "text": [
      "Train Epoch: 2 [5830304 (92%)]\tLoss: 0.023192\n",
      "Train Epoch: 2 [5937756 (93%)]\tLoss: 0.011098\n",
      "Train Epoch: 2 [6045161 (95%)]\tLoss: 0.024562\n",
      "Train Epoch: 2 [6149231 (97%)]\tLoss: 0.087992\n",
      "Train Epoch: 2 [6255971 (98%)]\tLoss: 0.024272\n",
      "\n",
      "Test set: Average loss: 0.0810, Accuracy: 1037794/1064529 (97.49%)\n",
      "\n",
      "Train Epoch: 3 [840 (0%)]\tLoss: 0.041112\n",
      "Train Epoch: 3 [107058 (2%)]\tLoss: 0.502989\n",
      "Train Epoch: 3 [212155 (3%)]\tLoss: 0.043975\n",
      "Train Epoch: 3 [318331 (5%)]\tLoss: 0.005777\n",
      "Train Epoch: 3 [424896 (7%)]\tLoss: 0.053478\n",
      "Train Epoch: 3 [529576 (8%)]\tLoss: 0.165506\n",
      "Train Epoch: 3 [637926 (10%)]\tLoss: 0.040277\n",
      "Train Epoch: 3 [744129 (12%)]\tLoss: 0.056464\n",
      "Train Epoch: 3 [852207 (13%)]\tLoss: 0.061560\n",
      "Train Epoch: 3 [956857 (15%)]\tLoss: 0.157025\n",
      "Train Epoch: 3 [1065404 (17%)]\tLoss: 0.002338\n",
      "Train Epoch: 3 [1171047 (18%)]\tLoss: 0.007503\n",
      "Train Epoch: 3 [1275805 (20%)]\tLoss: 0.027781\n",
      "Train Epoch: 3 [1381143 (22%)]\tLoss: 0.052733\n",
      "Train Epoch: 3 [1488050 (23%)]\tLoss: 0.017243\n",
      "Train Epoch: 3 [1592377 (25%)]\tLoss: 0.023859\n",
      "Train Epoch: 3 [1697593 (27%)]\tLoss: 0.399367\n",
      "Train Epoch: 3 [1805047 (28%)]\tLoss: 0.005294\n",
      "Train Epoch: 3 [1910214 (30%)]\tLoss: 0.030897\n",
      "Train Epoch: 3 [2015300 (32%)]\tLoss: 0.011986\n",
      "Train Epoch: 3 [2122594 (33%)]\tLoss: 0.009577\n",
      "Train Epoch: 3 [2228552 (35%)]\tLoss: 0.270717\n",
      "Train Epoch: 3 [2335153 (37%)]\tLoss: 0.009786\n",
      "Train Epoch: 3 [2441304 (38%)]\tLoss: 0.104420\n",
      "Train Epoch: 3 [2547845 (40%)]\tLoss: 0.008082\n",
      "Train Epoch: 3 [2654219 (42%)]\tLoss: 0.048785\n",
      "Train Epoch: 3 [2758147 (43%)]\tLoss: 0.004297\n",
      "Train Epoch: 3 [2864610 (45%)]\tLoss: 0.066907\n",
      "Train Epoch: 3 [2972597 (47%)]\tLoss: 0.052462\n",
      "Train Epoch: 3 [3079200 (48%)]\tLoss: 0.106828\n",
      "Train Epoch: 3 [3184816 (50%)]\tLoss: 0.014373\n",
      "Train Epoch: 3 [3290506 (52%)]\tLoss: 0.077428\n",
      "Train Epoch: 3 [3394958 (53%)]\tLoss: 0.064987\n",
      "Train Epoch: 3 [3500496 (55%)]\tLoss: 0.023140\n",
      "Train Epoch: 3 [3607727 (57%)]\tLoss: 0.015891\n",
      "Train Epoch: 3 [3712861 (58%)]\tLoss: 0.003310\n",
      "Train Epoch: 3 [3818283 (60%)]\tLoss: 0.081809\n",
      "Train Epoch: 3 [3923087 (62%)]\tLoss: 0.048432\n",
      "Train Epoch: 3 [4029374 (63%)]\tLoss: 0.176956\n",
      "Train Epoch: 3 [4135088 (65%)]\tLoss: 0.037439\n",
      "Train Epoch: 3 [4240457 (67%)]\tLoss: 0.002546\n",
      "Train Epoch: 3 [4349309 (68%)]\tLoss: 0.053839\n",
      "Train Epoch: 3 [4456621 (70%)]\tLoss: 0.008009\n",
      "Train Epoch: 3 [4561732 (72%)]\tLoss: 0.007565\n",
      "Train Epoch: 3 [4668336 (73%)]\tLoss: 0.160204\n",
      "Train Epoch: 3 [4773877 (75%)]\tLoss: 0.003033\n",
      "Train Epoch: 3 [4880428 (77%)]\tLoss: 0.044471\n",
      "Train Epoch: 3 [4988516 (78%)]\tLoss: 0.045323\n",
      "Train Epoch: 3 [5094421 (80%)]\tLoss: 0.049860\n",
      "Train Epoch: 3 [5198695 (82%)]\tLoss: 0.025913\n",
      "Train Epoch: 3 [5302809 (83%)]\tLoss: 0.067886\n",
      "Train Epoch: 3 [5406676 (85%)]\tLoss: 0.001021\n",
      "Train Epoch: 3 [5515298 (87%)]\tLoss: 0.031868\n",
      "Train Epoch: 3 [5619671 (88%)]\tLoss: 0.112372\n",
      "Train Epoch: 3 [5725899 (90%)]\tLoss: 0.024424\n",
      "Train Epoch: 3 [5831140 (92%)]\tLoss: 0.026033\n",
      "Train Epoch: 3 [5937149 (93%)]\tLoss: 0.049899\n",
      "Train Epoch: 3 [6041018 (95%)]\tLoss: 0.110301\n",
      "Train Epoch: 3 [6148684 (97%)]\tLoss: 0.024816\n",
      "Train Epoch: 3 [6254231 (98%)]\tLoss: 0.012354\n",
      "\n",
      "Test set: Average loss: 0.0520, Accuracy: 1047748/1064529 (98.42%)\n",
      "\n",
      "Train Epoch: 4 [1128 (0%)]\tLoss: 0.040032\n",
      "Train Epoch: 4 [107344 (2%)]\tLoss: 0.059452\n",
      "Train Epoch: 4 [213836 (3%)]\tLoss: 0.037261\n",
      "Train Epoch: 4 [318889 (5%)]\tLoss: 0.031841\n",
      "Train Epoch: 4 [424495 (7%)]\tLoss: 0.164643\n",
      "Train Epoch: 4 [528065 (8%)]\tLoss: 0.070341\n",
      "Train Epoch: 4 [634699 (10%)]\tLoss: 0.062757\n",
      "Train Epoch: 4 [741394 (12%)]\tLoss: 0.016811\n",
      "Train Epoch: 4 [846996 (13%)]\tLoss: 0.040503\n",
      "Train Epoch: 4 [953567 (15%)]\tLoss: 0.017139\n",
      "Train Epoch: 4 [1058260 (17%)]\tLoss: 0.088634\n",
      "Train Epoch: 4 [1164093 (18%)]\tLoss: 0.059811\n",
      "Train Epoch: 4 [1267964 (20%)]\tLoss: 0.053440\n",
      "Train Epoch: 4 [1374828 (22%)]\tLoss: 0.016346\n",
      "Train Epoch: 4 [1481861 (23%)]\tLoss: 0.021693\n",
      "Train Epoch: 4 [1588160 (25%)]\tLoss: 0.023395\n",
      "Train Epoch: 4 [1694047 (27%)]\tLoss: 0.020340\n",
      "Train Epoch: 4 [1801970 (28%)]\tLoss: 0.024351\n",
      "Train Epoch: 4 [1908648 (30%)]\tLoss: 0.082666\n",
      "Train Epoch: 4 [2014070 (32%)]\tLoss: 0.016785\n",
      "Train Epoch: 4 [2119997 (33%)]\tLoss: 0.004063\n",
      "Train Epoch: 4 [2226394 (35%)]\tLoss: 0.216519\n",
      "Train Epoch: 4 [2331949 (37%)]\tLoss: 0.001607\n",
      "Train Epoch: 4 [2438117 (38%)]\tLoss: 0.013918\n",
      "Train Epoch: 4 [2543186 (40%)]\tLoss: 0.057777\n",
      "Train Epoch: 4 [2649379 (42%)]\tLoss: 0.034649\n",
      "Train Epoch: 4 [2753433 (43%)]\tLoss: 0.013098\n",
      "Train Epoch: 4 [2859842 (45%)]\tLoss: 0.006505\n",
      "Train Epoch: 4 [2965723 (47%)]\tLoss: 0.001295\n",
      "Train Epoch: 4 [3070738 (48%)]\tLoss: 0.107126\n",
      "Train Epoch: 4 [3178428 (50%)]\tLoss: 0.022036\n",
      "Train Epoch: 4 [3283523 (52%)]\tLoss: 0.349696\n",
      "Train Epoch: 4 [3388582 (53%)]\tLoss: 0.057605\n",
      "Train Epoch: 4 [3493765 (55%)]\tLoss: 0.049576\n",
      "Train Epoch: 4 [3599418 (57%)]\tLoss: 0.002995\n",
      "Train Epoch: 4 [3705817 (58%)]\tLoss: 0.084339\n",
      "Train Epoch: 4 [3811053 (60%)]\tLoss: 0.013102\n",
      "Train Epoch: 4 [3919359 (62%)]\tLoss: 0.087862\n",
      "Train Epoch: 4 [4024772 (63%)]\tLoss: 0.007521\n",
      "Train Epoch: 4 [4131768 (65%)]\tLoss: 0.007932\n",
      "Train Epoch: 4 [4237415 (67%)]\tLoss: 0.049204\n",
      "Train Epoch: 4 [4343187 (68%)]\tLoss: 0.059134\n",
      "Train Epoch: 4 [4450229 (70%)]\tLoss: 0.012122\n",
      "Train Epoch: 4 [4555544 (72%)]\tLoss: 0.046162\n",
      "Train Epoch: 4 [4661470 (73%)]\tLoss: 0.016782\n",
      "Train Epoch: 4 [4766784 (75%)]\tLoss: 0.007033\n",
      "Train Epoch: 4 [4872873 (77%)]\tLoss: 0.012710\n",
      "Train Epoch: 4 [4979266 (78%)]\tLoss: 0.036065\n",
      "Train Epoch: 4 [5086063 (80%)]\tLoss: 0.058559\n",
      "Train Epoch: 4 [5191363 (82%)]\tLoss: 0.004402\n",
      "Train Epoch: 4 [5298252 (83%)]\tLoss: 0.099298\n",
      "Train Epoch: 4 [5403929 (85%)]\tLoss: 0.028496\n",
      "Train Epoch: 4 [5512022 (87%)]\tLoss: 0.124104\n",
      "Train Epoch: 4 [5618083 (88%)]\tLoss: 0.056316\n",
      "Train Epoch: 4 [5723156 (90%)]\tLoss: 0.024749\n",
      "Train Epoch: 4 [5828718 (92%)]\tLoss: 0.003276\n",
      "Train Epoch: 4 [5935556 (93%)]\tLoss: 0.114872\n",
      "Train Epoch: 4 [6041868 (95%)]\tLoss: 0.005277\n",
      "Train Epoch: 4 [6149454 (97%)]\tLoss: 0.017798\n",
      "Train Epoch: 4 [6254155 (98%)]\tLoss: 0.009842\n",
      "\n",
      "Test set: Average loss: 0.0561, Accuracy: 1044838/1064529 (98.15%)\n",
      "\n",
      "Train Epoch: 5 [984 (0%)]\tLoss: 0.009384\n",
      "Train Epoch: 5 [106970 (2%)]\tLoss: 0.007338\n",
      "Train Epoch: 5 [212563 (3%)]\tLoss: 0.013246\n",
      "Train Epoch: 5 [318104 (5%)]\tLoss: 0.008988\n",
      "Train Epoch: 5 [424424 (7%)]\tLoss: 0.071053\n",
      "Train Epoch: 5 [530469 (8%)]\tLoss: 0.016621\n",
      "Train Epoch: 5 [636061 (10%)]\tLoss: 0.106588\n",
      "Train Epoch: 5 [741681 (12%)]\tLoss: 0.055560\n",
      "Train Epoch: 5 [848602 (13%)]\tLoss: 0.019863\n",
      "Train Epoch: 5 [955323 (15%)]\tLoss: 0.018522\n",
      "Train Epoch: 5 [1059617 (17%)]\tLoss: 0.001269\n",
      "Train Epoch: 5 [1165092 (18%)]\tLoss: 0.039743\n",
      "Train Epoch: 5 [1272676 (20%)]\tLoss: 0.007798\n",
      "Train Epoch: 5 [1377003 (22%)]\tLoss: 0.042401\n",
      "Train Epoch: 5 [1483397 (23%)]\tLoss: 0.007436\n",
      "Train Epoch: 5 [1589270 (25%)]\tLoss: 0.001780\n",
      "Train Epoch: 5 [1697338 (27%)]\tLoss: 0.010505\n",
      "Train Epoch: 5 [1804830 (28%)]\tLoss: 0.003665\n",
      "Train Epoch: 5 [1913790 (30%)]\tLoss: 0.010667\n",
      "Train Epoch: 5 [2020573 (32%)]\tLoss: 0.003958\n",
      "Train Epoch: 5 [2126893 (33%)]\tLoss: 0.110625\n",
      "Train Epoch: 5 [2232239 (35%)]\tLoss: 0.264419\n",
      "Train Epoch: 5 [2339075 (37%)]\tLoss: 0.037214\n",
      "Train Epoch: 5 [2444621 (38%)]\tLoss: 0.030487\n",
      "Train Epoch: 5 [2551184 (40%)]\tLoss: 0.063197\n",
      "Train Epoch: 5 [2656854 (42%)]\tLoss: 0.020314\n",
      "Train Epoch: 5 [2762163 (43%)]\tLoss: 0.007144\n",
      "Train Epoch: 5 [2868429 (45%)]\tLoss: 0.002306\n",
      "Train Epoch: 5 [2974244 (47%)]\tLoss: 0.022883\n",
      "Train Epoch: 5 [3081933 (48%)]\tLoss: 0.001574\n",
      "Train Epoch: 5 [3187727 (50%)]\tLoss: 0.060647\n",
      "Train Epoch: 5 [3292123 (52%)]\tLoss: 0.178425\n",
      "Train Epoch: 5 [3397162 (53%)]\tLoss: 0.042205\n",
      "Train Epoch: 5 [3504123 (55%)]\tLoss: 0.012560\n",
      "Train Epoch: 5 [3611118 (57%)]\tLoss: 0.013099\n",
      "Train Epoch: 5 [3718891 (58%)]\tLoss: 0.014461\n",
      "Train Epoch: 5 [3823122 (60%)]\tLoss: 0.006336\n",
      "Train Epoch: 5 [3929162 (62%)]\tLoss: 0.093430\n",
      "Train Epoch: 5 [4034911 (63%)]\tLoss: 0.014699\n",
      "Train Epoch: 5 [4140518 (65%)]\tLoss: 0.006702\n",
      "Train Epoch: 5 [4246127 (67%)]\tLoss: 0.001525\n",
      "Train Epoch: 5 [4351057 (68%)]\tLoss: 0.010933\n",
      "Train Epoch: 5 [4457420 (70%)]\tLoss: 0.002486\n",
      "Train Epoch: 5 [4562083 (72%)]\tLoss: 0.253334\n",
      "Train Epoch: 5 [4667866 (73%)]\tLoss: 0.034651\n",
      "Train Epoch: 5 [4773919 (75%)]\tLoss: 0.391382\n",
      "Train Epoch: 5 [4881340 (77%)]\tLoss: 0.001293\n",
      "Train Epoch: 5 [4985702 (78%)]\tLoss: 0.270412\n",
      "Train Epoch: 5 [5090401 (80%)]\tLoss: 0.012779\n",
      "Train Epoch: 5 [5195782 (82%)]\tLoss: 0.013734\n",
      "Train Epoch: 5 [5301240 (83%)]\tLoss: 0.014226\n",
      "Train Epoch: 5 [5406770 (85%)]\tLoss: 0.017982\n",
      "Train Epoch: 5 [5512079 (87%)]\tLoss: 0.014896\n",
      "Train Epoch: 5 [5620537 (88%)]\tLoss: 0.024569\n",
      "Train Epoch: 5 [5725324 (90%)]\tLoss: 0.012216\n",
      "Train Epoch: 5 [5831361 (92%)]\tLoss: 0.014085\n",
      "Train Epoch: 5 [5937687 (93%)]\tLoss: 0.015666\n",
      "Train Epoch: 5 [6043268 (95%)]\tLoss: 0.109685\n",
      "Train Epoch: 5 [6148806 (97%)]\tLoss: 0.027132\n",
      "Train Epoch: 5 [6253959 (98%)]\tLoss: 0.000883\n",
      "\n",
      "Test set: Average loss: 0.0422, Accuracy: 1049725/1064529 (98.61%)\n",
      "\n",
      "Train Epoch: 6 [1052 (0%)]\tLoss: 0.002228\n",
      "Train Epoch: 6 [104387 (2%)]\tLoss: 0.030350\n",
      "Train Epoch: 6 [211550 (3%)]\tLoss: 0.033316\n",
      "Train Epoch: 6 [316792 (5%)]\tLoss: 0.026487\n",
      "Train Epoch: 6 [422643 (7%)]\tLoss: 0.010225\n",
      "Train Epoch: 6 [527987 (8%)]\tLoss: 0.013451\n",
      "Train Epoch: 6 [635754 (10%)]\tLoss: 0.052354\n",
      "Train Epoch: 6 [742366 (12%)]\tLoss: 0.007186\n",
      "Train Epoch: 6 [849353 (13%)]\tLoss: 0.001856\n",
      "Train Epoch: 6 [954885 (15%)]\tLoss: 0.004193\n",
      "Train Epoch: 6 [1059783 (17%)]\tLoss: 0.086501\n",
      "Train Epoch: 6 [1166570 (18%)]\tLoss: 0.002594\n",
      "Train Epoch: 6 [1273070 (20%)]\tLoss: 0.294075\n",
      "Train Epoch: 6 [1379412 (22%)]\tLoss: 0.263833\n",
      "Train Epoch: 6 [1487092 (23%)]\tLoss: 0.000744\n",
      "Train Epoch: 6 [1594092 (25%)]\tLoss: 0.440326\n",
      "Train Epoch: 6 [1700820 (27%)]\tLoss: 0.007636\n",
      "Train Epoch: 6 [1806221 (28%)]\tLoss: 0.137943\n",
      "Train Epoch: 6 [1913946 (30%)]\tLoss: 0.018380\n",
      "Train Epoch: 6 [2021766 (32%)]\tLoss: 0.211649\n",
      "Train Epoch: 6 [2127434 (33%)]\tLoss: 0.001342\n",
      "Train Epoch: 6 [2233571 (35%)]\tLoss: 0.005023\n",
      "Train Epoch: 6 [2337860 (37%)]\tLoss: 0.036651\n",
      "Train Epoch: 6 [2444358 (38%)]\tLoss: 0.010257\n",
      "Train Epoch: 6 [2550952 (40%)]\tLoss: 0.001512\n",
      "Train Epoch: 6 [2656925 (42%)]\tLoss: 0.091101\n",
      "Train Epoch: 6 [2761387 (43%)]\tLoss: 0.032383\n",
      "Train Epoch: 6 [2867048 (45%)]\tLoss: 0.003917\n",
      "Train Epoch: 6 [2974916 (47%)]\tLoss: 0.002596\n",
      "Train Epoch: 6 [3079872 (48%)]\tLoss: 0.004326\n",
      "Train Epoch: 6 [3183362 (50%)]\tLoss: 0.003880\n",
      "Train Epoch: 6 [3287466 (52%)]\tLoss: 0.005635\n",
      "Train Epoch: 6 [3392184 (53%)]\tLoss: 0.001779\n",
      "Train Epoch: 6 [3496722 (55%)]\tLoss: 0.004945\n",
      "Train Epoch: 6 [3600742 (57%)]\tLoss: 0.005156\n",
      "Train Epoch: 6 [3707730 (58%)]\tLoss: 0.087352\n",
      "Train Epoch: 6 [3813536 (60%)]\tLoss: 0.021525\n",
      "Train Epoch: 6 [3919848 (62%)]\tLoss: 0.022488\n",
      "Train Epoch: 6 [4025759 (63%)]\tLoss: 0.000575\n",
      "Train Epoch: 6 [4132375 (65%)]\tLoss: 0.000968\n",
      "Train Epoch: 6 [4238408 (67%)]\tLoss: 0.029293\n",
      "Train Epoch: 6 [4342705 (68%)]\tLoss: 0.043820\n",
      "Train Epoch: 6 [4448218 (70%)]\tLoss: 0.000985\n",
      "Train Epoch: 6 [4555515 (72%)]\tLoss: 0.009507\n",
      "Train Epoch: 6 [4662234 (73%)]\tLoss: 0.009724\n",
      "Train Epoch: 6 [4768603 (75%)]\tLoss: 0.166988\n",
      "Train Epoch: 6 [4873348 (77%)]\tLoss: 0.007841\n",
      "Train Epoch: 6 [4980514 (78%)]\tLoss: 0.017017\n",
      "Train Epoch: 6 [5086228 (80%)]\tLoss: 0.049739\n",
      "Train Epoch: 6 [5192601 (82%)]\tLoss: 0.010862\n",
      "Train Epoch: 6 [5298186 (83%)]\tLoss: 0.003433\n",
      "Train Epoch: 6 [5405010 (85%)]\tLoss: 0.001707\n",
      "Train Epoch: 6 [5510805 (87%)]\tLoss: 0.001970\n",
      "Train Epoch: 6 [5616561 (88%)]\tLoss: 0.009432\n",
      "Train Epoch: 6 [5723360 (90%)]\tLoss: 0.045702\n",
      "Train Epoch: 6 [5829449 (92%)]\tLoss: 0.111606\n",
      "Train Epoch: 6 [5934986 (93%)]\tLoss: 0.146720\n",
      "Train Epoch: 6 [6042332 (95%)]\tLoss: 0.008836\n",
      "Train Epoch: 6 [6147076 (97%)]\tLoss: 0.001872\n",
      "Train Epoch: 6 [6253245 (98%)]\tLoss: 0.026723\n",
      "\n",
      "Test set: Average loss: 0.0358, Accuracy: 1052583/1064529 (98.88%)\n",
      "\n",
      "Train Epoch: 7 [1136 (0%)]\tLoss: 0.006057\n",
      "Train Epoch: 7 [106674 (2%)]\tLoss: 0.140800\n",
      "Train Epoch: 7 [212152 (3%)]\tLoss: 0.001165\n",
      "Train Epoch: 7 [316731 (5%)]\tLoss: 0.003911\n",
      "Train Epoch: 7 [424059 (7%)]\tLoss: 0.033499\n",
      "Train Epoch: 7 [531083 (8%)]\tLoss: 0.002317\n",
      "Train Epoch: 7 [637249 (10%)]\tLoss: 0.000415\n",
      "Train Epoch: 7 [743961 (12%)]\tLoss: 0.003264\n",
      "Train Epoch: 7 [848759 (13%)]\tLoss: 0.000430\n",
      "Train Epoch: 7 [955302 (15%)]\tLoss: 0.008429\n",
      "Train Epoch: 7 [1061635 (17%)]\tLoss: 0.000911\n",
      "Train Epoch: 7 [1169427 (18%)]\tLoss: 0.000951\n",
      "Train Epoch: 7 [1274842 (20%)]\tLoss: 0.005478\n",
      "Train Epoch: 7 [1380428 (22%)]\tLoss: 0.007342\n",
      "Train Epoch: 7 [1485752 (23%)]\tLoss: 0.058552\n",
      "Train Epoch: 7 [1591759 (25%)]\tLoss: 0.125572\n",
      "Train Epoch: 7 [1697404 (27%)]\tLoss: 0.017507\n",
      "Train Epoch: 7 [1801092 (28%)]\tLoss: 0.060633\n",
      "Train Epoch: 7 [1908065 (30%)]\tLoss: 0.162652\n",
      "Train Epoch: 7 [2011465 (32%)]\tLoss: 0.012465\n",
      "Train Epoch: 7 [2117027 (33%)]\tLoss: 0.004142\n",
      "Train Epoch: 7 [2221993 (35%)]\tLoss: 0.002023\n",
      "Train Epoch: 7 [2326216 (37%)]\tLoss: 0.020977\n",
      "Train Epoch: 7 [2431425 (38%)]\tLoss: 0.011806\n",
      "Train Epoch: 7 [2538479 (40%)]\tLoss: 0.023302\n",
      "Train Epoch: 7 [2644080 (42%)]\tLoss: 0.000494\n",
      "Train Epoch: 7 [2750085 (43%)]\tLoss: 0.000578\n",
      "Train Epoch: 7 [2856463 (45%)]\tLoss: 0.058837\n",
      "Train Epoch: 7 [2962359 (47%)]\tLoss: 0.010229\n",
      "Train Epoch: 7 [3069557 (48%)]\tLoss: 0.001491\n",
      "Train Epoch: 7 [3176980 (50%)]\tLoss: 0.005794\n",
      "Train Epoch: 7 [3283346 (52%)]\tLoss: 0.008371\n",
      "Train Epoch: 7 [3390584 (53%)]\tLoss: 0.046551\n",
      "Train Epoch: 7 [3496086 (55%)]\tLoss: 0.004249\n",
      "Train Epoch: 7 [3601672 (57%)]\tLoss: 0.014493\n",
      "Train Epoch: 7 [3708025 (58%)]\tLoss: 0.000398\n",
      "Train Epoch: 7 [3815088 (60%)]\tLoss: 0.015797\n",
      "Train Epoch: 7 [3921421 (62%)]\tLoss: 0.454991\n",
      "Train Epoch: 7 [4027325 (63%)]\tLoss: 0.018995\n",
      "Train Epoch: 7 [4131922 (65%)]\tLoss: 0.042872\n",
      "Train Epoch: 7 [4238812 (67%)]\tLoss: 0.020478\n",
      "Train Epoch: 7 [4342686 (68%)]\tLoss: 0.004795\n",
      "Train Epoch: 7 [4448301 (70%)]\tLoss: 0.003277\n",
      "Train Epoch: 7 [4554107 (72%)]\tLoss: 0.000208\n",
      "Train Epoch: 7 [4660319 (73%)]\tLoss: 0.001391\n",
      "Train Epoch: 7 [4764453 (75%)]\tLoss: 0.001303\n",
      "Train Epoch: 7 [4868041 (77%)]\tLoss: 0.007097\n",
      "Train Epoch: 7 [4974660 (78%)]\tLoss: 0.000562\n",
      "Train Epoch: 7 [5081911 (80%)]\tLoss: 0.001223\n",
      "Train Epoch: 7 [5187446 (82%)]\tLoss: 0.018102\n",
      "Train Epoch: 7 [5293622 (83%)]\tLoss: 0.003323\n",
      "Train Epoch: 7 [5399676 (85%)]\tLoss: 0.023061\n",
      "Train Epoch: 7 [5506562 (87%)]\tLoss: 0.004555\n",
      "Train Epoch: 7 [5613945 (88%)]\tLoss: 0.006919\n",
      "Train Epoch: 7 [5719931 (90%)]\tLoss: 0.662663\n",
      "Train Epoch: 7 [5828019 (92%)]\tLoss: 0.019088\n",
      "Train Epoch: 7 [5934530 (93%)]\tLoss: 0.045789\n",
      "Train Epoch: 7 [6040708 (95%)]\tLoss: 0.062775\n",
      "Train Epoch: 7 [6145713 (97%)]\tLoss: 0.016722\n",
      "Train Epoch: 7 [6252013 (98%)]\tLoss: 0.006118\n",
      "\n",
      "Test set: Average loss: 0.0317, Accuracy: 1053907/1064529 (99.00%)\n",
      "\n",
      "Train Epoch: 8 [928 (0%)]\tLoss: 0.001219\n",
      "Train Epoch: 8 [105728 (2%)]\tLoss: 0.015361\n",
      "Train Epoch: 8 [211764 (3%)]\tLoss: 0.101171\n",
      "Train Epoch: 8 [318287 (5%)]\tLoss: 0.003116\n",
      "Train Epoch: 8 [425315 (7%)]\tLoss: 0.000798\n",
      "Train Epoch: 8 [530606 (8%)]\tLoss: 0.000573\n",
      "Train Epoch: 8 [636154 (10%)]\tLoss: 0.013876\n",
      "Train Epoch: 8 [744895 (12%)]\tLoss: 0.007060\n",
      "Train Epoch: 8 [850631 (13%)]\tLoss: 0.020441\n",
      "Train Epoch: 8 [955743 (15%)]\tLoss: 0.059198\n",
      "Train Epoch: 8 [1060999 (17%)]\tLoss: 0.000339\n",
      "Train Epoch: 8 [1165646 (18%)]\tLoss: 0.081740\n",
      "Train Epoch: 8 [1269632 (20%)]\tLoss: 0.002398\n",
      "Train Epoch: 8 [1375086 (22%)]\tLoss: 0.029491\n",
      "Train Epoch: 8 [1482146 (23%)]\tLoss: 0.006758\n",
      "Train Epoch: 8 [1589935 (25%)]\tLoss: 0.010587\n",
      "Train Epoch: 8 [1695779 (27%)]\tLoss: 0.041272\n",
      "Train Epoch: 8 [1801889 (28%)]\tLoss: 0.007103\n",
      "Train Epoch: 8 [1907192 (30%)]\tLoss: 0.032194\n",
      "Train Epoch: 8 [2012454 (32%)]\tLoss: 0.002896\n",
      "Train Epoch: 8 [2116952 (33%)]\tLoss: 0.001156\n",
      "Train Epoch: 8 [2223982 (35%)]\tLoss: 0.000219\n",
      "Train Epoch: 8 [2329793 (37%)]\tLoss: 0.056204\n",
      "Train Epoch: 8 [2435497 (38%)]\tLoss: 0.005069\n",
      "Train Epoch: 8 [2540955 (40%)]\tLoss: 0.027826\n",
      "Train Epoch: 8 [2645518 (42%)]\tLoss: 0.002272\n",
      "Train Epoch: 8 [2752902 (43%)]\tLoss: 0.024969\n",
      "Train Epoch: 8 [2857091 (45%)]\tLoss: 0.060709\n",
      "Train Epoch: 8 [2965667 (47%)]\tLoss: 0.115829\n",
      "Train Epoch: 8 [3070649 (48%)]\tLoss: 0.025569\n",
      "Train Epoch: 8 [3177705 (50%)]\tLoss: 0.014142\n",
      "Train Epoch: 8 [3283670 (52%)]\tLoss: 0.011035\n",
      "Train Epoch: 8 [3388732 (53%)]\tLoss: 0.000693\n",
      "Train Epoch: 8 [3494759 (55%)]\tLoss: 0.003621\n",
      "Train Epoch: 8 [3600194 (57%)]\tLoss: 0.000550\n",
      "Train Epoch: 8 [3706876 (58%)]\tLoss: 0.002218\n",
      "Train Epoch: 8 [3812470 (60%)]\tLoss: 0.177569\n",
      "Train Epoch: 8 [3918626 (62%)]\tLoss: 0.360999\n",
      "Train Epoch: 8 [4022834 (63%)]\tLoss: 0.000600\n",
      "Train Epoch: 8 [4129867 (65%)]\tLoss: 0.002993\n",
      "Train Epoch: 8 [4234596 (67%)]\tLoss: 0.241112\n",
      "Train Epoch: 8 [4340244 (68%)]\tLoss: 0.040906\n",
      "Train Epoch: 8 [4445363 (70%)]\tLoss: 0.091766\n"
     ]
    },
    {
     "name": "stdout",
     "output_type": "stream",
     "text": [
      "Train Epoch: 8 [4550150 (72%)]\tLoss: 0.007146\n",
      "Train Epoch: 8 [4658075 (73%)]\tLoss: 0.018153\n",
      "Train Epoch: 8 [4765812 (75%)]\tLoss: 0.011719\n",
      "Train Epoch: 8 [4870483 (77%)]\tLoss: 0.004112\n",
      "Train Epoch: 8 [4976385 (78%)]\tLoss: 0.094414\n",
      "Train Epoch: 8 [5082445 (80%)]\tLoss: 0.061623\n",
      "Train Epoch: 8 [5189733 (82%)]\tLoss: 0.027652\n",
      "Train Epoch: 8 [5296246 (83%)]\tLoss: 0.064884\n",
      "Train Epoch: 8 [5402015 (85%)]\tLoss: 0.004886\n",
      "Train Epoch: 8 [5508858 (87%)]\tLoss: 0.005349\n",
      "Train Epoch: 8 [5617545 (88%)]\tLoss: 0.059789\n",
      "Train Epoch: 8 [5724297 (90%)]\tLoss: 0.049358\n",
      "Train Epoch: 8 [5830324 (92%)]\tLoss: 0.638171\n",
      "Train Epoch: 8 [5937017 (93%)]\tLoss: 0.000469\n",
      "Train Epoch: 8 [6042843 (95%)]\tLoss: 0.009278\n",
      "Train Epoch: 8 [6148299 (97%)]\tLoss: 0.007876\n",
      "Train Epoch: 8 [6254068 (98%)]\tLoss: 0.019339\n",
      "\n",
      "Test set: Average loss: 0.0285, Accuracy: 1054746/1064529 (99.08%)\n",
      "\n",
      "Train Epoch: 9 [1072 (0%)]\tLoss: 0.086271\n",
      "Train Epoch: 9 [108929 (2%)]\tLoss: 0.005386\n",
      "Train Epoch: 9 [214534 (3%)]\tLoss: 0.002458\n",
      "Train Epoch: 9 [321162 (5%)]\tLoss: 0.080008\n",
      "Train Epoch: 9 [425648 (7%)]\tLoss: 0.146669\n",
      "Train Epoch: 9 [529653 (8%)]\tLoss: 0.001984\n",
      "Train Epoch: 9 [635875 (10%)]\tLoss: 0.014445\n",
      "Train Epoch: 9 [741885 (12%)]\tLoss: 0.005327\n",
      "Train Epoch: 9 [846978 (13%)]\tLoss: 0.007773\n",
      "Train Epoch: 9 [950947 (15%)]\tLoss: 0.002820\n",
      "Train Epoch: 9 [1056741 (17%)]\tLoss: 0.001110\n",
      "Train Epoch: 9 [1162802 (18%)]\tLoss: 0.014013\n",
      "Train Epoch: 9 [1267587 (20%)]\tLoss: 0.004584\n",
      "Train Epoch: 9 [1372631 (22%)]\tLoss: 0.000943\n",
      "Train Epoch: 9 [1478941 (23%)]\tLoss: 0.005544\n",
      "Train Epoch: 9 [1583775 (25%)]\tLoss: 0.000640\n",
      "Train Epoch: 9 [1691367 (27%)]\tLoss: 0.002818\n",
      "Train Epoch: 9 [1798410 (28%)]\tLoss: 0.005684\n",
      "Train Epoch: 9 [1903653 (30%)]\tLoss: 0.030683\n",
      "Train Epoch: 9 [2008488 (32%)]\tLoss: 0.002309\n",
      "Train Epoch: 9 [2113653 (33%)]\tLoss: 0.005867\n",
      "Train Epoch: 9 [2219526 (35%)]\tLoss: 0.759985\n",
      "Train Epoch: 9 [2325487 (37%)]\tLoss: 0.007967\n",
      "Train Epoch: 9 [2432104 (38%)]\tLoss: 0.003261\n",
      "Train Epoch: 9 [2537515 (40%)]\tLoss: 0.000807\n",
      "Train Epoch: 9 [2643548 (42%)]\tLoss: 0.002711\n",
      "Train Epoch: 9 [2751584 (43%)]\tLoss: 0.014890\n",
      "Train Epoch: 9 [2856123 (45%)]\tLoss: 0.005614\n",
      "Train Epoch: 9 [2964491 (47%)]\tLoss: 0.001944\n",
      "Train Epoch: 9 [3071783 (48%)]\tLoss: 0.048244\n",
      "Train Epoch: 9 [3177846 (50%)]\tLoss: 0.014863\n",
      "Train Epoch: 9 [3284716 (52%)]\tLoss: 0.012217\n",
      "Train Epoch: 9 [3388849 (53%)]\tLoss: 0.002533\n",
      "Train Epoch: 9 [3495442 (55%)]\tLoss: 0.001048\n",
      "Train Epoch: 9 [3602966 (57%)]\tLoss: 0.007491\n",
      "Train Epoch: 9 [3708800 (58%)]\tLoss: 0.045324\n",
      "Train Epoch: 9 [3816480 (60%)]\tLoss: 0.003535\n",
      "Train Epoch: 9 [3921650 (62%)]\tLoss: 0.006161\n",
      "Train Epoch: 9 [4028683 (63%)]\tLoss: 0.036795\n",
      "Train Epoch: 9 [4134585 (65%)]\tLoss: 0.024257\n",
      "Train Epoch: 9 [4240112 (67%)]\tLoss: 0.003504\n",
      "Train Epoch: 9 [4345134 (68%)]\tLoss: 0.002317\n",
      "Train Epoch: 9 [4452312 (70%)]\tLoss: 0.175022\n",
      "Train Epoch: 9 [4559063 (72%)]\tLoss: 0.023411\n",
      "Train Epoch: 9 [4666345 (73%)]\tLoss: 0.001274\n",
      "Train Epoch: 9 [4772959 (75%)]\tLoss: 0.027865\n",
      "Train Epoch: 9 [4879011 (77%)]\tLoss: 0.002947\n",
      "Train Epoch: 9 [4984681 (78%)]\tLoss: 0.002496\n",
      "Train Epoch: 9 [5088760 (80%)]\tLoss: 0.177450\n",
      "Train Epoch: 9 [5195411 (82%)]\tLoss: 0.001328\n",
      "Train Epoch: 9 [5300947 (83%)]\tLoss: 0.030863\n",
      "Train Epoch: 9 [5405680 (85%)]\tLoss: 0.033689\n",
      "Train Epoch: 9 [5511270 (87%)]\tLoss: 0.028398\n",
      "Train Epoch: 9 [5617490 (88%)]\tLoss: 0.001450\n",
      "Train Epoch: 9 [5723090 (90%)]\tLoss: 0.000217\n",
      "Train Epoch: 9 [5830567 (92%)]\tLoss: 0.028964\n",
      "Train Epoch: 9 [5936315 (93%)]\tLoss: 0.212349\n",
      "Train Epoch: 9 [6041414 (95%)]\tLoss: 0.003326\n",
      "Train Epoch: 9 [6147753 (97%)]\tLoss: 0.026396\n",
      "Train Epoch: 9 [6253601 (98%)]\tLoss: 0.008673\n",
      "\n",
      "Test set: Average loss: 0.0280, Accuracy: 1054842/1064529 (99.09%)\n",
      "\n",
      "Train Epoch: 10 [1168 (0%)]\tLoss: 0.326403\n",
      "Train Epoch: 10 [107463 (2%)]\tLoss: 0.037712\n",
      "Train Epoch: 10 [211126 (3%)]\tLoss: 0.007471\n",
      "Train Epoch: 10 [315116 (5%)]\tLoss: 0.143693\n",
      "Train Epoch: 10 [420382 (7%)]\tLoss: 0.101115\n",
      "Train Epoch: 10 [526239 (8%)]\tLoss: 0.000446\n",
      "Train Epoch: 10 [633730 (10%)]\tLoss: 0.000751\n",
      "Train Epoch: 10 [741824 (12%)]\tLoss: 0.183771\n",
      "Train Epoch: 10 [848114 (13%)]\tLoss: 0.021340\n",
      "Train Epoch: 10 [953323 (15%)]\tLoss: 0.002468\n",
      "Train Epoch: 10 [1059145 (17%)]\tLoss: 0.001744\n",
      "Train Epoch: 10 [1164492 (18%)]\tLoss: 0.019182\n",
      "Train Epoch: 10 [1271264 (20%)]\tLoss: 0.000282\n",
      "Train Epoch: 10 [1377043 (22%)]\tLoss: 0.010552\n",
      "Train Epoch: 10 [1482021 (23%)]\tLoss: 0.015042\n",
      "Train Epoch: 10 [1586588 (25%)]\tLoss: 0.031047\n",
      "Train Epoch: 10 [1691706 (27%)]\tLoss: 0.001276\n",
      "Train Epoch: 10 [1798522 (28%)]\tLoss: 0.006513\n",
      "Train Epoch: 10 [1905759 (30%)]\tLoss: 0.012738\n",
      "Train Epoch: 10 [2012253 (32%)]\tLoss: 0.001243\n",
      "Train Epoch: 10 [2117933 (33%)]\tLoss: 0.022083\n",
      "Train Epoch: 10 [2222376 (35%)]\tLoss: 0.001470\n",
      "Train Epoch: 10 [2328379 (37%)]\tLoss: 0.011637\n",
      "Train Epoch: 10 [2433446 (38%)]\tLoss: 0.029366\n",
      "Train Epoch: 10 [2539722 (40%)]\tLoss: 0.115365\n",
      "Train Epoch: 10 [2645498 (42%)]\tLoss: 0.000442\n",
      "Train Epoch: 10 [2751227 (43%)]\tLoss: 0.000146\n",
      "Train Epoch: 10 [2857726 (45%)]\tLoss: 0.004005\n",
      "Train Epoch: 10 [2962920 (47%)]\tLoss: 0.024543\n",
      "Train Epoch: 10 [3069120 (48%)]\tLoss: 0.045878\n",
      "Train Epoch: 10 [3173508 (50%)]\tLoss: 0.011515\n",
      "Train Epoch: 10 [3277928 (52%)]\tLoss: 0.326667\n",
      "Train Epoch: 10 [3384833 (53%)]\tLoss: 0.041980\n",
      "Train Epoch: 10 [3490317 (55%)]\tLoss: 0.004262\n",
      "Train Epoch: 10 [3596782 (57%)]\tLoss: 0.007620\n",
      "Train Epoch: 10 [3703461 (58%)]\tLoss: 0.140750\n",
      "Train Epoch: 10 [3810720 (60%)]\tLoss: 0.013445\n",
      "Train Epoch: 10 [3916423 (62%)]\tLoss: 0.000410\n",
      "Train Epoch: 10 [4021217 (63%)]\tLoss: 0.038590\n",
      "Train Epoch: 10 [4128417 (65%)]\tLoss: 0.017245\n",
      "Train Epoch: 10 [4233609 (67%)]\tLoss: 0.003256\n",
      "Train Epoch: 10 [4339935 (68%)]\tLoss: 0.000046\n",
      "Train Epoch: 10 [4445604 (70%)]\tLoss: 0.009851\n",
      "Train Epoch: 10 [4553565 (72%)]\tLoss: 0.003102\n",
      "Train Epoch: 10 [4661709 (73%)]\tLoss: 0.331428\n",
      "Train Epoch: 10 [4769369 (75%)]\tLoss: 0.009013\n",
      "Train Epoch: 10 [4876007 (77%)]\tLoss: 0.099678\n",
      "Train Epoch: 10 [4981995 (78%)]\tLoss: 0.021957\n",
      "Train Epoch: 10 [5087839 (80%)]\tLoss: 0.002564\n",
      "Train Epoch: 10 [5192669 (82%)]\tLoss: 0.006616\n",
      "Train Epoch: 10 [5299039 (83%)]\tLoss: 0.621308\n",
      "Train Epoch: 10 [5405944 (85%)]\tLoss: 0.026302\n",
      "Train Epoch: 10 [5510139 (87%)]\tLoss: 0.000908\n",
      "Train Epoch: 10 [5614494 (88%)]\tLoss: 0.287101\n",
      "Train Epoch: 10 [5722434 (90%)]\tLoss: 0.002220\n",
      "Train Epoch: 10 [5828692 (92%)]\tLoss: 0.001544\n",
      "Train Epoch: 10 [5935321 (93%)]\tLoss: 0.000293\n",
      "Train Epoch: 10 [6041101 (95%)]\tLoss: 0.014855\n",
      "Train Epoch: 10 [6147510 (97%)]\tLoss: 0.026026\n",
      "Train Epoch: 10 [6252102 (98%)]\tLoss: 0.009589\n",
      "\n",
      "Test set: Average loss: 0.0268, Accuracy: 1055090/1064529 (99.11%)\n",
      "\n"
     ]
    }
   ],
   "source": [
    "n_epochs = 10\n",
    "\n",
    "for model in [FCNet5, FCNet10, Conv1DNet, Conv2DNet]:\n",
    "    \n",
    "    model = model().to(device)\n",
    "    optimizer = optim.SGD(model.parameters(), lr=0.01, momentum=0.5)\n",
    "\n",
    "    m_type = model.__class__.__name__\n",
    "    \n",
    "    print('training for model', m_type)\n",
    "    \n",
    "    for epoch in range(1, n_epochs + 1):\n",
    "        augmented_train(model, device, train_loader, optimizer, epoch, generate_all_translations)\n",
    "        acc = augmented_test(model, device, test_loader, generate_all_translations)  \n",
    "\n",
    "    torch.save(model.state_dict(), 'pretrained_models/mnist/augmented/model_aug_' + m_type + '_' + str(datetime.datetime.now()).replace(':','.') + '_' + str(acc) + '.pth')"
   ]
  },
  {
   "cell_type": "code",
   "execution_count": 100,
   "metadata": {},
   "outputs": [
    {
     "name": "stdout",
     "output_type": "stream",
     "text": [
      "loading model pretrained_models/mnist/augmented\\model_aug_FCNet5_2020-04-26 02.41.18.935903_97.24.pth\n",
      "loading model pretrained_models/mnist/augmented\\model_aug_FCNet10_2020-04-26 03.04.57.306076_16.76.pth\n",
      "loading model pretrained_models/mnist/augmented\\model_aug_Conv1DNet_2020-04-26 03.41.38.799053_98.23.pth\n",
      "loading model pretrained_models/mnist/augmented\\model_aug_Conv2DNet_2020-04-26 04.01.27.629164_99.11.pth\n"
     ]
    }
   ],
   "source": [
    "weight_dir = \"pretrained_models/mnist/augmented/\"\n",
    "\n",
    "## DenseNet5\n",
    "fcnet5 = FCNet5().to(device)\n",
    "fcnet5 = get_pretrained_weights(fcnet5, weight_dir) \n",
    "\n",
    "## DenseNet10\n",
    "fcnet10 = FCNet10().to(device) \n",
    "fcnet10 = get_pretrained_weights(fcnet10, weight_dir) \n",
    "\n",
    "## Conv1DNet\n",
    "conv1dnet = Conv1DNet().to(device)\n",
    "conv1dnet = get_pretrained_weights(conv1dnet, weight_dir) \n",
    "\n",
    "## Conv2DNet\n",
    "conv2dnet = Conv2DNet().to(device)\n",
    "conv2dnet = get_pretrained_weights(conv2dnet, weight_dir) "
   ]
  },
  {
   "cell_type": "code",
   "execution_count": 101,
   "metadata": {},
   "outputs": [],
   "source": [
    "data_dir = \"C:\\data\\MNIST\"\n",
    "batch_size_test = 100\n",
    "\n",
    "test_loader = torch.utils.data.DataLoader(\n",
    "    torchvision.datasets.MNIST(data_dir, train=False, download=True,\n",
    "                         transform=torchvision.transforms.Compose([\n",
    "                           torchvision.transforms.ToTensor()\n",
    "                         ])),\n",
    "    batch_size=batch_size_test, shuffle=False, pin_memory=True)\n",
    "\n",
    "inputs, targets = next(iter(test_loader))\n",
    "inputs = inputs.to(device)\n",
    "targets = targets.to(device)"
   ]
  },
  {
   "cell_type": "code",
   "execution_count": 103,
   "metadata": {},
   "outputs": [],
   "source": [
    "inputs = inputs.cpu()\n",
    "targets = targets.cpu()\n",
    "\n",
    "new_inputs = new_inputs.cpu()\n",
    "new_targets = new_targets.cpu()"
   ]
  },
  {
   "cell_type": "code",
   "execution_count": 104,
   "metadata": {},
   "outputs": [
    {
     "name": "stdout",
     "output_type": "stream",
     "text": [
      "model_type: FCNet5 \t orig_acc: 0.9800 \t new_acc: 0.9894\n",
      "model_type: FCNet10 \t orig_acc: 0.1400 \t new_acc: 0.2189\n",
      "model_type: Conv1DNet \t orig_acc: 0.9700 \t new_acc: 0.9795\n",
      "model_type: Conv2DNet \t orig_acc: 1.0000 \t new_acc: 0.9958\n"
     ]
    }
   ],
   "source": [
    "for model in [fcnet5, fcnet10, conv1dnet, conv2dnet]:\n",
    "    model.cpu()\n",
    "    model.eval()\n",
    "    model_type = model.__class__.__name__    \n",
    "    orig_acc = get_accuracy(model, inputs, targets) \n",
    "    new_acc = get_accuracy(model, new_inputs, new_targets) \n",
    "    print(\"model_type: {} \\t orig_acc: {:.4f} \\t new_acc: {:.4f}\".format(model_type, orig_acc.item(), new_acc.item()))"
   ]
  },
  {
   "cell_type": "code",
   "execution_count": 105,
   "metadata": {},
   "outputs": [],
   "source": [
    "# for model in [fcnet5, fcnet10, conv1dnet, conv2dnet]:\n",
    "#     model_type = model.__class__.__name__    \n",
    "#     print('model_type', model_type)\n",
    "#     acc = augmented_test(model, device, test_loader, generate_all_translations)  "
   ]
  },
  {
   "cell_type": "code",
   "execution_count": null,
   "metadata": {},
   "outputs": [],
   "source": []
  },
  {
   "cell_type": "code",
   "execution_count": null,
   "metadata": {},
   "outputs": [],
   "source": []
  },
  {
   "cell_type": "code",
   "execution_count": null,
   "metadata": {},
   "outputs": [],
   "source": []
  },
  {
   "cell_type": "code",
   "execution_count": null,
   "metadata": {},
   "outputs": [],
   "source": []
  },
  {
   "cell_type": "code",
   "execution_count": null,
   "metadata": {},
   "outputs": [],
   "source": []
  }
 ],
 "metadata": {
  "kernelspec": {
   "display_name": "Python 3",
   "language": "python",
   "name": "python3"
  },
  "language_info": {
   "codemirror_mode": {
    "name": "ipython",
    "version": 3
   },
   "file_extension": ".py",
   "mimetype": "text/x-python",
   "name": "python",
   "nbconvert_exporter": "python",
   "pygments_lexer": "ipython3",
   "version": "3.7.3"
  }
 },
 "nbformat": 4,
 "nbformat_minor": 2
}
